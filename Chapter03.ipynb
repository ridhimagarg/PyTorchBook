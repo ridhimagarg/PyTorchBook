{
  "nbformat": 4,
  "nbformat_minor": 0,
  "metadata": {
    "colab": {
      "name": "Chapter03.ipynb",
      "provenance": [],
      "collapsed_sections": [],
      "mount_file_id": "105pcJ50wyS7dNRspirtrvL22t7NN5Jnf",
      "authorship_tag": "ABX9TyP3WUWcR179VOjnV1PZCec9",
      "include_colab_link": true
    },
    "kernelspec": {
      "name": "python3",
      "display_name": "Python 3"
    },
    "language_info": {
      "name": "python"
    }
  },
  "cells": [
    {
      "cell_type": "markdown",
      "metadata": {
        "id": "view-in-github",
        "colab_type": "text"
      },
      "source": [
        "<a href=\"https://colab.research.google.com/github/ridhimagarg/PyTorchBook/blob/main/Chapter03.ipynb\" target=\"_parent\"><img src=\"https://colab.research.google.com/assets/colab-badge.svg\" alt=\"Open In Colab\"/></a>"
      ]
    },
    {
      "cell_type": "code",
      "execution_count": 13,
      "metadata": {
        "id": "jA16vsQZaiY7"
      },
      "outputs": [],
      "source": [
        "import numpy as np\n",
        "import sys\n",
        "import matplotlib.pyplot as plt\n",
        "\n",
        "\n",
        "import torch\n",
        "import torch.optim as optim\n",
        "import torch.nn as nn\n",
        "import torch.functional as F\n",
        "from torch.utils.data import DataLoader, TensorDataset\n",
        "\n",
        "\n",
        "from sklearn.datasets import make_moons\n",
        "from sklearn.preprocessing import StandardScaler\n",
        "from sklearn.model_selection import train_test_split\n",
        "from sklearn.metrics import confusion_matrix, roc_curve, precision_recall_curve, auc\n",
        "\n",
        "# from stepbystep.vo import StepByStep ## uncomment this if working on local\n",
        "from v0 import StepByStep ## this is for google drive"
      ]
    },
    {
      "cell_type": "code",
      "source": [
        "X, y = make_moons(n_samples=100, noise=0.3, random_state=0)"
      ],
      "metadata": {
        "id": "bGwnxY7VkCeA"
      },
      "execution_count": 14,
      "outputs": []
    },
    {
      "cell_type": "code",
      "source": [
        "X_train, X_val, y_train, y_val = train_test_split(X, y, test_size=.2, random_state=13)"
      ],
      "metadata": {
        "id": "p53yHqWEqJtB"
      },
      "execution_count": 15,
      "outputs": []
    },
    {
      "cell_type": "code",
      "source": [
        "sc = StandardScaler()\n",
        "sc.fit(X_train)\n",
        "\n",
        "X_train = sc.transform(X_train)\n",
        "X_val = sc.transform(X_val)"
      ],
      "metadata": {
        "id": "LaxKF6FhoPsA"
      },
      "execution_count": 16,
      "outputs": []
    },
    {
      "cell_type": "code",
      "source": [
        "print(X)"
      ],
      "metadata": {
        "colab": {
          "base_uri": "https://localhost:8080/"
        },
        "id": "Cr7jJpCuoxYq",
        "outputId": "9f0ddb66-b0e5-4102-90a1-3d4d38acc581"
      },
      "execution_count": 17,
      "outputs": [
        {
          "output_type": "stream",
          "name": "stdout",
          "text": [
            "[[ 0.03159499  0.98698776]\n",
            " [ 2.11509784 -0.04624397]\n",
            " [ 0.88248972 -0.07575606]\n",
            " [-0.0551441  -0.03733246]\n",
            " [ 0.82954503 -0.53932149]\n",
            " [ 2.11285708  0.66208353]\n",
            " [ 0.5696927   0.33744136]\n",
            " [ 0.95217454 -0.75307471]\n",
            " [-0.02922115  0.39287336]\n",
            " [ 1.71579557  0.36069454]\n",
            " [-0.27883014  0.61420539]\n",
            " [ 2.00344509 -0.3091496 ]\n",
            " [ 1.50009616 -0.74636376]\n",
            " [ 1.22540835  1.19793017]\n",
            " [ 0.46730819  0.54703192]\n",
            " [-0.36653222  1.11971633]\n",
            " [ 0.30124459  1.23315697]\n",
            " [ 0.30430746  0.82373935]\n",
            " [-0.23712492  0.77876034]\n",
            " [ 1.16339832  0.55290238]\n",
            " [-0.59702417  0.6572361 ]\n",
            " [ 0.46356735 -0.1951543 ]\n",
            " [ 0.68451111  0.75287685]\n",
            " [ 0.70515699 -0.45892444]\n",
            " [-0.65805008 -0.12944211]\n",
            " [-0.74662946 -0.3829632 ]\n",
            " [ 0.60585226  0.31252842]\n",
            " [ 2.18137168 -0.02291747]\n",
            " [ 1.91980633  0.17247329]\n",
            " [ 1.4834364  -0.10517023]\n",
            " [ 0.47404723 -0.14575067]\n",
            " [ 1.05614605 -1.03570207]\n",
            " [ 1.86500732 -0.01107874]\n",
            " [ 0.4194721  -0.32478101]\n",
            " [ 0.06873258  0.56648467]\n",
            " [-0.17332432  1.00215131]\n",
            " [ 0.12412421  1.00062892]\n",
            " [ 0.18121142  0.24717743]\n",
            " [-0.25451559  0.19317272]\n",
            " [ 1.02580668 -0.62574566]\n",
            " [ 1.52002143 -0.04515581]\n",
            " [ 0.64174037 -0.39369468]\n",
            " [-0.87615589  0.0465662 ]\n",
            " [-1.06964997  0.13666025]\n",
            " [ 1.02658765  0.37782458]\n",
            " [ 0.93131325  1.38517841]\n",
            " [ 0.67680544  1.57189931]\n",
            " [-0.36885733  0.72886601]\n",
            " [-1.02465495  0.16190215]\n",
            " [ 0.77455385  0.15375803]\n",
            " [ 1.4045116  -0.00705701]\n",
            " [-0.38147174 -0.23488747]\n",
            " [ 0.72155224  0.44721658]\n",
            " [-0.51346686  0.67869095]\n",
            " [ 0.32118546  0.28668667]\n",
            " [ 0.1953628   0.16085107]\n",
            " [ 0.52824196  0.98300993]\n",
            " [-0.2216539   0.25160139]\n",
            " [ 0.22334676  1.32217183]\n",
            " [-0.10704572  0.56178326]\n",
            " [ 0.63651685  0.75444825]\n",
            " [-0.37227848  0.99291317]\n",
            " [ 0.20718083 -0.09767143]\n",
            " [ 0.12733142 -0.3796549 ]\n",
            " [ 0.71435231 -0.79994161]\n",
            " [ 1.09487814 -0.36841845]\n",
            " [-0.14814362  0.96158657]\n",
            " [ 1.586188   -0.62984517]\n",
            " [ 0.74444551  0.57661371]\n",
            " [ 2.18011028 -0.69977751]\n",
            " [ 0.24575594  0.8496383 ]\n",
            " [-0.95003581  0.90361699]\n",
            " [-0.88230758  0.07249044]\n",
            " [ 2.02297079  0.12325148]\n",
            " [ 2.14577321  0.46296362]\n",
            " [ 0.35536468 -0.67847989]\n",
            " [ 0.34665026  1.11570676]\n",
            " [ 1.7392373   0.45900352]\n",
            " [ 0.63856467 -0.44718443]\n",
            " [ 1.2876687  -0.4910366 ]\n",
            " [-0.13772607  1.2453262 ]\n",
            " [-0.56175303  1.05486051]\n",
            " [ 1.29003748 -0.20691405]\n",
            " [-0.87539365  0.50543423]\n",
            " [-0.92858249 -0.45631991]\n",
            " [ 0.02493632  0.10747958]\n",
            " [ 0.1972559  -0.06801668]\n",
            " [ 0.73346056  0.28161929]\n",
            " [ 1.68294434 -0.2020423 ]\n",
            " [ 0.50764124 -0.11731979]\n",
            " [ 1.66760217 -0.42485665]\n",
            " [-0.82172282  0.63141066]\n",
            " [ 0.30170903  0.78603534]\n",
            " [ 1.37671505 -0.80915107]\n",
            " [ 1.17037551  0.59840653]\n",
            " [ 1.69945309  0.58771967]\n",
            " [ 0.21862323 -0.65252119]\n",
            " [ 0.95291428 -0.41976564]\n",
            " [-1.31850034  0.42311235]\n",
            " [-1.29681764  0.18414709]]\n"
          ]
        }
      ]
    },
    {
      "cell_type": "code",
      "source": [
        "plt.scatter(X_train[:, 0], X_train[:, 1], c=y_train)\n",
        "plt.title(\"Generated Data - Train\")\n",
        "plt.xlabel(\"$X_1$\")\n",
        "plt.ylabel(\"$X_2$\")"
      ],
      "metadata": {
        "colab": {
          "base_uri": "https://localhost:8080/",
          "height": 344
        },
        "id": "jm-soTKoodN0",
        "outputId": "b6ce09a5-2786-4d66-9293-d60838bd6c97"
      },
      "execution_count": 18,
      "outputs": [
        {
          "output_type": "execute_result",
          "data": {
            "text/plain": [
              "Text(0, 0.5, '$X_2$')"
            ]
          },
          "metadata": {},
          "execution_count": 18
        },
        {
          "output_type": "display_data",
          "data": {
            "text/plain": [
              "<Figure size 432x288 with 1 Axes>"
            ],
            "image/png": "[encoded data removed]"
          },
          "metadata": {}
        }
      ]
    },
    {
      "cell_type": "code",
      "source": [
        "plt.scatter(X_val[:, 0], X_val[:, 1], c=y_val)\n",
        "plt.title(\"Generated Data - Val\")\n",
        "plt.xlabel(\"$X_1$\")\n",
        "plt.ylabel(\"$X_2$\")"
      ],
      "metadata": {
        "colab": {
          "base_uri": "https://localhost:8080/",
          "height": 344
        },
        "id": "C8OyYX64o1Q-",
        "outputId": "71ab8cb3-748d-4216-e73f-2c056bf85346"
      },
      "execution_count": 19,
      "outputs": [
        {
          "output_type": "execute_result",
          "data": {
            "text/plain": [
              "Text(0, 0.5, '$X_2$')"
            ]
          },
          "metadata": {},
          "execution_count": 19
        },
        {
          "output_type": "display_data",
          "data": {
            "text/plain": [
              "<Figure size 432x288 with 1 Axes>"
            ],
            "image/png": "[encoded data removed]"
          },
          "metadata": {}
        }
      ]
    },
    {
      "cell_type": "markdown",
      "source": [
        "## Data Preparation"
      ],
      "metadata": {
        "id": "MMQ1e4JxsRqK"
      }
    },
    {
      "cell_type": "code",
      "source": [
        "torch.manual_seed(13)\n",
        "\n",
        "x_train_tensor = torch.as_tensor(X_train).float()\n",
        "y_train_tensor = torch.as_tensor(y_train.reshape(-1,1)).float()\n",
        "\n",
        "x_val_tensor = torch.as_tensor(X_val).float()\n",
        "y_val_tensor = torch.as_tensor(y_val.reshape(-1,1)).float()\n",
        "\n",
        "train_dataset = TensorDataset(x_train_tensor, y_train_tensor)\n",
        "val_dataset = TensorDataset(x_val_tensor, y_val_tensor)\n",
        "\n",
        "train_loader = DataLoader(dataset=train_dataset, batch_size=16, shuffle=True)\n",
        "val_loader = DataLoader(dataset=val_dataset, batch_size=16)"
      ],
      "metadata": {
        "id": "N1qqD542sCdW"
      },
      "execution_count": 20,
      "outputs": []
    },
    {
      "cell_type": "markdown",
      "source": [
        "## Model"
      ],
      "metadata": {
        "id": "bWmCsMq23mk-"
      }
    },
    {
      "cell_type": "code",
      "source": [
        "torch.manual_seed(42)\n",
        "model1 = nn.Sequential()\n",
        "model1.add_module('linear', nn.Linear(2,1))\n",
        "model1.add_module('sigmoid', nn.Sigmoid())\n",
        "print(model1.state_dict())"
      ],
      "metadata": {
        "colab": {
          "base_uri": "https://localhost:8080/"
        },
        "id": "CB0m7aPgvNGn",
        "outputId": "ed23458a-3c14-4079-ece5-2bae592b7f2e"
      },
      "execution_count": 21,
      "outputs": [
        {
          "output_type": "stream",
          "name": "stdout",
          "text": [
            "OrderedDict([('linear.weight', tensor([[0.5406, 0.5869]])), ('linear.bias', tensor([-0.1657]))])\n"
          ]
        }
      ]
    },
    {
      "cell_type": "markdown",
      "source": [
        "## Loss"
      ],
      "metadata": {
        "id": "XFi_zG7po12Z"
      }
    },
    {
      "cell_type": "code",
      "source": [
        "## Work on dummy data\n",
        "\n",
        "dummy_labels = torch.tensor([1.0, 0.0])\n",
        "dummy_predictions = torch.tensor([.9, .2])\n",
        "\n",
        "positive_pred = dummy_predictions[dummy_labels ==1]\n",
        "first_summation = torch.log(positive_pred).sum()\n",
        "\n",
        "negative_pred = dummy_predictions[dummy_labels ==0]\n",
        "second_summation = torch.log(1- negative_pred).sum()\n",
        "\n",
        "n_total = dummy_labels.size(0)\n",
        "\n",
        "loss = -(first_summation + second_summation) /n_total\n",
        "print(loss)"
      ],
      "metadata": {
        "id": "JDFNNueO328s",
        "colab": {
          "base_uri": "https://localhost:8080/"
        },
        "outputId": "f35204db-6845-43bd-f48f-c73d05ada934"
      },
      "execution_count": 22,
      "outputs": [
        {
          "output_type": "stream",
          "name": "stdout",
          "text": [
            "tensor(0.1643)\n"
          ]
        }
      ]
    },
    {
      "cell_type": "code",
      "source": [
        "## Clever way of writing the code\n",
        "\n",
        "summation = torch.sum(\n",
        "    dummy_labels * torch.log(dummy_predictions) +\n",
        "    (1- dummy_labels) * torch.log(1- dummy_predictions)\n",
        ")\n",
        "\n",
        "loss = -summation /n_total\n",
        "print(loss)"
      ],
      "metadata": {
        "colab": {
          "base_uri": "https://localhost:8080/"
        },
        "id": "crtSz1xwpxkM",
        "outputId": "8a5e4ff9-beeb-490d-cd4a-8e2fe2f7df6d"
      },
      "execution_count": 23,
      "outputs": [
        {
          "output_type": "stream",
          "name": "stdout",
          "text": [
            "tensor(0.1643)\n"
          ]
        }
      ]
    },
    {
      "cell_type": "code",
      "source": [
        "loss_fn = nn.BCELoss(reduction = \"mean\")\n",
        "\n",
        "loss_fn"
      ],
      "metadata": {
        "colab": {
          "base_uri": "https://localhost:8080/"
        },
        "id": "-5G9UHujrlYY",
        "outputId": "a8c4ffd2-08f9-405b-bd21-9b7e55ea812f"
      },
      "execution_count": 24,
      "outputs": [
        {
          "output_type": "execute_result",
          "data": {
            "text/plain": [
              "BCELoss()"
            ]
          },
          "metadata": {},
          "execution_count": 24
        }
      ]
    },
    {
      "cell_type": "code",
      "source": [
        "def odds_ratio(prob):\n",
        "  return prob/(1- prob)"
      ],
      "metadata": {
        "id": "iH_1BlN7zjSe"
      },
      "execution_count": 25,
      "outputs": []
    },
    {
      "cell_type": "code",
      "source": [
        "def log_odds_ratio(prob):\n",
        "  return np.log(odds_ratio(prob))\n"
      ],
      "metadata": {
        "id": "_Qx5Veres3TU"
      },
      "execution_count": 26,
      "outputs": []
    },
    {
      "cell_type": "code",
      "source": [
        "loss_fn_logits = nn.BCEWithLogitsLoss(reduction=\"mean\")\n",
        "loss_fn_logits"
      ],
      "metadata": {
        "colab": {
          "base_uri": "https://localhost:8080/"
        },
        "id": "j_1jQAEazRtK",
        "outputId": "00b2eb14-448c-41fb-a3e7-0ca4ef0e2f45"
      },
      "execution_count": 27,
      "outputs": [
        {
          "output_type": "execute_result",
          "data": {
            "text/plain": [
              "BCEWithLogitsLoss()"
            ]
          },
          "metadata": {},
          "execution_count": 27
        }
      ]
    },
    {
      "cell_type": "code",
      "source": [
        "## dummy data\n",
        "\n",
        "logit1 = log_odds_ratio(.9)\n",
        "logit2 = log_odds_ratio(.2)\n",
        "\n",
        "dummy_labels = torch.tensor([1.0, 0.0])\n",
        "dummy_logits = torch.tensor([logit1, logit2])\n",
        "\n",
        "print(dummy_logits)"
      ],
      "metadata": {
        "colab": {
          "base_uri": "https://localhost:8080/"
        },
        "id": "AciXN_KLz907",
        "outputId": "ee1bdce4-e7d4-47e7-c9a0-11efcbfbdd2c"
      },
      "execution_count": 28,
      "outputs": [
        {
          "output_type": "stream",
          "name": "stdout",
          "text": [
            "tensor([ 2.1972, -1.3863], dtype=torch.float64)\n"
          ]
        }
      ]
    },
    {
      "cell_type": "code",
      "source": [
        "loss = loss_fn_logits(dummy_logits, dummy_labels)\n",
        "loss"
      ],
      "metadata": {
        "colab": {
          "base_uri": "https://localhost:8080/"
        },
        "id": "YJ4h6vPa0sw1",
        "outputId": "f09b138b-4160-42af-9d42-261918969b32"
      },
      "execution_count": 29,
      "outputs": [
        {
          "output_type": "execute_result",
          "data": {
            "text/plain": [
              "tensor(0.1643)"
            ]
          },
          "metadata": {},
          "execution_count": 29
        }
      ]
    },
    {
      "cell_type": "markdown",
      "source": [
        "### When Imbalanced data"
      ],
      "metadata": {
        "id": "nvNyJBR61D25"
      }
    },
    {
      "cell_type": "code",
      "source": [
        "## creating dummy imbalanced dataset\n",
        "dummy_imb_labels = torch.tensor([1.0, 0.0, 0.0, 0.0])\n",
        "dummy_imb_logits = torch.tensor([logit1, logit2, logit2, logit2])"
      ],
      "metadata": {
        "id": "odlH2Y_G0217"
      },
      "execution_count": 30,
      "outputs": []
    },
    {
      "cell_type": "code",
      "source": [
        "## Weight calculation\n",
        "\n",
        "n_neg = (dummy_imb_labels ==0).sum().float()\n",
        "n_pos = (dummy_imb_labels ==1).sum().float()\n",
        "\n",
        "pos_weight = (n_neg/ n_pos).view(1, )\n",
        "pos_weight"
      ],
      "metadata": {
        "colab": {
          "base_uri": "https://localhost:8080/"
        },
        "id": "LhWEQrM-1PAv",
        "outputId": "38188939-54f5-40b0-899a-2d36b86de5ae"
      },
      "execution_count": 31,
      "outputs": [
        {
          "output_type": "execute_result",
          "data": {
            "text/plain": [
              "tensor([3.])"
            ]
          },
          "metadata": {},
          "execution_count": 31
        }
      ]
    },
    {
      "cell_type": "code",
      "source": [
        "## another loss function\n",
        "loss_fn_imb = nn.BCEWithLogitsLoss(\n",
        "  reduction='mean',\n",
        "  pos_weight=pos_weight\n",
        ")\n"
      ],
      "metadata": {
        "id": "6hLi253C2lmu"
      },
      "execution_count": 32,
      "outputs": []
    },
    {
      "cell_type": "code",
      "source": [
        "loss = loss_fn_imb(dummy_imb_logits, dummy_imb_labels)\n",
        "loss\n",
        "## But its different, what we want is this -:\n"
      ],
      "metadata": {
        "colab": {
          "base_uri": "https://localhost:8080/"
        },
        "id": "oHLy9YxH2yKF",
        "outputId": "8160efa2-3d01-46b6-f404-8edb4df1027a"
      },
      "execution_count": 33,
      "outputs": [
        {
          "output_type": "execute_result",
          "data": {
            "text/plain": [
              "tensor(0.2464)"
            ]
          },
          "metadata": {},
          "execution_count": 33
        }
      ]
    },
    {
      "cell_type": "markdown",
      "source": [
        ""
      ],
      "metadata": {
        "id": "FQQy0v133Ri-"
      }
    },
    {
      "cell_type": "code",
      "source": [
        "## As pytorch by deafult doesnt handle it, we have to do it this way.\n",
        "loss_fn_imb_sum = nn.BCEWithLogitsLoss(\n",
        "  reduction='sum',\n",
        "  pos_weight=pos_weight\n",
        ")\n",
        "loss = loss_fn_imb_sum(dummy_imb_logits, dummy_imb_labels)\n",
        "loss = loss / (pos_weight * n_pos + n_neg)\n",
        "loss\n"
      ],
      "metadata": {
        "colab": {
          "base_uri": "https://localhost:8080/"
        },
        "id": "lrOoWesm3IYb",
        "outputId": "59ce7f6f-9d84-4f5b-c9b9-92fce95b85fb"
      },
      "execution_count": 34,
      "outputs": [
        {
          "output_type": "execute_result",
          "data": {
            "text/plain": [
              "tensor([0.1643])"
            ]
          },
          "metadata": {},
          "execution_count": 34
        }
      ]
    },
    {
      "cell_type": "markdown",
      "source": [
        "## Model Configuration with BCE Loss"
      ],
      "metadata": {
        "id": "ojtJqamc4SYQ"
      }
    },
    {
      "cell_type": "code",
      "source": [
        "lr = 0.1\n",
        "\n",
        "torch.manual_seed(42)\n",
        "model = nn.Sequential()\n",
        "model.add_module('linear', nn.Linear(2,1))\n",
        "\n",
        "optimizer = optim.SGD(model.parameters(), lr=lr)\n",
        "\n",
        "loss_fn = nn.BCEWithLogitsLoss()"
      ],
      "metadata": {
        "id": "r-cEM_aL38if"
      },
      "execution_count": 35,
      "outputs": []
    },
    {
      "cell_type": "markdown",
      "source": [
        "## Model Training"
      ],
      "metadata": {
        "id": "yMH7pXJR44IY"
      }
    },
    {
      "cell_type": "code",
      "source": [
        "n_epochs = 100\n",
        "\n",
        "sbs = StepByStep(model, loss_fn, optimizer)\n",
        "sbs.set_loaders(train_loader ,val_loader)\n",
        "sbs.train(n_epochs)"
      ],
      "metadata": {
        "id": "YvwwJZog43c2"
      },
      "execution_count": 36,
      "outputs": []
    },
    {
      "cell_type": "code",
      "source": [
        "fig = sbs.plot_losses()"
      ],
      "metadata": {
        "colab": {
          "base_uri": "https://localhost:8080/",
          "height": 289
        },
        "id": "RZbUmPyQ4w_0",
        "outputId": "ffb3997c-c50f-4039-9f9d-328effedcf93"
      },
      "execution_count": 37,
      "outputs": [
        {
          "output_type": "display_data",
          "data": {
            "text/plain": [
              "<Figure size 720x288 with 1 Axes>"
            ],
            "image/png": "[encoded data removed]"
          },
          "metadata": {}
        }
      ]
    },
    {
      "cell_type": "code",
      "source": [
        "predictions = sbs.predict(x_train_tensor[:4])\n",
        "predictions"
      ],
      "metadata": {
        "id": "1v4JRCSb5Sla",
        "colab": {
          "base_uri": "https://localhost:8080/"
        },
        "outputId": "e58631d2-c9e1-4c4c-84bc-f79cb11f4eb9"
      },
      "execution_count": 38,
      "outputs": [
        {
          "output_type": "execute_result",
          "data": {
            "text/plain": [
              "array([[ 0.20345592],\n",
              "       [ 2.9444451 ],\n",
              "       [ 3.6933177 ],\n",
              "       [-1.2334073 ]], dtype=float32)"
            ]
          },
          "metadata": {},
          "execution_count": 38
        }
      ]
    },
    {
      "cell_type": "code",
      "source": [
        "## We can make classification using predictions\n",
        "\n",
        "classes = (predictions>=0).astype(np.int)\n",
        "classes"
      ],
      "metadata": {
        "colab": {
          "base_uri": "https://localhost:8080/"
        },
        "id": "Ahgv_Psm79ad",
        "outputId": "3d095a1c-3e51-48ee-fc1a-267be4fe2df4"
      },
      "execution_count": 39,
      "outputs": [
        {
          "output_type": "stream",
          "name": "stderr",
          "text": [
            "/usr/local/lib/python3.7/dist-packages/ipykernel_launcher.py:3: DeprecationWarning: `np.int` is a deprecated alias for the builtin `int`. To silence this warning, use `int` by itself. Doing this will not modify any behavior and is safe. When replacing `np.int`, you may wish to use e.g. `np.int64` or `np.int32` to specify the precision. If you wish to review your current use, check the release note link for additional information.\n",
            "Deprecated in NumPy 1.20; for more details and guidance: https://numpy.org/devdocs/release/1.20.0-notes.html#deprecations\n",
            "  This is separate from the ipykernel package so we can avoid doing imports until\n"
          ]
        },
        {
          "output_type": "execute_result",
          "data": {
            "text/plain": [
              "array([[1],\n",
              "       [1],\n",
              "       [1],\n",
              "       [0]])"
            ]
          },
          "metadata": {},
          "execution_count": 39
        }
      ]
    },
    {
      "cell_type": "code",
      "source": [
        "def sigmoid(z):\n",
        "  return 1 / (1 + np.exp(-z))\n"
      ],
      "metadata": {
        "id": "834oDU4K-rgi"
      },
      "execution_count": 45,
      "outputs": []
    },
    {
      "cell_type": "code",
      "source": [
        "def split_cm(cm):\n",
        "  # Actual negatives go in the top row,\n",
        "  # above the probability line\n",
        "  actual_negative = cm[0]\n",
        "  # Predicted negatives go in the first column\n",
        "  tn = actual_negative[0]\n",
        "  # Predicted positives go in the second column\n",
        "  fp = actual_negative[1]\n",
        "  # Actual positives go in the bottow row,\n",
        "  # below the probability line\n",
        "  actual_positive = cm[1]\n",
        "  # Predicted negatives go in the first column\n",
        "  fn = actual_positive[0]\n",
        "  # Predicted positives go in the second column\n",
        "  tp = actual_positive[1]\n",
        "  return tn, fp, fn, tp\n"
      ],
      "metadata": {
        "id": "1fvejBVoBFCA"
      },
      "execution_count": 41,
      "outputs": []
    },
    {
      "cell_type": "code",
      "source": [
        "def precision_recall(cm):\n",
        "  tn, fp, fn, tp = split_cm(cm)\n",
        "  precision = tp / (tp + fp)\n",
        "  recall = tp / (tp + fn)\n",
        "  return precision, recall\n"
      ],
      "metadata": {
        "id": "Z91mFLrS8xHC"
      },
      "execution_count": 40,
      "outputs": []
    },
    {
      "cell_type": "markdown",
      "source": [
        "## Putting it all together"
      ],
      "metadata": {
        "id": "v8Bf_g2T9u7W"
      }
    },
    {
      "cell_type": "code",
      "source": [
        "## Data Prepration\n",
        "\n",
        "torch.manual_seed(13)\n",
        "\n",
        "x_train_tensor = torch.as_tensor(X_train).float()\n",
        "y_train_tensor = torch.as_tensor(y_train.reshape(-1,1)).float()\n",
        "\n",
        "x_val_tensor = torch.as_tensor(X_val).float()\n",
        "y_val_tensor = torch.as_tensor(y_val.reshape(-1,1)).float()\n",
        "\n",
        "train_dataset = TensorDataset(x_train_tensor, y_train_tensor)\n",
        "val_dataset = TensorDataset(x_val_tensor, y_val_tensor)\n",
        "\n",
        "train_loader = DataLoader(dataset=train_dataset, batch_size=16, shuffle=True)\n",
        "val_loader = DataLoader(dataset=val_dataset, batch_size=16)"
      ],
      "metadata": {
        "id": "uy5CXzbM_Yg5"
      },
      "execution_count": 42,
      "outputs": []
    },
    {
      "cell_type": "code",
      "source": [
        "## Model Configuration\n",
        "\n",
        "lr = 0.1\n",
        "\n",
        "torch.manual_seed(42)\n",
        "model = nn.Sequential()\n",
        "model.add_module('linear', nn.Linear(2,1))\n",
        "\n",
        "optimizer = optim.SGD(model.parameters(), lr=lr)\n",
        "\n",
        "loss_fn = nn.BCEWithLogitsLoss()"
      ],
      "metadata": {
        "id": "ATc1FR_-94nU"
      },
      "execution_count": 43,
      "outputs": []
    },
    {
      "cell_type": "code",
      "source": [
        "## Model Training\n",
        "\n",
        "n_epochs = 100\n",
        "\n",
        "sbs = StepByStep(model, loss_fn, optimizer)\n",
        "sbs.set_loaders(train_loader ,val_loader)\n",
        "sbs.train(n_epochs)"
      ],
      "metadata": {
        "id": "nbdLqrL79_GI"
      },
      "execution_count": 44,
      "outputs": []
    },
    {
      "cell_type": "code",
      "source": [
        "## Evaluation\n",
        "\n",
        "logits_val = sbs.predict(X_val)\n",
        "probabilities_val = sigmoid(logits_val).squeeze()\n",
        "cm_thresh50 = confusion_matrix(y_val, (probabilities_val >= 0.5))\n",
        "cm_thresh50"
      ],
      "metadata": {
        "colab": {
          "base_uri": "https://localhost:8080/"
        },
        "id": "-XQKWrAM-Enm",
        "outputId": "220cd76a-2e47-4a47-b05e-0adb2c01184e"
      },
      "execution_count": 46,
      "outputs": [
        {
          "output_type": "execute_result",
          "data": {
            "text/plain": [
              "array([[ 7,  2],\n",
              "       [ 1, 10]])"
            ]
          },
          "metadata": {},
          "execution_count": 46
        }
      ]
    },
    {
      "cell_type": "code",
      "source": [
        ""
      ],
      "metadata": {
        "id": "mpZOdfYC-sn_"
      },
      "execution_count": null,
      "outputs": []
    }
  ]
}