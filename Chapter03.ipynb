{
  "nbformat": 4,
  "nbformat_minor": 0,
  "metadata": {
    "colab": {
      "name": "Chapter03.ipynb",
      "provenance": [],
      "mount_file_id": "105pcJ50wyS7dNRspirtrvL22t7NN5Jnf",
      "authorship_tag": "ABX9TyPXQLI76CxROn1AlbkeaLZC",
      "include_colab_link": true
    },
    "kernelspec": {
      "name": "python3",
      "display_name": "Python 3"
    },
    "language_info": {
      "name": "python"
    }
  },
  "cells": [
    {
      "cell_type": "markdown",
      "metadata": {
        "id": "view-in-github",
        "colab_type": "text"
      },
      "source": [
        "<a href=\"https://colab.research.google.com/github/ridhimagarg/PyTorchBook/blob/main/Chapter03.ipynb\" target=\"_parent\"><img src=\"https://colab.research.google.com/assets/colab-badge.svg\" alt=\"Open In Colab\"/></a>"
      ]
    },
    {
      "cell_type": "code",
      "execution_count": 15,
      "metadata": {
        "id": "jA16vsQZaiY7"
      },
      "outputs": [],
      "source": [
        "import numpy as np\n",
        "import sys\n",
        "import matplotlib.pyplot as plt\n",
        "\n",
        "\n",
        "import torch\n",
        "import torch.optim as optim\n",
        "import torch.nn as nn\n",
        "import torch.functional as F\n",
        "from torch.utils.data import DataLoader, TensorDataset\n",
        "\n",
        "\n",
        "from sklearn.datasets import make_moons\n",
        "from sklearn.preprocessing import StandardScaler\n",
        "from sklearn.model_selection import train_test_split\n",
        "from sklearn.metrics import confusion_matrix, roc_curve, precision_recall_curve, auc\n",
        "\n",
        "# from stepbystep.vo import StepByStep ## uncomment this if working on local\n",
        "from v0 import StepByStep ## this is for google drive"
      ]
    },
    {
      "cell_type": "code",
      "source": [
        "X, y = make_moons(n_samples=100, noise=0.3, random_state=0)"
      ],
      "metadata": {
        "id": "bGwnxY7VkCeA"
      },
      "execution_count": 12,
      "outputs": []
    },
    {
      "cell_type": "code",
      "source": [
        "X_train, X_val, y_train, y_val = train_test_split(X, y, test_size=.2, random_state=13)"
      ],
      "metadata": {
        "id": "p53yHqWEqJtB"
      },
      "execution_count": 13,
      "outputs": []
    },
    {
      "cell_type": "code",
      "source": [
        "sc = StandardScaler()\n",
        "sc.fit(X_train)\n",
        "\n",
        "X_train = sc.transform(X_train)\n",
        "X_val = sc.transform(X_val)"
      ],
      "metadata": {
        "id": "LaxKF6FhoPsA"
      },
      "execution_count": 14,
      "outputs": []
    },
    {
      "cell_type": "code",
      "source": [
        "print(X)"
      ],
      "metadata": {
        "colab": {
          "base_uri": "https://localhost:8080/"
        },
        "id": "Cr7jJpCuoxYq",
        "outputId": "e239266d-3def-4cc3-e11b-16e808cd913e"
      },
      "execution_count": 16,
      "outputs": [
        {
          "output_type": "stream",
          "name": "stdout",
          "text": [
            "[[ 0.03159499  0.98698776]\n",
            " [ 2.11509784 -0.04624397]\n",
            " [ 0.88248972 -0.07575606]\n",
            " [-0.0551441  -0.03733246]\n",
            " [ 0.82954503 -0.53932149]\n",
            " [ 2.11285708  0.66208353]\n",
            " [ 0.5696927   0.33744136]\n",
            " [ 0.95217454 -0.75307471]\n",
            " [-0.02922115  0.39287336]\n",
            " [ 1.71579557  0.36069454]\n",
            " [-0.27883014  0.61420539]\n",
            " [ 2.00344509 -0.3091496 ]\n",
            " [ 1.50009616 -0.74636376]\n",
            " [ 1.22540835  1.19793017]\n",
            " [ 0.46730819  0.54703192]\n",
            " [-0.36653222  1.11971633]\n",
            " [ 0.30124459  1.23315697]\n",
            " [ 0.30430746  0.82373935]\n",
            " [-0.23712492  0.77876034]\n",
            " [ 1.16339832  0.55290238]\n",
            " [-0.59702417  0.6572361 ]\n",
            " [ 0.46356735 -0.1951543 ]\n",
            " [ 0.68451111  0.75287685]\n",
            " [ 0.70515699 -0.45892444]\n",
            " [-0.65805008 -0.12944211]\n",
            " [-0.74662946 -0.3829632 ]\n",
            " [ 0.60585226  0.31252842]\n",
            " [ 2.18137168 -0.02291747]\n",
            " [ 1.91980633  0.17247329]\n",
            " [ 1.4834364  -0.10517023]\n",
            " [ 0.47404723 -0.14575067]\n",
            " [ 1.05614605 -1.03570207]\n",
            " [ 1.86500732 -0.01107874]\n",
            " [ 0.4194721  -0.32478101]\n",
            " [ 0.06873258  0.56648467]\n",
            " [-0.17332432  1.00215131]\n",
            " [ 0.12412421  1.00062892]\n",
            " [ 0.18121142  0.24717743]\n",
            " [-0.25451559  0.19317272]\n",
            " [ 1.02580668 -0.62574566]\n",
            " [ 1.52002143 -0.04515581]\n",
            " [ 0.64174037 -0.39369468]\n",
            " [-0.87615589  0.0465662 ]\n",
            " [-1.06964997  0.13666025]\n",
            " [ 1.02658765  0.37782458]\n",
            " [ 0.93131325  1.38517841]\n",
            " [ 0.67680544  1.57189931]\n",
            " [-0.36885733  0.72886601]\n",
            " [-1.02465495  0.16190215]\n",
            " [ 0.77455385  0.15375803]\n",
            " [ 1.4045116  -0.00705701]\n",
            " [-0.38147174 -0.23488747]\n",
            " [ 0.72155224  0.44721658]\n",
            " [-0.51346686  0.67869095]\n",
            " [ 0.32118546  0.28668667]\n",
            " [ 0.1953628   0.16085107]\n",
            " [ 0.52824196  0.98300993]\n",
            " [-0.2216539   0.25160139]\n",
            " [ 0.22334676  1.32217183]\n",
            " [-0.10704572  0.56178326]\n",
            " [ 0.63651685  0.75444825]\n",
            " [-0.37227848  0.99291317]\n",
            " [ 0.20718083 -0.09767143]\n",
            " [ 0.12733142 -0.3796549 ]\n",
            " [ 0.71435231 -0.79994161]\n",
            " [ 1.09487814 -0.36841845]\n",
            " [-0.14814362  0.96158657]\n",
            " [ 1.586188   -0.62984517]\n",
            " [ 0.74444551  0.57661371]\n",
            " [ 2.18011028 -0.69977751]\n",
            " [ 0.24575594  0.8496383 ]\n",
            " [-0.95003581  0.90361699]\n",
            " [-0.88230758  0.07249044]\n",
            " [ 2.02297079  0.12325148]\n",
            " [ 2.14577321  0.46296362]\n",
            " [ 0.35536468 -0.67847989]\n",
            " [ 0.34665026  1.11570676]\n",
            " [ 1.7392373   0.45900352]\n",
            " [ 0.63856467 -0.44718443]\n",
            " [ 1.2876687  -0.4910366 ]\n",
            " [-0.13772607  1.2453262 ]\n",
            " [-0.56175303  1.05486051]\n",
            " [ 1.29003748 -0.20691405]\n",
            " [-0.87539365  0.50543423]\n",
            " [-0.92858249 -0.45631991]\n",
            " [ 0.02493632  0.10747958]\n",
            " [ 0.1972559  -0.06801668]\n",
            " [ 0.73346056  0.28161929]\n",
            " [ 1.68294434 -0.2020423 ]\n",
            " [ 0.50764124 -0.11731979]\n",
            " [ 1.66760217 -0.42485665]\n",
            " [-0.82172282  0.63141066]\n",
            " [ 0.30170903  0.78603534]\n",
            " [ 1.37671505 -0.80915107]\n",
            " [ 1.17037551  0.59840653]\n",
            " [ 1.69945309  0.58771967]\n",
            " [ 0.21862323 -0.65252119]\n",
            " [ 0.95291428 -0.41976564]\n",
            " [-1.31850034  0.42311235]\n",
            " [-1.29681764  0.18414709]]\n"
          ]
        }
      ]
    },
    {
      "cell_type": "code",
      "source": [
        "plt.scatter(X_train[:, 0], X_train[:, 1], c=y_train)\n",
        "plt.title(\"Generated Data - Train\")\n",
        "plt.xlabel(\"$X_1$\")\n",
        "plt.ylabel(\"$X_2$\")"
      ],
      "metadata": {
        "colab": {
          "base_uri": "https://localhost:8080/",
          "height": 344
        },
        "id": "jm-soTKoodN0",
        "outputId": "d64c4bec-a824-4042-a059-c3916def51dc"
      },
      "execution_count": 34,
      "outputs": [
        {
          "output_type": "execute_result",
          "data": {
            "text/plain": [
              "Text(0, 0.5, '$X_2$')"
            ]
          },
          "metadata": {},
          "execution_count": 34
        },
        {
          "output_type": "display_data",
          "data": {
            "text/plain": [
              "<Figure size 432x288 with 1 Axes>"
            ],
            "image/png": "[encoded data removed]"
          },
          "metadata": {}
        }
      ]
    },
    {
      "cell_type": "code",
      "source": [
        "plt.scatter(X_val[:, 0], X_val[:, 1], c=y_val)\n",
        "plt.title(\"Generated Data - Train\")\n",
        "plt.xlabel(\"$X_1$\")\n",
        "plt.ylabel(\"$X_2$\")"
      ],
      "metadata": {
        "colab": {
          "base_uri": "https://localhost:8080/",
          "height": 344
        },
        "id": "C8OyYX64o1Q-",
        "outputId": "0e9892cf-dcc9-415e-ddc3-a38c6a680c0c"
      },
      "execution_count": 36,
      "outputs": [
        {
          "output_type": "execute_result",
          "data": {
            "text/plain": [
              "Text(0, 0.5, '$X_2$')"
            ]
          },
          "metadata": {},
          "execution_count": 36
        },
        {
          "output_type": "display_data",
          "data": {
            "text/plain": [
              "<Figure size 432x288 with 1 Axes>"
            ],
            "image/png": "[encoded data removed]"
          },
          "metadata": {}
        }
      ]
    },
    {
      "cell_type": "markdown",
      "source": [
        "## Data Preparation"
      ],
      "metadata": {
        "id": "MMQ1e4JxsRqK"
      }
    },
    {
      "cell_type": "code",
      "source": [
        "torch.manual_seed(13)\n",
        "\n",
        "x_train_tensor = torch.as_tensor(X_train).float()\n",
        "y_train_tensor = torch.as_tensor(y_train.reshape(-1,1)).float()\n",
        "\n",
        "x_val_tensor = torch.as_tensor(X_val).float()\n",
        "y_val_tensor = torch.as_tensor(y_val.reshape(-1,1)).float()\n",
        "\n",
        "train_dataset = TensorDataset(x_train_tensor, y_train_tensor)\n",
        "val_dataset = TensorDataset(x_val_tensor, y_val_tensor)\n",
        "\n",
        "train_dataset = DataLoader(dataset=train_dataset, batch_size=16, shuffle=True)\n",
        "val_loader = DataLoader(dataset=val_dataset, batch_size=16)"
      ],
      "metadata": {
        "id": "N1qqD542sCdW"
      },
      "execution_count": 38,
      "outputs": []
    },
    {
      "cell_type": "markdown",
      "source": [
        "## Model"
      ],
      "metadata": {
        "id": "bWmCsMq23mk-"
      }
    },
    {
      "cell_type": "code",
      "source": [
        "torch.manual_seed(42)\n",
        "model1 = nn.Sequential()\n",
        "model1.add_module('linear', nn.Linear(2,1))\n",
        "model1.add_module('sigmoid', nn.Sigmoid())\n",
        "print(model1.state_dict())"
      ],
      "metadata": {
        "colab": {
          "base_uri": "https://localhost:8080/"
        },
        "id": "CB0m7aPgvNGn",
        "outputId": "7c9f62e2-268c-4b53-d856-93771751af58"
      },
      "execution_count": 40,
      "outputs": [
        {
          "output_type": "stream",
          "name": "stdout",
          "text": [
            "OrderedDict([('linear.weight', tensor([[0.5406, 0.5869]])), ('linear.bias', tensor([-0.1657]))])\n"
          ]
        }
      ]
    },
    {
      "cell_type": "code",
      "source": [
        ""
      ],
      "metadata": {
        "id": "JDFNNueO328s"
      },
      "execution_count": null,
      "outputs": []
    }
  ]
}