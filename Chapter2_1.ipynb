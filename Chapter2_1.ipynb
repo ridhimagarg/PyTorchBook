{
  "nbformat": 4,
  "nbformat_minor": 0,
  "metadata": {
    "colab": {
      "name": "Chapter2.1.ipynb",
      "provenance": [],
      "mount_file_id": "1OddBe52WNKjuUGpu2UR6tpqs8ey5ylXk",
      "authorship_tag": "ABX9TyOeRMGcg0f8J90fW/Ad0Dr/",
      "include_colab_link": true
    },
    "kernelspec": {
      "name": "python3",
      "display_name": "Python 3"
    },
    "language_info": {
      "name": "python"
    }
  },
  "cells": [
    {
      "cell_type": "markdown",
      "metadata": {
        "id": "view-in-github",
        "colab_type": "text"
      },
      "source": [
        "<a href=\"https://colab.research.google.com/github/ridhimagarg/PyTorchBook/blob/main/Chapter2_1.ipynb\" target=\"_parent\"><img src=\"https://colab.research.google.com/assets/colab-badge.svg\" alt=\"Open In Colab\"/></a>"
      ]
    },
    {
      "cell_type": "code",
      "execution_count": null,
      "metadata": {
        "id": "OFhr6ZsIKz49"
      },
      "outputs": [],
      "source": [
        "import numpy as np\n",
        "import datetime\n",
        "import torch\n",
        "import torch.optim as optim\n",
        "import torch.nn as nn\n",
        "import torch.functional as F\n",
        "from torch.utils.data import DataLoader, TensorDataset, random_split\n",
        "from torch.utils.tensorboard import SummaryWriter\n",
        "import matplotlib.pyplot as plt\n",
        "%matplotlib inline\n",
        "plt.style.use('fivethirtyeight')"
      ]
    },
    {
      "cell_type": "code",
      "source": [
        ""
      ],
      "metadata": {
        "id": "t_tcq6zES68m"
      },
      "execution_count": null,
      "outputs": []
    },
    {
      "cell_type": "code",
      "source": [
        "def make_val_step(model, loss_fn):\n",
        "\n",
        "  def perform_val_step(x, y):\n",
        "\n",
        "    model.eval()\n",
        "\n",
        "    yhat = model(x)\n",
        "\n",
        "    loss = loss_fn(yhat, y)\n",
        "\n",
        "    return loss.item()\n",
        "\n",
        "  return perform_val_step"
      ],
      "metadata": {
        "id": "vfLyUr_8TC7f"
      },
      "execution_count": null,
      "outputs": []
    },
    {
      "cell_type": "code",
      "source": [
        "class StepByStep(object):\n",
        "  def __init__(self, model, loss_fn, optimizer):\n",
        "    self.model = model\n",
        "    self.loss_fn = loss_fn\n",
        "    self.optimizer = optimizer\n",
        "    self.device = 'cuda' if torch.cuda.is_available() else 'cpu'\n",
        "\n",
        "    self.model.to(self.device)\n",
        "\n",
        "    self.train_loader = None\n",
        "    self.val_loader = None\n",
        "    self.writer = None\n",
        "\n",
        "    self.losses = []\n",
        "    self.val_losses = []\n",
        "    self.total_epochs = 0\n",
        "\n",
        "    self.train_step = self._make_train_step()\n",
        "    self.val_step = self._make_val_step()\n",
        "\n",
        "    self.mini_batch = self._mini_batch()\n",
        "\n",
        "  def to(self, device):\n",
        "    self.device = device\n",
        "    self.model.to(self.device)\n",
        "\n",
        "  def set_loaders(self, train_loader, val_loader=None):\n",
        "\n",
        "    self.train_loader = train_loader\n",
        "    self.val_loader = val_loader\n",
        "\n",
        "  def set_tensorboard(self, name, folder='runs'):\n",
        "\n",
        "    suffix = datetime.datetime.now().strftime('%Y%m%d%H%M%S')\n",
        "    self.writer = SummaryWriter('{}/{}_{}'.format(folder, name, suffix))\n",
        "\n",
        "  def _make_train_step(self):\n",
        "\n",
        "    def perform_train_step(x, y):\n",
        "\n",
        "      self.model.train()\n",
        "      yhat = self.model(x)\n",
        "\n",
        "      loss = self.loss_fn(yhat, y)\n",
        "\n",
        "      loss.backward()\n",
        "\n",
        "      self.optimizer.step()\n",
        "      self.optimizer.zero_grad()\n",
        "\n",
        "      return loss.item()\n",
        "\n",
        "    return perform_train_step\n",
        "\n",
        "  def _make_val_step(self):\n",
        "    # Builds function that performs a step in the validation loop\n",
        "    def perform_val_step(x, y):\n",
        "      # Sets model to EVAL mode\n",
        "      self.model.eval()\n",
        "      # Step 1 - Computes model's predicted output - forward pass\n",
        "      yhat = self.model(x)\n",
        "      # Step 2 - Computes the loss\n",
        "      loss = self.loss_fn(yhat, y)\n",
        "      # There is no need to compute Steps 3 and 4,\n",
        "      # since we don't update parameters during evaluation\n",
        "      return loss.item()\n",
        "    return perform_val_step\n",
        "\n",
        "  def _mini_batch(self, validation=False):\n",
        "\n",
        "    if validation:\n",
        "      data_loader = self.val_loader\n",
        "      step = self.val_step\n",
        "\n",
        "    else:\n",
        "      data_loader = self.train_loader\n",
        "      step = self.train_step\n",
        "\n",
        "    if data_loader is None:\n",
        "      return None\n",
        "\n",
        "    mini_batch_losses = []\n",
        "    for x_batch, y_batch in data_loader:\n",
        "      x_batch = x_batch.to(self.device)\n",
        "      y_batch = y_batch.to(self.device)\n",
        "\n",
        "      mini_batch_loss = step(x_batch, y_batch)\n",
        "      mini_batch_losses.append(mini_batch_loss)\n",
        "\n",
        "    loss = np.mean(mini_batch_losses)\n",
        "\n",
        "    return loss\n",
        "\n",
        "\n",
        "\n",
        "def set_seed(self, seed=42):\n",
        "    torch.backends.cudnn.deterministic = True\n",
        "    torch.backends.cudnn.benchmark = False\n",
        "\n",
        "    torch.manual_seed(seed)\n",
        "    np.random.seed(seed)\n",
        "\n",
        "\n",
        "setattr(StepByStep, 'set_seed', set_seed)\n",
        "\n",
        "\n",
        "def train(self, n_epochs, seed=42):\n",
        "\n",
        "  self.set_seed(42)\n",
        "\n",
        "  for epoch in range(n_epochs):\n",
        "\n",
        "    self.total_epochs +=1\n",
        "\n",
        "    loss = self._mini_batch(validation=False)\n",
        "    self.losses.append(loss)\n",
        "\n",
        "    # VALIDATION\n",
        "    # no gradients in validation!\n",
        "    with torch.no_grad():\n",
        "      # Performs evaluation using mini-batches\n",
        "      val_loss = self._mini_batch(validation=True)\n",
        "      self.val_losses.append(val_loss)\n",
        "\n",
        "    if self.writer:\n",
        "\n",
        "      scalars = {'training': loss}\n",
        "      if val_loss is not None:\n",
        "        scalars.update({'validation': val_loss})\n",
        "\n",
        "      self.writer.add_scalars(main_tag='loss', tag_scalar_dict=scalars, global_step=epoch)\n",
        "\n",
        "  if self.writer:\n",
        "    self.writer.flush()\n",
        "\n",
        "setattr(StepByStep, 'train', train)\n",
        "\n",
        "def save_checkpoint(self, filename):\n",
        "  # Builds dictionary with all elements for resuming training\n",
        "  checkpoint = {\n",
        "  'epoch': self.total_epochs,\n",
        "  'model_state_dict': self.model.state_dict(),\n",
        "  'optimizer_state_dict': self.optimizer.state_dict(),\n",
        "  'loss': self.losses,\n",
        "  'val_loss': self.val_losses\n",
        "  }\n",
        "  torch.save(checkpoint, filename)\n",
        "\n",
        "setattr(StepByStep, 'save_checkpoint', save_checkpoint)\n",
        "\n",
        "def load_checkpoint(self, filename):\n",
        "\n",
        "  checkpoint = torch.load(filename)\n",
        "\n",
        "  self.model.load_state_dict (checkpoint['model_state_dict'])\n",
        "  self.optimizer.load_state_dict(checkpoint['optimizer_state_dict'])\n",
        "\n",
        "  self.total_epochs = checkpoint['epoch']\n",
        "  self.losses = checkpoint[\"loss\"]\n",
        "  self.val_losses = checkpoint[\"val_loss\"]\n",
        "\n",
        "  self.model.train() ## remember to set it to train.\n",
        "\n",
        "setattr(StepByStep, 'load_checkpoint', load_checkpoint)\n",
        "\n",
        "\n",
        "def predict(self, x):\n",
        "\n",
        "  self.model.eval()\n",
        "\n",
        "  x_tensor = torch.as_tensor(x).float()\n",
        "\n",
        "  y_hat_tensor = self.model(x_tensor.to(self.device))\n",
        "\n",
        "  self.model.train()\n",
        "\n",
        "  return y_hat_tensor.detach().cpu().numpy()\n",
        "\n",
        "setattr(StepByStep, 'predict', predict) \n",
        "\n",
        "def plot_losses(self):\n",
        "\n",
        "  print(self.losses)\n",
        "  print(self.val_losses)\n",
        "\n",
        "  fig = plt.figure(figsize=(10,4))\n",
        "  plt.plot(self.losses, label=\"Training Loss\", c=\"b\")\n",
        "\n",
        "  if self.val_loader:\n",
        "    plt.plot(self.val_losses, label=\"Validation Loss\", c=\"r\")\n",
        "    plt.yscale('log')\n",
        "    plt.xlabel(\"Epochs\")\n",
        "    plt.ylabel(\"Loss\")\n",
        "    plt.legend()\n",
        "    plt.tight_layout()\n",
        "\n",
        "    return fig\n",
        "\n",
        "setattr(StepByStep, 'plot_losses', plot_losses)\n",
        "\n",
        "def add_graph(self):\n",
        "  if self.train_loader and self.writer:\n",
        "    x_dummy = y_dummy = next(iter(self.train_loader))\n",
        "\n",
        "    self.writer.add_graph(self.model, x_dummy.to(self.device))\n",
        "\n",
        "setattr(StepByStep, 'add_graph', add_graph)\n",
        "\n",
        "    "
      ],
      "metadata": {
        "id": "4so6ChrgK7JP"
      },
      "execution_count": null,
      "outputs": []
    },
    {
      "cell_type": "markdown",
      "source": [
        "## Classy Pipeline"
      ],
      "metadata": {
        "id": "QNihSH96Kf0N"
      }
    },
    {
      "cell_type": "code",
      "source": [
        "## data generation\n",
        "\n",
        " # %load data_preparation/v2.py\n",
        "torch.manual_seed(42)\n",
        "\n",
        "true_b = 1\n",
        "true_w = 2\n",
        "N = 100\n",
        "# Data Generation\n",
        "np.random.seed(42)\n",
        "x = np.random.rand(N, 1)\n",
        "epsilon = (.1 * np.random.randn(N, 1))\n",
        "y = true_b + true_w * x + epsilon\n",
        "\n",
        "x_tensor = torch.as_tensor(x).float()\n",
        "y_tensor = torch.as_tensor(y).float()\n",
        "\n",
        "dataset = TensorDataset(x_tensor, y_tensor)\n",
        "\n",
        "ratio = 0.8\n",
        "n_total = len(dataset)\n",
        "n_train = int(n_total*ratio)\n",
        "n_val = n_total - n_train\n",
        "\n",
        "train_data, val_data = random_split(dataset, [n_train, n_val])\n",
        "\n",
        "train_loader = DataLoader(dataset=train_data, batch_size=16, shuffle=True )\n",
        "val_loader = DataLoader(dataset=val_data, batch_size=16)"
      ],
      "metadata": {
        "id": "dHDqpsWvOVJJ"
      },
      "execution_count": null,
      "outputs": []
    },
    {
      "cell_type": "code",
      "source": [
        "## model configuration\n",
        "# %%writefile model_configuration/v4.py\n",
        "\n",
        "lr = 0.1\n",
        "\n",
        "torch.manual_seed(42)\n",
        "\n",
        "model = nn.Sequential(nn.Linear(1,1))\n",
        "\n",
        "optimizer = optim.SGD(model.parameters(), lr=lr)\n",
        "\n",
        "loss_fn = nn.MSELoss(reduction=\"mean\")"
      ],
      "metadata": {
        "id": "FyJdud2vL5Pp"
      },
      "execution_count": null,
      "outputs": []
    },
    {
      "cell_type": "code",
      "source": [
        "print(model.state_dict())"
      ],
      "metadata": {
        "colab": {
          "base_uri": "https://localhost:8080/"
        },
        "id": "HzU4fO8IOfkw",
        "outputId": "56c27099-3ce6-49e4-8b60-8812a41061d5"
      },
      "execution_count": null,
      "outputs": [
        {
          "output_type": "stream",
          "name": "stdout",
          "text": [
            "OrderedDict([('0.weight', tensor([[0.7645]])), ('0.bias', tensor([0.8300]))])\n"
          ]
        }
      ]
    },
    {
      "cell_type": "code",
      "source": [
        "## model training using the class\n",
        "\n",
        "sbs = StepByStep(model, loss_fn, optimizer)\n",
        "sbs.set_loaders(train_loader, val_loader)\n",
        "sbs.set_tensorboard('classy')\n",
        "\n",
        "# the sbs object is the same object as the model variable created in the model configuration. It is not a copy!\n",
        "print(sbs.model == model)\n",
        "print(sbs.model)"
      ],
      "metadata": {
        "colab": {
          "base_uri": "https://localhost:8080/"
        },
        "id": "iO2ugj4dOf8f",
        "outputId": "747942d3-4d41-4f00-f2d9-4d69dcebc820"
      },
      "execution_count": null,
      "outputs": [
        {
          "output_type": "stream",
          "name": "stdout",
          "text": [
            "True\n",
            "Sequential(\n",
            "  (0): Linear(in_features=1, out_features=1, bias=True)\n",
            ")\n"
          ]
        }
      ]
    },
    {
      "cell_type": "code",
      "source": [
        "sbs.train(n_epochs=200)\n",
        "print(model.state_dict()) # remember, model == sbs.model\n",
        "print(sbs.total_epochs)\n"
      ],
      "metadata": {
        "colab": {
          "base_uri": "https://localhost:8080/"
        },
        "id": "dBl8QvVxQXcy",
        "outputId": "eabe24af-1c8e-4b76-9e30-40da53f002f3"
      },
      "execution_count": null,
      "outputs": [
        {
          "output_type": "stream",
          "name": "stdout",
          "text": [
            "OrderedDict([('0.weight', tensor([[1.9584]])), ('0.bias', tensor([1.0099]))])\n",
            "200\n"
          ]
        }
      ]
    },
    {
      "cell_type": "code",
      "source": [
        "fig = sbs.plot_losses()"
      ],
      "metadata": {
        "colab": {
          "base_uri": "https://localhost:8080/",
          "height": 344
        },
        "id": "O0DBSY3tRxeW",
        "outputId": "91d047ea-e9be-40c1-c584-eb4b701aeb0c"
      },
      "execution_count": null,
      "outputs": [
        {
          "output_type": "stream",
          "name": "stdout",
          "text": [
            "[0.008103259187191725, 0.008090755715966225, 0.008110600430518389, 0.008108102809637785, 0.008103875070810318, 0.008090910222381353, 0.008086178638041019, 0.00823542643338442, 0.008195825945585966, 0.00807939637452364, 0.008051646128296851, 0.008254422433674335, 0.008071400970220566, 0.008068094495683908, 0.008110717497766018, 0.008085128292441368, 0.008105919696390629, 0.00812521711923182, 0.00821544360369444, 0.008101074304431678, 0.008164090290665626, 0.008082118071615695, 0.008067409787327052, 0.008081210218369961, 0.008044863305985927, 0.008063959190621972, 0.008150563016533852, 0.008157016383484006, 0.008213325589895248, 0.008176823705434799, 0.008191375434398651, 0.008069305587559939, 0.00808620359748602, 0.008057249337434768, 0.008201230503618716, 0.008178186137229204, 0.008149013854563236, 0.008178454544395208, 0.00823700213804841, 0.008180422056466342, 0.008135184179991484, 0.008082398120313883, 0.008134271763265134, 0.008112376276403665, 0.00808522030711174, 0.008175725769251584, 0.008133900351822376, 0.008163576480001211, 0.008462431840598583, 0.00806363057345152, 0.00812046742066741, 0.008106663636863232, 0.008073199167847633, 0.008156622108072043, 0.008105767704546452, 0.00823685759678483, 0.008142154850065707, 0.008064412046223879, 0.008207341935485602, 0.008082239050418138, 0.00810356866568327, 0.008136113733053207, 0.008046595938503742, 0.008173477742820979, 0.008198964316397906, 0.008195225428789855, 0.008115727640688419, 0.008155898563563824, 0.008151079807430506, 0.008400735352188349, 0.008127294108271598, 0.00814558044075966, 0.008105012029409409, 0.008119264990091324, 0.008181200176477433, 0.008320680167526007, 0.00812393929809332, 0.008094358816742897, 0.008119299262762069, 0.008117465116083623, 0.008053121715784073, 0.008236436638981104, 0.00812736377120018, 0.008142061531543732, 0.008181874407455325, 0.008170186821371318, 0.008067279774695634, 0.008107779640704393, 0.008154057804495097, 0.008036619052290916, 0.00804966501891613, 0.008164883777499198, 0.00820430377498269, 0.008134561590850353, 0.008044642582535743, 0.008053008280694485, 0.008223754540085792, 0.008061207551509141, 0.008045473601669073, 0.008054440747946501, 0.008072096575051545, 0.008095617219805718, 0.00810111928731203, 0.008042268361896277, 0.008150586392730474, 0.00819426467642188, 0.008179096225649118, 0.008136449847370386, 0.008113039191812277, 0.008186120260506868, 0.008264593966305255, 0.00807327190414071, 0.008185631968080998, 0.008055684249848127, 0.008078210428357125, 0.008049854822456837, 0.008062626607716084, 0.008101310580968857, 0.00809621075168252, 0.008251088298857212, 0.008096452336758375, 0.008161767479032278, 0.008129136497154832, 0.008111412823200225, 0.008064113045111298, 0.008053439669311047, 0.008039734046906232, 0.008123504649847745, 0.008075558952987194, 0.008087249379605055, 0.008189999032765627, 0.008158910647034645, 0.008149605058133603, 0.008069152478128672, 0.008106040861457586, 0.008085878379642964, 0.008065616339445114, 0.008117211051285267, 0.00809161551296711, 0.008108459506183862, 0.008061254397034645, 0.008141334541141987, 0.008085839170962571, 0.008093996532261371, 0.008093643467873335, 0.008340165484696627, 0.008069042395800353, 0.00805047368630767, 0.008150951098650694, 0.008104559313505889, 0.008104511816054583, 0.008072213642299176, 0.008117999136447906, 0.008107018563896418, 0.008346572984009981, 0.008124700095504523, 0.008043455891311169, 0.008129926305264235, 0.008073161914944648, 0.008099863724783062, 0.008121293131262064, 0.008047707751393319, 0.008206686936318874, 0.00821921294555068, 0.008110695704817771, 0.008116446062922477, 0.008086345344781875, 0.008163797482848168, 0.008097358793020249, 0.00827470002695918, 0.00805159998126328, 0.008159405924379826, 0.008072556182742118, 0.008159593679010868, 0.008113136980682611, 0.008151130005717277, 0.008109375275671482, 0.0081960529088974, 0.008054781425744294, 0.008110682480037212, 0.008066120650619268, 0.008163477294147015, 0.008151859045028687, 0.00814559580758214, 0.008114308211952448, 0.0081473708152771, 0.008119360730051994, 0.008073120377957821, 0.008172208350151778, 0.008135473821312189, 0.008170232456177474, 0.008122581522911787, 0.008109103981405496, 0.0080799650400877, 0.008054649364203215, 0.00811645220965147, 0.008143346197903157, 0.008215213008224965, 0.008226212859153748, 0.008120911754667759]\n",
            "[0.009363044984638691, 0.00940986443310976, 0.009399190079420805, 0.009433647384867072, 0.00955993845127523, 0.009481941582635045, 0.009811091469600797, 0.009786488953977823, 0.009660887066274881, 0.009414460510015488, 0.009631584398448467, 0.009594057220965624, 0.009413269348442554, 0.009482097811996937, 0.009345635073259473, 0.009496145881712437, 0.009920421056449413, 0.009615332121029496, 0.009757414925843477, 0.009609903441742063, 0.009605561150237918, 0.009511429350823164, 0.009487674804404378, 0.00977193028666079, 0.00959955109283328, 0.009748589713126421, 0.009771980112418532, 0.009700074791908264, 0.009277592180296779, 0.009479495231062174, 0.009393998654559255, 0.009704607306048274, 0.009412248386070132, 0.009371959837153554, 0.009683002717792988, 0.009669688064604998, 0.00957124400883913, 0.00962935364805162, 0.009549090871587396, 0.009192612953484058, 0.009369577746838331, 0.009495550533756614, 0.009875657502561808, 0.009549687383696437, 0.009424221003428102, 0.009346033912152052, 0.009267557179555297, 0.009308586362749338, 0.009185704169794917, 0.009512197924777865, 0.009408167330548167, 0.009449305245652795, 0.009457236854359508, 0.009554729796946049, 0.009441651869565248, 0.00946246599778533, 0.009361911099404097, 0.009388542035594583, 0.00963824475184083, 0.009464118629693985, 0.009285240201279521, 0.009457573527470231, 0.00940458057448268, 0.009509503608569503, 0.00955208484083414, 0.00941199972294271, 0.009257101686671376, 0.009561405051499605, 0.009417541092261672, 0.0096406158991158, 0.009714463027194142, 0.009675394743680954, 0.009757570223882794, 0.009637219365686178, 0.009516013320535421, 0.0094855185598135, 0.00949900969862938, 0.00940412376075983, 0.009320392971858382, 0.009420586982741952, 0.009422897826880217, 0.009365318575873971, 0.009324350394308567, 0.009203165536746383, 0.009359134128317237, 0.009344321442767978, 0.009453316684812307, 0.009611251065507531, 0.009602069621905684, 0.009582658065482974, 0.009562715888023376, 0.009857922093942761, 0.009423402138054371, 0.009512507822364569, 0.00952212349511683, 0.009726492455229163, 0.010032812133431435, 0.009482637280598283, 0.009518899954855442, 0.009446422336623073, 0.00959895015694201, 0.009756292449310422, 0.00958804041147232, 0.009525065310299397, 0.00920267472974956, 0.009504687739536166, 0.009755130857229233, 0.009210497373715043, 0.00952589139342308, 0.00949128856882453, 0.00960202794522047, 0.009507050039246678, 0.009666600031778216, 0.009351794375106692, 0.009428508812561631, 0.009379977127537131, 0.009496437618508935, 0.009644367033615708, 0.009608213789761066, 0.009352346183732152, 0.00960340048186481, 0.00927141378633678, 0.009357391158118844, 0.009480506647378206, 0.009522882057353854, 0.00946427253074944, 0.009626363404095173, 0.009851276408880949, 0.009449909208342433, 0.009643075056374073, 0.009554964024573565, 0.010033043567091227, 0.009460408007726073, 0.00941486144438386, 0.009429122554138303, 0.00964422826655209, 0.009443333372473717, 0.00971754058264196, 0.009499075822532177, 0.009621114237233996, 0.009521305095404387, 0.009623826015740633, 0.009540796745568514, 0.009383387863636017, 0.009608142776414752, 0.009461698587983847, 0.009539635386317968, 0.009666366735473275, 0.00935078365728259, 0.009372373344376683, 0.009270642884075642, 0.009425424039363861, 0.009285336825996637, 0.00956058781594038, 0.009386925725266337, 0.009425788884982467, 0.009399023605510592, 0.009296808624640107, 0.009541461011394858, 0.009511309675872326, 0.00930532324127853, 0.009417184861376882, 0.00978181348182261, 0.009461011039093137, 0.009483396541327238, 0.009528402937576175, 0.009514143923297524, 0.00926593178883195, 0.009271983290091157, 0.009417891502380371, 0.009547941386699677, 0.009911364410072565, 0.009503237437456846, 0.009586878819391131, 0.009307311847805977, 0.009591645561158657, 0.009659739909693599, 0.009493028745055199, 0.009414506377652287, 0.009373887442052364, 0.009433748433366418, 0.009373827604576945, 0.009601556463167071, 0.009641293669119477, 0.009730871999636292, 0.00942927785217762, 0.009395152796059847, 0.009656166192144156, 0.00973182381130755, 0.009512186981737614, 0.009492026176303625, 0.009438848588615656, 0.009374844841659069, 0.009326211409643292, 0.009398780763149261, 0.009390630293637514, 0.009327949956059456, 0.009660040261223912, 0.00952030485495925, 0.009810805786401033]\n"
          ]
        },
        {
          "output_type": "display_data",
          "data": {
            "text/plain": [
              "<Figure size 720x288 with 1 Axes>"
            ],
            "image/png": "[encoded data removed]"
          },
          "metadata": {}
        }
      ]
    },
    {
      "cell_type": "code",
      "source": [
        "new_data = np.array([.5, .3, .7]).reshape(-1, 1)"
      ],
      "metadata": {
        "id": "28vm6xgGR5M0"
      },
      "execution_count": null,
      "outputs": []
    },
    {
      "cell_type": "code",
      "source": [
        "predictions = sbs.predict(new_data)\n",
        "print(predictions)"
      ],
      "metadata": {
        "colab": {
          "base_uri": "https://localhost:8080/"
        },
        "id": "zTAkUBOjUKIJ",
        "outputId": "d446ad57-541e-4d36-f3e1-3cb17fc4b84e"
      },
      "execution_count": null,
      "outputs": [
        {
          "output_type": "stream",
          "name": "stdout",
          "text": [
            "[[1.9891284]\n",
            " [1.5974442]\n",
            " [2.3808126]]\n"
          ]
        }
      ]
    },
    {
      "cell_type": "code",
      "source": [
        "sbs.save_checkpoint('model_checkpoint.pth')"
      ],
      "metadata": {
        "id": "-uwQ1O4xUPwM"
      },
      "execution_count": null,
      "outputs": []
    },
    {
      "cell_type": "code",
      "source": [
        "## Now resuming the training but we have to call this model configuration\n",
        "\n",
        "## model configuration\n",
        "# %%writefile model_configuration/v4.py\n",
        "\n",
        "lr = 0.1\n",
        "\n",
        "torch.manual_seed(42)\n",
        "\n",
        "model = nn.Sequential(nn.Linear(1,1))\n",
        "\n",
        "optimizer = optim.SGD(model.parameters(), lr=lr)\n",
        "\n",
        "loss_fn = nn.MSELoss(reduction=\"mean\")"
      ],
      "metadata": {
        "id": "88ySJZiLUbGM"
      },
      "execution_count": null,
      "outputs": []
    },
    {
      "cell_type": "code",
      "source": [
        "print(model.state_dict())"
      ],
      "metadata": {
        "colab": {
          "base_uri": "https://localhost:8080/"
        },
        "id": "pyxUdfRIWnDA",
        "outputId": "295f62ff-4e88-466d-d9c1-dafd5f7f1d7a"
      },
      "execution_count": null,
      "outputs": [
        {
          "output_type": "stream",
          "name": "stdout",
          "text": [
            "OrderedDict([('0.weight', tensor([[0.7645]])), ('0.bias', tensor([0.8300]))])\n"
          ]
        }
      ]
    },
    {
      "cell_type": "code",
      "source": [
        "new_sbs = StepByStep(model, loss_fn\n",
        "                     , optimizer)\n",
        "new_sbs.load_checkpoint('model_checkpoint.pth')\n",
        "print(model.state_dict())\n",
        "\n"
      ],
      "metadata": {
        "colab": {
          "base_uri": "https://localhost:8080/"
        },
        "id": "thrmZC8OWonC",
        "outputId": "eb91d81d-ca2c-4af0-b460-248ccf7f8db4"
      },
      "execution_count": null,
      "outputs": [
        {
          "output_type": "stream",
          "name": "stdout",
          "text": [
            "OrderedDict([('0.weight', tensor([[1.9584]])), ('0.bias', tensor([1.0099]))])\n"
          ]
        }
      ]
    },
    {
      "cell_type": "code",
      "source": [
        "## Now we will train for next 50 epochs\n",
        "\n",
        "new_sbs.set_loaders(train_loader, val_loader)\n",
        "new_sbs.train(n_epochs=50)\n",
        "\n"
      ],
      "metadata": {
        "id": "uQd-aI5zXAab"
      },
      "execution_count": null,
      "outputs": []
    },
    {
      "cell_type": "code",
      "source": [
        "fig = new_sbs.plot_losses()"
      ],
      "metadata": {
        "colab": {
          "base_uri": "https://localhost:8080/",
          "height": 344
        },
        "id": "76UyYpd-XXT8",
        "outputId": "b184ea6a-d41f-4afd-81bb-546ab8679655"
      },
      "execution_count": null,
      "outputs": [
        {
          "output_type": "stream",
          "name": "stdout",
          "text": [
            "[0.008103259187191725, 0.008090755715966225, 0.008110600430518389, 0.008108102809637785, 0.008103875070810318, 0.008090910222381353, 0.008086178638041019, 0.00823542643338442, 0.008195825945585966, 0.00807939637452364, 0.008051646128296851, 0.008254422433674335, 0.008071400970220566, 0.008068094495683908, 0.008110717497766018, 0.008085128292441368, 0.008105919696390629, 0.00812521711923182, 0.00821544360369444, 0.008101074304431678, 0.008164090290665626, 0.008082118071615695, 0.008067409787327052, 0.008081210218369961, 0.008044863305985927, 0.008063959190621972, 0.008150563016533852, 0.008157016383484006, 0.008213325589895248, 0.008176823705434799, 0.008191375434398651, 0.008069305587559939, 0.00808620359748602, 0.008057249337434768, 0.008201230503618716, 0.008178186137229204, 0.008149013854563236, 0.008178454544395208, 0.00823700213804841, 0.008180422056466342, 0.008135184179991484, 0.008082398120313883, 0.008134271763265134, 0.008112376276403665, 0.00808522030711174, 0.008175725769251584, 0.008133900351822376, 0.008163576480001211, 0.008462431840598583, 0.00806363057345152, 0.00812046742066741, 0.008106663636863232, 0.008073199167847633, 0.008156622108072043, 0.008105767704546452, 0.00823685759678483, 0.008142154850065707, 0.008064412046223879, 0.008207341935485602, 0.008082239050418138, 0.00810356866568327, 0.008136113733053207, 0.008046595938503742, 0.008173477742820979, 0.008198964316397906, 0.008195225428789855, 0.008115727640688419, 0.008155898563563824, 0.008151079807430506, 0.008400735352188349, 0.008127294108271598, 0.00814558044075966, 0.008105012029409409, 0.008119264990091324, 0.008181200176477433, 0.008320680167526007, 0.00812393929809332, 0.008094358816742897, 0.008119299262762069, 0.008117465116083623, 0.008053121715784073, 0.008236436638981104, 0.00812736377120018, 0.008142061531543732, 0.008181874407455325, 0.008170186821371318, 0.008067279774695634, 0.008107779640704393, 0.008154057804495097, 0.008036619052290916, 0.00804966501891613, 0.008164883777499198, 0.00820430377498269, 0.008134561590850353, 0.008044642582535743, 0.008053008280694485, 0.008223754540085792, 0.008061207551509141, 0.008045473601669073, 0.008054440747946501, 0.008072096575051545, 0.008095617219805718, 0.00810111928731203, 0.008042268361896277, 0.008150586392730474, 0.00819426467642188, 0.008179096225649118, 0.008136449847370386, 0.008113039191812277, 0.008186120260506868, 0.008264593966305255, 0.00807327190414071, 0.008185631968080998, 0.008055684249848127, 0.008078210428357125, 0.008049854822456837, 0.008062626607716084, 0.008101310580968857, 0.00809621075168252, 0.008251088298857212, 0.008096452336758375, 0.008161767479032278, 0.008129136497154832, 0.008111412823200225, 0.008064113045111298, 0.008053439669311047, 0.008039734046906232, 0.008123504649847745, 0.008075558952987194, 0.008087249379605055, 0.008189999032765627, 0.008158910647034645, 0.008149605058133603, 0.008069152478128672, 0.008106040861457586, 0.008085878379642964, 0.008065616339445114, 0.008117211051285267, 0.00809161551296711, 0.008108459506183862, 0.008061254397034645, 0.008141334541141987, 0.008085839170962571, 0.008093996532261371, 0.008093643467873335, 0.008340165484696627, 0.008069042395800353, 0.00805047368630767, 0.008150951098650694, 0.008104559313505889, 0.008104511816054583, 0.008072213642299176, 0.008117999136447906, 0.008107018563896418, 0.008346572984009981, 0.008124700095504523, 0.008043455891311169, 0.008129926305264235, 0.008073161914944648, 0.008099863724783062, 0.008121293131262064, 0.008047707751393319, 0.008206686936318874, 0.00821921294555068, 0.008110695704817771, 0.008116446062922477, 0.008086345344781875, 0.008163797482848168, 0.008097358793020249, 0.00827470002695918, 0.00805159998126328, 0.008159405924379826, 0.008072556182742118, 0.008159593679010868, 0.008113136980682611, 0.008151130005717277, 0.008109375275671482, 0.0081960529088974, 0.008054781425744294, 0.008110682480037212, 0.008066120650619268, 0.008163477294147015, 0.008151859045028687, 0.00814559580758214, 0.008114308211952448, 0.0081473708152771, 0.008119360730051994, 0.008073120377957821, 0.008172208350151778, 0.008135473821312189, 0.008170232456177474, 0.008122581522911787, 0.008109103981405496, 0.0080799650400877, 0.008054649364203215, 0.00811645220965147, 0.008143346197903157, 0.008215213008224965, 0.008226212859153748, 0.008120911754667759, 0.008101214095950127, 0.008086674008518457, 0.008109771925956012, 0.00810808278620243, 0.008103962847962975, 0.008090797998011112, 0.00808615991845727, 0.008235373813658953, 0.00819571316242218, 0.008079354278743267, 0.00805164035409689, 0.008254373259842396, 0.0080714195035398, 0.008068117126822472, 0.008110718242824078, 0.008085127640515565, 0.0081059530377388, 0.008125219913199543, 0.00821545822545886, 0.008101098891347646, 0.008164070500060915, 0.008082099398598075, 0.008067410998046398, 0.008081195037811994, 0.008044867124408484, 0.00806394387036562, 0.008150580152869225, 0.008156998082995415, 0.008213292527943849, 0.008176816068589688, 0.008191367890685797, 0.008069302700459958, 0.008086217567324638, 0.00805726060643792, 0.008201214764267207, 0.00817818809300661, 0.008149025216698646, 0.008178455661982298, 0.008237018436193465, 0.008180427737534047, 0.00813518399372697, 0.008082404639571905, 0.008134268131107092, 0.008112376369535924, 0.008085217885673046, 0.008175731357187032, 0.008133903238922357, 0.008163576759397984, 0.008462429605424404, 0.008063629735261202]\n",
            "[0.009363044984638691, 0.00940986443310976, 0.009399190079420805, 0.009433647384867072, 0.00955993845127523, 0.009481941582635045, 0.009811091469600797, 0.009786488953977823, 0.009660887066274881, 0.009414460510015488, 0.009631584398448467, 0.009594057220965624, 0.009413269348442554, 0.009482097811996937, 0.009345635073259473, 0.009496145881712437, 0.009920421056449413, 0.009615332121029496, 0.009757414925843477, 0.009609903441742063, 0.009605561150237918, 0.009511429350823164, 0.009487674804404378, 0.00977193028666079, 0.00959955109283328, 0.009748589713126421, 0.009771980112418532, 0.009700074791908264, 0.009277592180296779, 0.009479495231062174, 0.009393998654559255, 0.009704607306048274, 0.009412248386070132, 0.009371959837153554, 0.009683002717792988, 0.009669688064604998, 0.00957124400883913, 0.00962935364805162, 0.009549090871587396, 0.009192612953484058, 0.009369577746838331, 0.009495550533756614, 0.009875657502561808, 0.009549687383696437, 0.009424221003428102, 0.009346033912152052, 0.009267557179555297, 0.009308586362749338, 0.009185704169794917, 0.009512197924777865, 0.009408167330548167, 0.009449305245652795, 0.009457236854359508, 0.009554729796946049, 0.009441651869565248, 0.00946246599778533, 0.009361911099404097, 0.009388542035594583, 0.00963824475184083, 0.009464118629693985, 0.009285240201279521, 0.009457573527470231, 0.00940458057448268, 0.009509503608569503, 0.00955208484083414, 0.00941199972294271, 0.009257101686671376, 0.009561405051499605, 0.009417541092261672, 0.0096406158991158, 0.009714463027194142, 0.009675394743680954, 0.009757570223882794, 0.009637219365686178, 0.009516013320535421, 0.0094855185598135, 0.00949900969862938, 0.00940412376075983, 0.009320392971858382, 0.009420586982741952, 0.009422897826880217, 0.009365318575873971, 0.009324350394308567, 0.009203165536746383, 0.009359134128317237, 0.009344321442767978, 0.009453316684812307, 0.009611251065507531, 0.009602069621905684, 0.009582658065482974, 0.009562715888023376, 0.009857922093942761, 0.009423402138054371, 0.009512507822364569, 0.00952212349511683, 0.009726492455229163, 0.010032812133431435, 0.009482637280598283, 0.009518899954855442, 0.009446422336623073, 0.00959895015694201, 0.009756292449310422, 0.00958804041147232, 0.009525065310299397, 0.00920267472974956, 0.009504687739536166, 0.009755130857229233, 0.009210497373715043, 0.00952589139342308, 0.00949128856882453, 0.00960202794522047, 0.009507050039246678, 0.009666600031778216, 0.009351794375106692, 0.009428508812561631, 0.009379977127537131, 0.009496437618508935, 0.009644367033615708, 0.009608213789761066, 0.009352346183732152, 0.00960340048186481, 0.00927141378633678, 0.009357391158118844, 0.009480506647378206, 0.009522882057353854, 0.00946427253074944, 0.009626363404095173, 0.009851276408880949, 0.009449909208342433, 0.009643075056374073, 0.009554964024573565, 0.010033043567091227, 0.009460408007726073, 0.00941486144438386, 0.009429122554138303, 0.00964422826655209, 0.009443333372473717, 0.00971754058264196, 0.009499075822532177, 0.009621114237233996, 0.009521305095404387, 0.009623826015740633, 0.009540796745568514, 0.009383387863636017, 0.009608142776414752, 0.009461698587983847, 0.009539635386317968, 0.009666366735473275, 0.00935078365728259, 0.009372373344376683, 0.009270642884075642, 0.009425424039363861, 0.009285336825996637, 0.00956058781594038, 0.009386925725266337, 0.009425788884982467, 0.009399023605510592, 0.009296808624640107, 0.009541461011394858, 0.009511309675872326, 0.00930532324127853, 0.009417184861376882, 0.00978181348182261, 0.009461011039093137, 0.009483396541327238, 0.009528402937576175, 0.009514143923297524, 0.00926593178883195, 0.009271983290091157, 0.009417891502380371, 0.009547941386699677, 0.009911364410072565, 0.009503237437456846, 0.009586878819391131, 0.009307311847805977, 0.009591645561158657, 0.009659739909693599, 0.009493028745055199, 0.009414506377652287, 0.009373887442052364, 0.009433748433366418, 0.009373827604576945, 0.009601556463167071, 0.009641293669119477, 0.009730871999636292, 0.00942927785217762, 0.009395152796059847, 0.009656166192144156, 0.00973182381130755, 0.009512186981737614, 0.009492026176303625, 0.009438848588615656, 0.009374844841659069, 0.009326211409643292, 0.009398780763149261, 0.009390630293637514, 0.009327949956059456, 0.009660040261223912, 0.00952030485495925, 0.009810805786401033, 0.009410162223502994, 0.009417876601219177, 0.009397454792633653, 0.009429798694327474, 0.009556103963404894, 0.009478199295699596, 0.009807622991502285, 0.0097832758910954, 0.009657942224293947, 0.009411621140316129, 0.009628929663449526, 0.009591552428901196, 0.009410877246409655, 0.009480008156970143, 0.009343687444925308, 0.009494364028796554, 0.009918868076056242, 0.009613784030079842, 0.009756063111126423, 0.0096085702534765, 0.009604248218238354, 0.009510241448879242, 0.009486558148637414, 0.009770960081368685, 0.009598706848919392, 0.009747739881277084, 0.009771224344149232, 0.009699336485937238, 0.009276891825720668, 0.009478866122663021, 0.009393431013450027, 0.009704088559374213, 0.009411746868863702, 0.00937147019430995, 0.009682594798505306, 0.009669276187196374, 0.009570863097906113, 0.009628999745473266, 0.009548776550218463, 0.009192296536639333, 0.009369288571178913, 0.009495291393250227, 0.009875418618321419, 0.009549462469294667, 0.009424019604921341, 0.0093458432238549, 0.009267393033951521, 0.009308419423177838, 0.00918554374948144, 0.00951206567697227]\n"
          ]
        },
        {
          "output_type": "display_data",
          "data": {
            "text/plain": [
              "<Figure size 720x288 with 1 Axes>"
            ],
            "image/png": "[encoded data removed]"
          },
          "metadata": {}
        }
      ]
    },
    {
      "cell_type": "code",
      "source": [
        "print(sbs.model.state_dict())"
      ],
      "metadata": {
        "colab": {
          "base_uri": "https://localhost:8080/"
        },
        "id": "m147bTrkXaJq",
        "outputId": "dd5bf3df-55df-4ef5-8c2e-934bba2ab900"
      },
      "execution_count": null,
      "outputs": [
        {
          "output_type": "stream",
          "name": "stdout",
          "text": [
            "OrderedDict([('0.weight', tensor([[1.9584]])), ('0.bias', tensor([1.0099]))])\n"
          ]
        }
      ]
    },
    {
      "cell_type": "code",
      "source": [
        "## For keeping it in a folder\n",
        "\n",
        "%%writefile /content/drive/MyDrive/PytorchBook/stepbystep/v0.py\n",
        "\n",
        "\n",
        "import numpy as np\n",
        "import datetime\n",
        "import torch\n",
        "import matplotlib.pyplot as plt\n",
        "from torch.utils.tensorboard import SummaryWriter\n",
        "\n",
        "plt.style.use('fivethirtyeight')\n",
        "\n",
        "class StepByStep(object):\n",
        "    def __init__(self, model, loss_fn, optimizer):\n",
        "        # Here we define the attributes of our class\n",
        "        \n",
        "        # We start by storing the arguments as attributes \n",
        "        # to use them later\n",
        "        self.model = model\n",
        "        self.loss_fn = loss_fn\n",
        "        self.optimizer = optimizer\n",
        "        self.device = 'cuda' if torch.cuda.is_available() else 'cpu'\n",
        "        # Let's send the model to the specified device right away\n",
        "        self.model.to(self.device)\n",
        "\n",
        "        # These attributes are defined here, but since they are\n",
        "        # not informed at the moment of creation, we keep them None\n",
        "        self.train_loader = None\n",
        "        self.val_loader = None\n",
        "        self.writer = None\n",
        "        \n",
        "        # These attributes are going to be computed internally\n",
        "        self.losses = []\n",
        "        self.val_losses = []\n",
        "        self.total_epochs = 0\n",
        "\n",
        "        # Creates the train_step function for our model, \n",
        "        # loss function and optimizer\n",
        "        # Note: there are NO ARGS there! It makes use of the class\n",
        "        # attributes directly\n",
        "        self.train_step_fn = self._make_train_step_fn()\n",
        "        # Creates the val_step function for our model and loss\n",
        "        self.val_step_fn = self._make_val_step_fn()\n",
        "\n",
        "    def to(self, device):\n",
        "        # This method allows the user to specify a different device\n",
        "        # It sets the corresponding attribute (to be used later in\n",
        "        # the mini-batches) and sends the model to the device\n",
        "        try:\n",
        "            self.device = device\n",
        "            self.model.to(self.device)\n",
        "        except RuntimeError:\n",
        "            self.device = 'cuda' if torch.cuda.is_available() else 'cpu'\n",
        "            print(f\"Couldn't send it to {device}, sending it to {self.device} instead.\")\n",
        "            self.model.to(self.device)\n",
        "\n",
        "    def set_loaders(self, train_loader, val_loader=None):\n",
        "        # This method allows the user to define which train_loader (and val_loader, optionally) to use\n",
        "        # Both loaders are then assigned to attributes of the class\n",
        "        # So they can be referred to later\n",
        "        self.train_loader = train_loader\n",
        "        self.val_loader = val_loader\n",
        "\n",
        "    def set_tensorboard(self, name, folder='runs'):\n",
        "        # This method allows the user to define a SummaryWriter to interface with TensorBoard\n",
        "        suffix = datetime.datetime.now().strftime('%Y%m%d%H%M%S')\n",
        "        self.writer = SummaryWriter(f'{folder}/{name}_{suffix}')\n",
        "\n",
        "    def _make_train_step_fn(self):\n",
        "        # This method does not need ARGS... it can refer to\n",
        "        # the attributes: self.model, self.loss_fn and self.optimizer\n",
        "        \n",
        "        # Builds function that performs a step in the train loop\n",
        "        def perform_train_step_fn(x, y):\n",
        "            # Sets model to TRAIN mode\n",
        "            self.model.train()\n",
        "\n",
        "            # Step 1 - Computes our model's predicted output - forward pass\n",
        "            yhat = self.model(x)\n",
        "            # Step 2 - Computes the loss\n",
        "            loss = self.loss_fn(yhat, y)\n",
        "            # Step 3 - Computes gradients for both \"a\" and \"b\" parameters\n",
        "            loss.backward()\n",
        "            # Step 4 - Updates parameters using gradients and the learning rate\n",
        "            self.optimizer.step()\n",
        "            self.optimizer.zero_grad()\n",
        "\n",
        "            # Returns the loss\n",
        "            return loss.item()\n",
        "\n",
        "        # Returns the function that will be called inside the train loop\n",
        "        return perform_train_step_fn\n",
        "    \n",
        "    def _make_val_step_fn(self):\n",
        "        # Builds function that performs a step in the validation loop\n",
        "        def perform_val_step_fn(x, y):\n",
        "            # Sets model to EVAL mode\n",
        "            self.model.eval()\n",
        "\n",
        "            # Step 1 - Computes our model's predicted output - forward pass\n",
        "            yhat = self.model(x)\n",
        "            # Step 2 - Computes the loss\n",
        "            loss = self.loss_fn(yhat, y)\n",
        "            # There is no need to compute Steps 3 and 4, since we don't update parameters during evaluation\n",
        "            return loss.item()\n",
        "\n",
        "        return perform_val_step_fn\n",
        "            \n",
        "    def _mini_batch(self, validation=False):\n",
        "        # The mini-batch can be used with both loaders\n",
        "        # The argument `validation`defines which loader and \n",
        "        # corresponding step function is going to be used\n",
        "        if validation:\n",
        "            data_loader = self.val_loader\n",
        "            step_fn = self.val_step_fn\n",
        "        else:\n",
        "            data_loader = self.train_loader\n",
        "            step_fn = self.train_step_fn\n",
        "\n",
        "        if data_loader is None:\n",
        "            return None\n",
        "            \n",
        "        # Once the data loader and step function, this is the same\n",
        "        # mini-batch loop we had before\n",
        "        mini_batch_losses = []\n",
        "        for x_batch, y_batch in data_loader:\n",
        "            x_batch = x_batch.to(self.device)\n",
        "            y_batch = y_batch.to(self.device)\n",
        "\n",
        "            mini_batch_loss = step_fn(x_batch, y_batch)\n",
        "            mini_batch_losses.append(mini_batch_loss)\n",
        "\n",
        "        loss = np.mean(mini_batch_losses)\n",
        "        return loss\n",
        "\n",
        "    def set_seed(self, seed=42):\n",
        "        torch.backends.cudnn.deterministic = True\n",
        "        torch.backends.cudnn.benchmark = False    \n",
        "        torch.manual_seed(seed)\n",
        "        np.random.seed(seed)\n",
        "    \n",
        "    def train(self, n_epochs, seed=42):\n",
        "        # To ensure reproducibility of the training process\n",
        "        self.set_seed(seed)\n",
        "\n",
        "        for epoch in range(n_epochs):\n",
        "            # Keeps track of the numbers of epochs\n",
        "            # by updating the corresponding attribute\n",
        "            self.total_epochs += 1\n",
        "\n",
        "            # inner loop\n",
        "            # Performs training using mini-batches\n",
        "            loss = self._mini_batch(validation=False)\n",
        "            self.losses.append(loss)\n",
        "\n",
        "            # VALIDATION\n",
        "            # no gradients in validation!\n",
        "            with torch.no_grad():\n",
        "                # Performs evaluation using mini-batches\n",
        "                val_loss = self._mini_batch(validation=True)\n",
        "                self.val_losses.append(val_loss)\n",
        "\n",
        "            # If a SummaryWriter has been set...\n",
        "            if self.writer:\n",
        "                scalars = {'training': loss}\n",
        "                if val_loss is not None:\n",
        "                    scalars.update({'validation': val_loss})\n",
        "                # Records both losses for each epoch under the main tag \"loss\"\n",
        "                self.writer.add_scalars(main_tag='loss',\n",
        "                                        tag_scalar_dict=scalars,\n",
        "                                        global_step=epoch)\n",
        "\n",
        "        if self.writer:\n",
        "            # Closes the writer\n",
        "            self.writer.close()\n",
        "\n",
        "    def save_checkpoint(self, filename):\n",
        "        # Builds dictionary with all elements for resuming training\n",
        "        checkpoint = {'epoch': self.total_epochs,\n",
        "                      'model_state_dict': self.model.state_dict(),\n",
        "                      'optimizer_state_dict': self.optimizer.state_dict(),\n",
        "                      'loss': self.losses,\n",
        "                      'val_loss': self.val_losses}\n",
        "\n",
        "        torch.save(checkpoint, filename)\n",
        "\n",
        "    def load_checkpoint(self, filename):\n",
        "        # Loads dictionary\n",
        "        checkpoint = torch.load(filename)\n",
        "\n",
        "        # Restore state for model and optimizer\n",
        "        self.model.load_state_dict(checkpoint['model_state_dict'])\n",
        "        self.optimizer.load_state_dict(checkpoint['optimizer_state_dict'])\n",
        "\n",
        "        self.total_epochs = checkpoint['epoch']\n",
        "        self.losses = checkpoint['loss']\n",
        "        self.val_losses = checkpoint['val_loss']\n",
        "\n",
        "        self.model.train() # always use TRAIN for resuming training   \n",
        "\n",
        "    def predict(self, x):\n",
        "        # Set is to evaluation mode for predictions\n",
        "        self.model.eval() \n",
        "        # Takes aNumpy input and make it a float tensor\n",
        "        x_tensor = torch.as_tensor(x).float()\n",
        "        # Send input to device and uses model for prediction\n",
        "        y_hat_tensor = self.model(x_tensor.to(self.device))\n",
        "        # Set it back to train mode\n",
        "        self.model.train()\n",
        "        # Detaches it, brings it to CPU and back to Numpy\n",
        "        return y_hat_tensor.detach().cpu().numpy()\n",
        "\n",
        "    def plot_losses(self):\n",
        "        fig = plt.figure(figsize=(10, 4))\n",
        "        plt.plot(self.losses, label='Training Loss', c='b')\n",
        "        plt.plot(self.val_losses, label='Validation Loss', c='r')\n",
        "        plt.yscale('log')\n",
        "        plt.xlabel('Epochs')\n",
        "        plt.ylabel('Loss')\n",
        "        plt.legend()\n",
        "        plt.tight_layout()\n",
        "        return fig\n",
        "\n",
        "    def add_graph(self):\n",
        "        # Fetches a single mini-batch so we can use add_graph\n",
        "        if self.train_loader and self.writer:\n",
        "            x_sample, y_sample = next(iter(self.train_loader))\n",
        "            self.writer.add_graph(self.model, x_sample.to(self.device))"
      ],
      "metadata": {
        "id": "ZwiPe2M2XjSz",
        "colab": {
          "base_uri": "https://localhost:8080/"
        },
        "outputId": "2febf9c2-f8f8-4fd8-e493-6c15825294cf"
      },
      "execution_count": 2,
      "outputs": [
        {
          "output_type": "stream",
          "name": "stdout",
          "text": [
            "Overwriting /content/drive/MyDrive/PytorchBook/stepbystep/v0.py\n"
          ]
        }
      ]
    },
    {
      "cell_type": "code",
      "source": [
        ""
      ],
      "metadata": {
        "id": "g0UQTO2TnjAZ"
      },
      "execution_count": null,
      "outputs": []
    }
  ]
}