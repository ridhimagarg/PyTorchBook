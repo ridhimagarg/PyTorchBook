{
  "nbformat": 4,
  "nbformat_minor": 0,
  "metadata": {
    "colab": {
      "name": "Chapter2.1.ipynb",
      "provenance": [],
      "authorship_tag": "ABX9TyOxnFEBtPXYmP6W+Nvu5Vye",
      "include_colab_link": true
    },
    "kernelspec": {
      "name": "python3",
      "display_name": "Python 3"
    },
    "language_info": {
      "name": "python"
    }
  },
  "cells": [
    {
      "cell_type": "markdown",
      "metadata": {
        "id": "view-in-github",
        "colab_type": "text"
      },
      "source": [
        "<a href=\"https://colab.research.google.com/github/ridhimagarg/PyTorchBook/blob/main/Chapter2_1.ipynb\" target=\"_parent\"><img src=\"https://colab.research.google.com/assets/colab-badge.svg\" alt=\"Open In Colab\"/></a>"
      ]
    },
    {
      "cell_type": "code",
      "execution_count": 1,
      "metadata": {
        "id": "OFhr6ZsIKz49"
      },
      "outputs": [],
      "source": [
        "import numpy as np\n",
        "import datetime\n",
        "import torch\n",
        "import torch.optim as optim\n",
        "import torch.nn as nn\n",
        "import torch.functional as F\n",
        "from torch.utils.data import DataLoader, TensorDataset, random_split\n",
        "from torch.utils.tensorboard import SummaryWriter\n",
        "import matplotlib.pyplot as plt\n",
        "%matplotlib inline\n",
        "plt.style.use('fivethirtyeight')"
      ]
    },
    {
      "cell_type": "code",
      "source": [
        ""
      ],
      "metadata": {
        "id": "t_tcq6zES68m"
      },
      "execution_count": 4,
      "outputs": []
    },
    {
      "cell_type": "code",
      "source": [
        "def make_val_step(model, loss_fn):\n",
        "\n",
        "  def perform_val_step(x, y):\n",
        "\n",
        "    model.eval()\n",
        "\n",
        "    yhat = model(x)\n",
        "\n",
        "    loss = loss_fn(yhat, y)\n",
        "\n",
        "    return loss.item()\n",
        "\n",
        "  return perform_val_step"
      ],
      "metadata": {
        "id": "vfLyUr_8TC7f"
      },
      "execution_count": 5,
      "outputs": []
    },
    {
      "cell_type": "code",
      "source": [
        "class StepByStep(object):\n",
        "  def __init__(self, model, loss_fn, optimizer):\n",
        "    self.model = model\n",
        "    self.loss_fn = loss_fn\n",
        "    self.optimizer = optimizer\n",
        "    self.device = 'cuda' if torch.cuda.is_available() else 'cpu'\n",
        "\n",
        "    self.model.to(self.device)\n",
        "\n",
        "    self.train_loader = None\n",
        "    self.val_loader = None\n",
        "    self.writer = None\n",
        "\n",
        "    self.losses = []\n",
        "    self.val_losses = []\n",
        "    self.total_epochs = 0\n",
        "\n",
        "    self.train_step = self._make_train_step()\n",
        "    self.val_step = self._make_val_step()\n",
        "\n",
        "    self.mini_batch = self._mini_batch()\n",
        "\n",
        "  def to(self, device):\n",
        "    self.device = device\n",
        "    self.model.to(self.device)\n",
        "\n",
        "  def set_loaders(self, train_loader, val_loader=None):\n",
        "\n",
        "    self.train_loader = train_loader\n",
        "    self.val_loader = val_loader\n",
        "\n",
        "  def set_tensorboard(self, name, folder='runs'):\n",
        "\n",
        "    suffix = datetime.datetime.now('%Y%m%d%H%M%S')\n",
        "    self.writer = SummaryWriter('{}/{}_{}'.format(folder, name, suffix))\n",
        "\n",
        "  def make_train_step(self):\n",
        "\n",
        "    def perform_train_step(x, y):\n",
        "\n",
        "      self.model.train()\n",
        "      yhat = self.model(x)\n",
        "\n",
        "      loss = self.loss_fn(yhat, y)\n",
        "\n",
        "      loss.backward()\n",
        "\n",
        "      self.optimizer.step()\n",
        "      self.optimizer.zero_grad()\n",
        "\n",
        "      return loss.item()\n",
        "\n",
        "    return perform_train_step\n",
        "\n",
        "  def _make_val_step(self):\n",
        "    # Builds function that performs a step in the validation loop\n",
        "    def perform_val_step(x, y):\n",
        "      # Sets model to EVAL mode\n",
        "      self.model.eval()\n",
        "      # Step 1 - Computes model's predicted output - forward pass\n",
        "      yhat = self.model(x)\n",
        "      # Step 2 - Computes the loss\n",
        "      loss = self.loss_fn(yhat, y)\n",
        "      # There is no need to compute Steps 3 and 4,\n",
        "      # since we don't update parameters during evaluation\n",
        "      return loss.item()\n",
        "    return perform_val_step\n",
        "\n",
        "  def _mini_batch(self, validation=False):\n",
        "\n",
        "    if validation:\n",
        "      data_loader = self.val_loader\n",
        "      step = self.val_step\n",
        "\n",
        "    else:\n",
        "      data_loader = self.train_loader\n",
        "      step = self.train_step\n",
        "\n",
        "    if data_loader is None:\n",
        "      return None\n",
        "\n",
        "    mini_batch_losses = []\n",
        "    for x_batch, y_batch in data_loader:\n",
        "      x_batch = x_batch.to(self.device)\n",
        "      y_batch = y_batch.to(self.device)\n",
        "\n",
        "      mini_batch_loss = step(x_batch, y_batch)\n",
        "      mini_batch_losses.append(mini_batch_loss)\n",
        "\n",
        "    loss = np.mean(mini_batch_losses)\n",
        "\n",
        "    return loss\n",
        "\n",
        "\n",
        "\n",
        "\n",
        "\n",
        "    "
      ],
      "metadata": {
        "id": "4so6ChrgK7JP"
      },
      "execution_count": 2,
      "outputs": []
    },
    {
      "cell_type": "code",
      "source": [
        ""
      ],
      "metadata": {
        "id": "dHDqpsWvOVJJ"
      },
      "execution_count": null,
      "outputs": []
    }
  ]
}