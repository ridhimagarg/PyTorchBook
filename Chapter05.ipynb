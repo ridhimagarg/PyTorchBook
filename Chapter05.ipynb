{
  "nbformat": 4,
  "nbformat_minor": 0,
  "metadata": {
    "colab": {
      "name": "Chapter05.ipynb",
      "provenance": [],
      "authorship_tag": "ABX9TyOik10wI4W44FT6C707+EkV",
      "include_colab_link": true
    },
    "kernelspec": {
      "name": "python3",
      "display_name": "Python 3"
    },
    "language_info": {
      "name": "python"
    }
  },
  "cells": [
    {
      "cell_type": "markdown",
      "metadata": {
        "id": "view-in-github",
        "colab_type": "text"
      },
      "source": [
        "<a href=\"https://colab.research.google.com/github/ridhimagarg/PyTorchBook/blob/main/Chapter05.ipynb\" target=\"_parent\"><img src=\"https://colab.research.google.com/assets/colab-badge.svg\" alt=\"Open In Colab\"/></a>"
      ]
    },
    {
      "cell_type": "code",
      "execution_count": null,
      "metadata": {
        "id": "tcJOhcVYFnCs"
      },
      "outputs": [],
      "source": [
        "import random\n",
        "import numpy as np\n",
        "from PIL import Image\n",
        "\n",
        "import torch\n",
        "import torch.optim as optim\n",
        "import torch.nn as nn\n",
        "import torch.nn.functional as F\n",
        "\n",
        "from torch.utils.data import DataLoader, Dataset\n",
        "from torchvision.transforms import Compose, Normalize\n",
        "\n",
        "# from data_generation.image_classification import generate_dataset ## for directory run\n",
        "from image_classification import generate_dataset\n",
        "from helpers import index_splitter, make_balanced_sampler\n",
        "# from stepbystep.v1 import StepByStep ## for directory run\n",
        "from v1 import StepByStep"
      ]
    },
    {
      "cell_type": "code",
      "source": [
        "single = np.array(\n",
        "  [[[[5, 0, 8, 7, 8, 1],\n",
        "  [1, 9, 5, 0, 7, 7],\n",
        "  [6, 0, 2, 4, 6, 6],\n",
        "  [9, 7, 6, 6, 8, 4],\n",
        "  [8, 3, 8, 5, 1, 3],\n",
        "  [7, 2, 7, 0, 1, 0]]]]\n",
        ")\n",
        "single.shape"
      ],
      "metadata": {
        "colab": {
          "base_uri": "https://localhost:8080/"
        },
        "id": "nZF6S_vLIrRr",
        "outputId": "6cf6b4db-297d-4154-f42a-a3d64081c25f"
      },
      "execution_count": null,
      "outputs": [
        {
          "output_type": "execute_result",
          "data": {
            "text/plain": [
              "(1, 1, 6, 6)"
            ]
          },
          "metadata": {},
          "execution_count": 2
        }
      ]
    },
    {
      "cell_type": "code",
      "source": [
        "identity = np.array(\n",
        "  [[[[0, 0, 0],\n",
        "  [0, 1, 0],\n",
        "  [0, 0, 0]]]]\n",
        ")\n",
        "identity.shape\n"
      ],
      "metadata": {
        "colab": {
          "base_uri": "https://localhost:8080/"
        },
        "id": "Of4rFj1GJaky",
        "outputId": "5c118f4c-d61c-40d8-dd0f-c8a94cc5264b"
      },
      "execution_count": null,
      "outputs": [
        {
          "output_type": "execute_result",
          "data": {
            "text/plain": [
              "(1, 1, 3, 3)"
            ]
          },
          "metadata": {},
          "execution_count": 3
        }
      ]
    },
    {
      "cell_type": "code",
      "source": [
        "region = single[:, :, 0:3, 0:3] \n",
        "filtered_region = region * identity\n",
        "total = filtered_region.sum()"
      ],
      "metadata": {
        "id": "mJdqcrrOJcti"
      },
      "execution_count": null,
      "outputs": []
    },
    {
      "cell_type": "code",
      "source": [
        "new_region = single[:, :, 0:3, (0+1):(3+1)]\n",
        "new_filtered_region = new_region * identity\n",
        "total = new_filtered_region.sum()"
      ],
      "metadata": {
        "id": "HnKj1fboKVKj"
      },
      "execution_count": null,
      "outputs": []
    },
    {
      "cell_type": "code",
      "source": [
        "last_horizontal_region = single[:, :, 0:3, (0+4):(3+4)]\n",
        "last_horizontal_region * identity"
      ],
      "metadata": {
        "colab": {
          "base_uri": "https://localhost:8080/",
          "height": 183
        },
        "id": "GSoGhzbgK6mv",
        "outputId": "5501c046-72a0-4652-e89b-9e4228433655"
      },
      "execution_count": null,
      "outputs": [
        {
          "output_type": "error",
          "ename": "ValueError",
          "evalue": "ignored",
          "traceback": [
            "\u001b[0;31m---------------------------------------------------------------------------\u001b[0m",
            "\u001b[0;31mValueError\u001b[0m                                Traceback (most recent call last)",
            "\u001b[0;32m<ipython-input-6-402875063443>\u001b[0m in \u001b[0;36m<module>\u001b[0;34m()\u001b[0m\n\u001b[1;32m      1\u001b[0m \u001b[0mlast_horizontal_region\u001b[0m \u001b[0;34m=\u001b[0m \u001b[0msingle\u001b[0m\u001b[0;34m[\u001b[0m\u001b[0;34m:\u001b[0m\u001b[0;34m,\u001b[0m \u001b[0;34m:\u001b[0m\u001b[0;34m,\u001b[0m \u001b[0;36m0\u001b[0m\u001b[0;34m:\u001b[0m\u001b[0;36m3\u001b[0m\u001b[0;34m,\u001b[0m \u001b[0;34m(\u001b[0m\u001b[0;36m0\u001b[0m\u001b[0;34m+\u001b[0m\u001b[0;36m4\u001b[0m\u001b[0;34m)\u001b[0m\u001b[0;34m:\u001b[0m\u001b[0;34m(\u001b[0m\u001b[0;36m3\u001b[0m\u001b[0;34m+\u001b[0m\u001b[0;36m4\u001b[0m\u001b[0;34m)\u001b[0m\u001b[0;34m]\u001b[0m\u001b[0;34m\u001b[0m\u001b[0;34m\u001b[0m\u001b[0m\n\u001b[0;32m----> 2\u001b[0;31m \u001b[0mlast_horizontal_region\u001b[0m \u001b[0;34m*\u001b[0m \u001b[0midentity\u001b[0m\u001b[0;34m\u001b[0m\u001b[0;34m\u001b[0m\u001b[0m\n\u001b[0m",
            "\u001b[0;31mValueError\u001b[0m: operands could not be broadcast together with shapes (1,1,3,2) (1,1,3,3) "
          ]
        }
      ]
    },
    {
      "cell_type": "markdown",
      "source": [
        "## Convolving in Pytorch"
      ],
      "metadata": {
        "id": "Q95JkseXMH7w"
      }
    },
    {
      "cell_type": "code",
      "source": [
        "image = torch.as_tensor(single).float()\n",
        "kernel_identity = torch.as_tensor(identity).float()"
      ],
      "metadata": {
        "id": "ak4Ylm_mLInI"
      },
      "execution_count": null,
      "outputs": []
    },
    {
      "cell_type": "code",
      "source": [
        "## Two ways of defining the convolutional -> Functional, Module\n",
        "\n",
        "convolved = F.conv2d(image, kernel_identity, stride=1)\n",
        "convolved"
      ],
      "metadata": {
        "colab": {
          "base_uri": "https://localhost:8080/"
        },
        "id": "3ikj2ZDUMfqD",
        "outputId": "5a35d799-2ef2-47df-f129-b9ce3ed1d317"
      },
      "execution_count": null,
      "outputs": [
        {
          "output_type": "execute_result",
          "data": {
            "text/plain": [
              "tensor([[[[9., 5., 0., 7.],\n",
              "          [0., 2., 4., 6.],\n",
              "          [7., 6., 6., 8.],\n",
              "          [3., 8., 5., 1.]]]])"
            ]
          },
          "metadata": {},
          "execution_count": 8
        }
      ]
    },
    {
      "cell_type": "code",
      "source": [
        "conv = nn.Conv2d(in_channels=1, out_channels=1, kernel_size=3, stride=1)\n",
        "conv(image)"
      ],
      "metadata": {
        "colab": {
          "base_uri": "https://localhost:8080/"
        },
        "id": "NbzaKrB3MuLs",
        "outputId": "9824a6ba-21ea-4f91-efbe-d56e18190aa7"
      },
      "execution_count": null,
      "outputs": [
        {
          "output_type": "execute_result",
          "data": {
            "text/plain": [
              "tensor([[[[-4.9333, -7.2610, -5.6285, -6.6524],\n",
              "          [-6.9281, -5.7925, -5.3011, -5.8231],\n",
              "          [-8.7037, -5.3121, -5.1267, -7.4925],\n",
              "          [-8.5701, -5.6458, -7.8008, -4.1924]]]],\n",
              "       grad_fn=<ThnnConv2DBackward0>)"
            ]
          },
          "metadata": {},
          "execution_count": 9
        }
      ]
    },
    {
      "cell_type": "code",
      "source": [
        "## for multiple filters\n",
        "\n",
        "conv_multiple = nn.Conv2d(in_channels=1, out_channels=2, kernel_size=3, stride=1)\n",
        "conv_multiple.weight"
      ],
      "metadata": {
        "colab": {
          "base_uri": "https://localhost:8080/"
        },
        "id": "2vFgAyQGXKK9",
        "outputId": "bafd11db-42d5-439b-842d-907df4fa136a"
      },
      "execution_count": null,
      "outputs": [
        {
          "output_type": "execute_result",
          "data": {
            "text/plain": [
              "Parameter containing:\n",
              "tensor([[[[ 0.1172,  0.2258,  0.1416],\n",
              "          [-0.1706,  0.0261, -0.0372],\n",
              "          [ 0.0198,  0.1870, -0.1678]]],\n",
              "\n",
              "\n",
              "        [[[-0.0163,  0.0841, -0.0644],\n",
              "          [ 0.2509, -0.0808, -0.2158],\n",
              "          [ 0.0348,  0.1144, -0.2342]]]], requires_grad=True)"
            ]
          },
          "metadata": {},
          "execution_count": 10
        }
      ]
    },
    {
      "cell_type": "code",
      "source": [
        ""
      ],
      "metadata": {
        "id": "QCNsfOxrXlrd"
      },
      "execution_count": null,
      "outputs": []
    }
  ]
}