{
  "nbformat": 4,
  "nbformat_minor": 0,
  "metadata": {
    "colab": {
      "name": "Chapter04.ipynb",
      "provenance": [],
      "authorship_tag": "ABX9TyNrCYqjfX00WH/qit6fzYnh",
      "include_colab_link": true
    },
    "kernelspec": {
      "name": "python3",
      "display_name": "Python 3"
    },
    "language_info": {
      "name": "python"
    }
  },
  "cells": [
    {
      "cell_type": "markdown",
      "metadata": {
        "id": "view-in-github",
        "colab_type": "text"
      },
      "source": [
        "<a href=\"https://colab.research.google.com/github/ridhimagarg/PyTorchBook/blob/main/Chapter04.ipynb\" target=\"_parent\"><img src=\"https://colab.research.google.com/assets/colab-badge.svg\" alt=\"Open In Colab\"/></a>"
      ]
    },
    {
      "cell_type": "code",
      "execution_count": 3,
      "metadata": {
        "id": "JhGw-8RrEpSG"
      },
      "outputs": [],
      "source": [
        "import random\n",
        "import numpy as np\n",
        "from PIL import Image\n",
        "\n",
        "import torch\n",
        "import torch.optim as optim\n",
        "import torch.nn as nn\n",
        "import torch.nn.functional as F\n",
        "\n",
        "from torch.utils.data import DataLoader, Dataset, random_split, WeightedRandomSampler, SubsetRandomSampler\n",
        "from torchvision.transforms import Compose, ToTensor, Normalize, ToPILImage, RandomHorizontalFlip, Resize\n",
        "\n",
        "import matplotlib.pyplot as plt\n",
        "plt.style.use('fivethirtyeight')\n",
        "%matplotlib inline\n",
        "\n",
        "# from data_generation.image_classification import generate_dataset\n",
        "from image_classification import generate_dataset ##  if working on  colab \n",
        "from v0 import StepByStep\n",
        "# from plot.chapter4 import * \n",
        "from chapter4 import *\n",
        "# from stepbystep.v0 import StepByStep"
      ]
    },
    {
      "cell_type": "markdown",
      "source": [
        "## Data Generation"
      ],
      "metadata": {
        "id": "PYYFTVF6JXon"
      }
    },
    {
      "cell_type": "code",
      "source": [
        "## lets generate 300\n",
        "images, labels = generate_dataset(img_size=5, n_images=300, seed=13)"
      ],
      "metadata": {
        "id": "pN51SPc-Fr_v"
      },
      "execution_count": 4,
      "outputs": []
    },
    {
      "cell_type": "code",
      "source": [
        "fig = plot_images(images, labels, n_plot=30)"
      ],
      "metadata": {
        "colab": {
          "base_uri": "https://localhost:8080/",
          "height": 549
        },
        "id": "GHYWHHeMJmOp",
        "outputId": "b48df338-0d0f-4eee-e134-e684b76ce9a0"
      },
      "execution_count": 5,
      "outputs": [
        {
          "output_type": "display_data",
          "data": {
            "text/plain": [
              "<Figure size 648x540 with 30 Axes>"
            ],
            "image/png": "[encoded data removed]"
          },
          "metadata": {}
        }
      ]
    },
    {
      "cell_type": "code",
      "source": [
        "## Images  and channels\n",
        "\n",
        "image_r = np.zeros((5, 5), dtype=np.uint8)\n",
        "image_r[:, 0] = 255\n",
        "image_r[:, 1] = 128\n",
        "image_g = np.zeros((5, 5), dtype=np.uint8)\n",
        "image_g[:, 1] = 128\n",
        "image_g[:, 2] = 255\n",
        "image_g[:, 3] = 128\n",
        "image_b = np.zeros((5, 5), dtype=np.uint8)\n",
        "image_b[:, 3] = 128\n",
        "image_b[:, 4] = 255"
      ],
      "metadata": {
        "id": "zuGziHrVJtwG"
      },
      "execution_count": 6,
      "outputs": []
    },
    {
      "cell_type": "code",
      "source": [
        "image_r"
      ],
      "metadata": {
        "colab": {
          "base_uri": "https://localhost:8080/"
        },
        "id": "z_TojUfDkTUh",
        "outputId": "594c6f93-96ed-425f-bfc8-e7b40851e1b1"
      },
      "execution_count": 7,
      "outputs": [
        {
          "output_type": "execute_result",
          "data": {
            "text/plain": [
              "array([[255, 128,   0,   0,   0],\n",
              "       [255, 128,   0,   0,   0],\n",
              "       [255, 128,   0,   0,   0],\n",
              "       [255, 128,   0,   0,   0],\n",
              "       [255, 128,   0,   0,   0]], dtype=uint8)"
            ]
          },
          "metadata": {},
          "execution_count": 7
        }
      ]
    },
    {
      "cell_type": "code",
      "source": [
        "image_g"
      ],
      "metadata": {
        "colab": {
          "base_uri": "https://localhost:8080/"
        },
        "id": "WZdZCW86kVVE",
        "outputId": "3eb474bb-d1ee-4ff8-8397-cb0ce60438e0"
      },
      "execution_count": 8,
      "outputs": [
        {
          "output_type": "execute_result",
          "data": {
            "text/plain": [
              "array([[  0, 128, 255, 128,   0],\n",
              "       [  0, 128, 255, 128,   0],\n",
              "       [  0, 128, 255, 128,   0],\n",
              "       [  0, 128, 255, 128,   0],\n",
              "       [  0, 128, 255, 128,   0]], dtype=uint8)"
            ]
          },
          "metadata": {},
          "execution_count": 8
        }
      ]
    },
    {
      "cell_type": "code",
      "source": [
        "plt.imshow(image_g, cmap=\"gray\")\n",
        "plt.show()"
      ],
      "metadata": {
        "colab": {
          "base_uri": "https://localhost:8080/",
          "height": 262
        },
        "id": "0B5Rf_C3kXp4",
        "outputId": "57639f0a-ae40-451f-db2a-93356c693d2b"
      },
      "execution_count": 9,
      "outputs": [
        {
          "output_type": "display_data",
          "data": {
            "text/plain": [
              "<Figure size 432x288 with 1 Axes>"
            ],
            "image/png": "[encoded data removed]"
          },
          "metadata": {
            "needs_background": "light"
          }
        }
      ]
    },
    {
      "cell_type": "code",
      "source": [
        "image_rgb = np.stack([image_r, image_g, image_b], axis=2)\n",
        "print(image_rgb)"
      ],
      "metadata": {
        "colab": {
          "base_uri": "https://localhost:8080/"
        },
        "id": "056Sbn89kdiZ",
        "outputId": "cf5c3f3e-2ace-4a6e-8503-7a23621c4751"
      },
      "execution_count": 10,
      "outputs": [
        {
          "output_type": "stream",
          "name": "stdout",
          "text": [
            "[[[255   0   0]\n",
            "  [128 128   0]\n",
            "  [  0 255   0]\n",
            "  [  0 128 128]\n",
            "  [  0   0 255]]\n",
            "\n",
            " [[255   0   0]\n",
            "  [128 128   0]\n",
            "  [  0 255   0]\n",
            "  [  0 128 128]\n",
            "  [  0   0 255]]\n",
            "\n",
            " [[255   0   0]\n",
            "  [128 128   0]\n",
            "  [  0 255   0]\n",
            "  [  0 128 128]\n",
            "  [  0   0 255]]\n",
            "\n",
            " [[255   0   0]\n",
            "  [128 128   0]\n",
            "  [  0 255   0]\n",
            "  [  0 128 128]\n",
            "  [  0   0 255]]\n",
            "\n",
            " [[255   0   0]\n",
            "  [128 128   0]\n",
            "  [  0 255   0]\n",
            "  [  0 128 128]\n",
            "  [  0   0 255]]]\n"
          ]
        }
      ]
    },
    {
      "cell_type": "code",
      "source": [
        "images.shape"
      ],
      "metadata": {
        "colab": {
          "base_uri": "https://localhost:8080/"
        },
        "id": "Hd3f4mVulFof",
        "outputId": "87031f24-2f63-4410-974c-4ded9ab2f9da"
      },
      "execution_count": 11,
      "outputs": [
        {
          "output_type": "execute_result",
          "data": {
            "text/plain": [
              "(300, 1, 5, 5)"
            ]
          },
          "metadata": {},
          "execution_count": 11
        }
      ]
    },
    {
      "cell_type": "code",
      "source": [
        "example = images[7]"
      ],
      "metadata": {
        "id": "guSFPzkGl8Se"
      },
      "execution_count": 12,
      "outputs": []
    },
    {
      "cell_type": "code",
      "source": [
        "example"
      ],
      "metadata": {
        "colab": {
          "base_uri": "https://localhost:8080/"
        },
        "id": "hM6XLJpDmevP",
        "outputId": "a7135b7e-726f-438c-ccb6-c3c727065dc9"
      },
      "execution_count": 13,
      "outputs": [
        {
          "output_type": "execute_result",
          "data": {
            "text/plain": [
              "array([[[  0, 255,   0,   0,   0],\n",
              "        [  0,   0, 255,   0,   0],\n",
              "        [  0,   0,   0, 255,   0],\n",
              "        [  0,   0,   0,   0, 255],\n",
              "        [  0,   0,   0,   0,   0]]], dtype=uint8)"
            ]
          },
          "metadata": {},
          "execution_count": 13
        }
      ]
    },
    {
      "cell_type": "code",
      "source": [
        "## In pytorch, we use channels, height, width\n",
        "## so for PIL, we have to transpose to height, width, channels.\n",
        "example_hwc = np.transpose(example, (1, 2, 0))\n",
        "example_hwc.shape\n"
      ],
      "metadata": {
        "colab": {
          "base_uri": "https://localhost:8080/"
        },
        "id": "S6c-ZGvfmgh4",
        "outputId": "0d3a86c8-640d-4192-ff4e-6719530b240e"
      },
      "execution_count": 14,
      "outputs": [
        {
          "output_type": "execute_result",
          "data": {
            "text/plain": [
              "(5, 5, 1)"
            ]
          },
          "metadata": {},
          "execution_count": 14
        }
      ]
    },
    {
      "cell_type": "code",
      "source": [
        "## Converting the nump array to pytorch array.\n",
        "tensorizer = ToTensor()\n",
        "example_tensor = tensorizer(example_hwc)\n",
        "example_tensor.shape"
      ],
      "metadata": {
        "colab": {
          "base_uri": "https://localhost:8080/"
        },
        "id": "JF_kkwq0mtl_",
        "outputId": "8ddc5f2c-ac18-4251-bc41-1d3a6d7ee447"
      },
      "execution_count": 16,
      "outputs": [
        {
          "output_type": "execute_result",
          "data": {
            "text/plain": [
              "torch.Size([1, 5, 5])"
            ]
          },
          "metadata": {},
          "execution_count": 16
        }
      ]
    },
    {
      "cell_type": "code",
      "source": [
        "example_tensor\n",
        "## this time value is not 255, may be totensor changes the scale range"
      ],
      "metadata": {
        "colab": {
          "base_uri": "https://localhost:8080/"
        },
        "id": "0apiqZSXNgqC",
        "outputId": "bd060e4e-72f3-40da-f180-801b93aa6864"
      },
      "execution_count": 18,
      "outputs": [
        {
          "output_type": "execute_result",
          "data": {
            "text/plain": [
              "tensor([[[0., 1., 0., 0., 0.],\n",
              "         [0., 0., 1., 0., 0.],\n",
              "         [0., 0., 0., 1., 0.],\n",
              "         [0., 0., 0., 0., 1.],\n",
              "         [0., 0., 0., 0., 0.]]])"
            ]
          },
          "metadata": {},
          "execution_count": 18
        }
      ]
    },
    {
      "cell_type": "code",
      "source": [
        "## To visualize the images, lets convert it to PIL Image\n",
        "\n",
        "example_img = ToPILImage()(example_tensor)\n",
        "print(type(example_img))"
      ],
      "metadata": {
        "colab": {
          "base_uri": "https://localhost:8080/"
        },
        "id": "6gHkjibSPPa_",
        "outputId": "03cc0b8c-0025-4cc7-d740-c3abd94a2e6f"
      },
      "execution_count": 21,
      "outputs": [
        {
          "output_type": "stream",
          "name": "stdout",
          "text": [
            "<class 'PIL.Image.Image'>\n"
          ]
        }
      ]
    },
    {
      "cell_type": "code",
      "source": [
        "plt.imshow(example_img, cmap=\"gray\")\n",
        "plt.grid(False)"
      ],
      "metadata": {
        "colab": {
          "base_uri": "https://localhost:8080/",
          "height": 262
        },
        "id": "-B8qZnSKUUX8",
        "outputId": "2ec514b6-ad9f-468e-e4ad-3bdfd70b987f"
      },
      "execution_count": 22,
      "outputs": [
        {
          "output_type": "display_data",
          "data": {
            "text/plain": [
              "<Figure size 432x288 with 1 Axes>"
            ],
            "image/png": "[encoded data removed]"
          },
          "metadata": {
            "needs_background": "light"
          }
        }
      ]
    },
    {
      "cell_type": "markdown",
      "source": [
        "## Transform images"
      ],
      "metadata": {
        "id": "ohNFvtdoVlq2"
      }
    },
    {
      "cell_type": "code",
      "source": [
        "flipper = RandomHorizontalFlip(p=1.0)\n",
        "flipped_img = flipper(example_img)"
      ],
      "metadata": {
        "id": "zURDe2CzUikN"
      },
      "execution_count": 26,
      "outputs": []
    },
    {
      "cell_type": "code",
      "source": [
        "plt.imshow(flipped_img, cmap=\"gray\")\n",
        "plt.grid(False)"
      ],
      "metadata": {
        "colab": {
          "base_uri": "https://localhost:8080/",
          "height": 262
        },
        "id": "RXJ9rIhFVHZQ",
        "outputId": "1a6a0412-a4e5-4f62-a3ab-a1599dd50302"
      },
      "execution_count": 27,
      "outputs": [
        {
          "output_type": "display_data",
          "data": {
            "text/plain": [
              "<Figure size 432x288 with 1 Axes>"
            ],
            "image/png": "[encoded data removed]"
          },
          "metadata": {
            "needs_background": "light"
          }
        }
      ]
    },
    {
      "cell_type": "code",
      "source": [
        "## Lets convert the flipped image into tensor first"
      ],
      "metadata": {
        "id": "jBNwAVabVPr5"
      },
      "execution_count": 28,
      "outputs": []
    },
    {
      "cell_type": "code",
      "source": [
        "img_tensor = tensorizer(flipped_img)\n",
        "img_tensor"
      ],
      "metadata": {
        "colab": {
          "base_uri": "https://localhost:8080/"
        },
        "id": "TgjLMZe0V3TQ",
        "outputId": "0e9b6745-0162-42a4-b70b-63d0173a5e59"
      },
      "execution_count": 29,
      "outputs": [
        {
          "output_type": "execute_result",
          "data": {
            "text/plain": [
              "tensor([[[0., 0., 0., 1., 0.],\n",
              "         [0., 0., 1., 0., 0.],\n",
              "         [0., 1., 0., 0., 0.],\n",
              "         [1., 0., 0., 0., 0.],\n",
              "         [0., 0., 0., 0., 0.]]])"
            ]
          },
          "metadata": {},
          "execution_count": 29
        }
      ]
    },
    {
      "cell_type": "code",
      "source": [
        "## Min max scaler using 0.5 as mean and std deviation\n",
        "\n",
        "normalizer = Normalize(mean=(.5,), std=(.5,))\n",
        "normalized_tensor = normalizer(img_tensor)\n",
        "normalized_tensor\n"
      ],
      "metadata": {
        "colab": {
          "base_uri": "https://localhost:8080/"
        },
        "id": "MUrvG4zAV7iP",
        "outputId": "f8004024-692c-45f7-8acb-a0f7e28f4534"
      },
      "execution_count": 30,
      "outputs": [
        {
          "output_type": "execute_result",
          "data": {
            "text/plain": [
              "tensor([[[-1., -1., -1.,  1., -1.],\n",
              "         [-1., -1.,  1., -1., -1.],\n",
              "         [-1.,  1., -1., -1., -1.],\n",
              "         [ 1., -1., -1., -1., -1.],\n",
              "         [-1., -1., -1., -1., -1.]]])"
            ]
          },
          "metadata": {},
          "execution_count": 30
        }
      ]
    },
    {
      "cell_type": "code",
      "source": [
        ""
      ],
      "metadata": {
        "id": "E_InQIU9ZaSr"
      },
      "execution_count": null,
      "outputs": []
    }
  ]
}