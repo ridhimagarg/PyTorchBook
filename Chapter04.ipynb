{
  "nbformat": 4,
  "nbformat_minor": 0,
  "metadata": {
    "colab": {
      "name": "Chapter04.ipynb",
      "provenance": [],
      "collapsed_sections": [],
      "authorship_tag": "ABX9TyMehEYRjU6p0UqevZXfhvdl",
      "include_colab_link": true
    },
    "kernelspec": {
      "name": "python3",
      "display_name": "Python 3"
    },
    "language_info": {
      "name": "python"
    }
  },
  "cells": [
    {
      "cell_type": "markdown",
      "metadata": {
        "id": "view-in-github",
        "colab_type": "text"
      },
      "source": [
        "<a href=\"https://colab.research.google.com/github/ridhimagarg/PyTorchBook/blob/main/Chapter04.ipynb\" target=\"_parent\"><img src=\"https://colab.research.google.com/assets/colab-badge.svg\" alt=\"Open In Colab\"/></a>"
      ]
    },
    {
      "cell_type": "code",
      "execution_count": 1,
      "metadata": {
        "id": "JhGw-8RrEpSG"
      },
      "outputs": [],
      "source": [
        "import random\n",
        "import numpy as np\n",
        "from PIL import Image\n",
        "\n",
        "import torch\n",
        "import torch.optim as optim\n",
        "import torch.nn as nn\n",
        "import torch.nn.functional as F\n",
        "\n",
        "from torch.utils.data import DataLoader, Dataset, random_split, WeightedRandomSampler, SubsetRandomSampler\n",
        "from torchvision.transforms import Compose, ToTensor, Normalize, ToPILImage, RandomHorizontalFlip, Resize\n",
        "\n",
        "import matplotlib.pyplot as plt\n",
        "plt.style.use('fivethirtyeight')\n",
        "%matplotlib inline\n",
        "\n",
        "# from data_generation.image_classification import generate_dataset\n",
        "from image_classification import generate_dataset ##  if working on  colab \n",
        "from v0 import StepByStep\n",
        "# from plot.chapter4 import * \n",
        "from chapter4 import *\n",
        "# from stepbystep.v0 import StepByStep"
      ]
    },
    {
      "cell_type": "markdown",
      "source": [
        "\n",
        "\n",
        "\n",
        "## Data Generation"
      ],
      "metadata": {
        "id": "PYYFTVF6JXon"
      }
    },
    {
      "cell_type": "code",
      "source": [
        "## lets generate 300\n",
        "images, labels = generate_dataset(img_size=5, n_images=300, seed=13)"
      ],
      "metadata": {
        "id": "pN51SPc-Fr_v"
      },
      "execution_count": 2,
      "outputs": []
    },
    {
      "cell_type": "code",
      "source": [
        "fig = plot_images(images, labels, n_plot=30)"
      ],
      "metadata": {
        "colab": {
          "base_uri": "https://localhost:8080/",
          "height": 549
        },
        "id": "GHYWHHeMJmOp",
        "outputId": "3e72bf09-fc02-4a81-b815-532f7f845956"
      },
      "execution_count": 3,
      "outputs": [
        {
          "output_type": "display_data",
          "data": {
            "text/plain": [
              "<Figure size 648x540 with 30 Axes>"
            ],
            "image/png": "[encoded data removed]"
          },
          "metadata": {}
        }
      ]
    },
    {
      "cell_type": "code",
      "source": [
        "## Images  and channels\n",
        "\n",
        "image_r = np.zeros((5, 5), dtype=np.uint8)\n",
        "image_r[:, 0] = 255\n",
        "image_r[:, 1] = 128\n",
        "image_g = np.zeros((5, 5), dtype=np.uint8)\n",
        "image_g[:, 1] = 128\n",
        "image_g[:, 2] = 255\n",
        "image_g[:, 3] = 128\n",
        "image_b = np.zeros((5, 5), dtype=np.uint8)\n",
        "image_b[:, 3] = 128\n",
        "image_b[:, 4] = 255"
      ],
      "metadata": {
        "id": "zuGziHrVJtwG"
      },
      "execution_count": 4,
      "outputs": []
    },
    {
      "cell_type": "code",
      "source": [
        "image_r"
      ],
      "metadata": {
        "colab": {
          "base_uri": "https://localhost:8080/"
        },
        "id": "z_TojUfDkTUh",
        "outputId": "b32734ab-6615-407b-e7ed-e38ff3d3f57b"
      },
      "execution_count": 5,
      "outputs": [
        {
          "output_type": "execute_result",
          "data": {
            "text/plain": [
              "array([[255, 128,   0,   0,   0],\n",
              "       [255, 128,   0,   0,   0],\n",
              "       [255, 128,   0,   0,   0],\n",
              "       [255, 128,   0,   0,   0],\n",
              "       [255, 128,   0,   0,   0]], dtype=uint8)"
            ]
          },
          "metadata": {},
          "execution_count": 5
        }
      ]
    },
    {
      "cell_type": "code",
      "source": [
        "image_g"
      ],
      "metadata": {
        "colab": {
          "base_uri": "https://localhost:8080/"
        },
        "id": "WZdZCW86kVVE",
        "outputId": "8ba86fc7-07d4-46b3-8aa9-3dd6c9af6fae"
      },
      "execution_count": 6,
      "outputs": [
        {
          "output_type": "execute_result",
          "data": {
            "text/plain": [
              "array([[  0, 128, 255, 128,   0],\n",
              "       [  0, 128, 255, 128,   0],\n",
              "       [  0, 128, 255, 128,   0],\n",
              "       [  0, 128, 255, 128,   0],\n",
              "       [  0, 128, 255, 128,   0]], dtype=uint8)"
            ]
          },
          "metadata": {},
          "execution_count": 6
        }
      ]
    },
    {
      "cell_type": "code",
      "source": [
        "plt.imshow(image_g, cmap=\"gray\")\n",
        "plt.show()"
      ],
      "metadata": {
        "colab": {
          "base_uri": "https://localhost:8080/",
          "height": 262
        },
        "id": "0B5Rf_C3kXp4",
        "outputId": "6bb3ae06-2e41-4f38-cdde-267b3cf4b3a9"
      },
      "execution_count": 7,
      "outputs": [
        {
          "output_type": "display_data",
          "data": {
            "text/plain": [
              "<Figure size 432x288 with 1 Axes>"
            ],
            "image/png": "[encoded data removed]"
          },
          "metadata": {
            "needs_background": "light"
          }
        }
      ]
    },
    {
      "cell_type": "code",
      "source": [
        "image_rgb = np.stack([image_r, image_g, image_b], axis=2)\n",
        "print(image_rgb)"
      ],
      "metadata": {
        "colab": {
          "base_uri": "https://localhost:8080/"
        },
        "id": "056Sbn89kdiZ",
        "outputId": "faee675c-cee0-48bb-8592-174b6e86afe5"
      },
      "execution_count": 8,
      "outputs": [
        {
          "output_type": "stream",
          "name": "stdout",
          "text": [
            "[[[255   0   0]\n",
            "  [128 128   0]\n",
            "  [  0 255   0]\n",
            "  [  0 128 128]\n",
            "  [  0   0 255]]\n",
            "\n",
            " [[255   0   0]\n",
            "  [128 128   0]\n",
            "  [  0 255   0]\n",
            "  [  0 128 128]\n",
            "  [  0   0 255]]\n",
            "\n",
            " [[255   0   0]\n",
            "  [128 128   0]\n",
            "  [  0 255   0]\n",
            "  [  0 128 128]\n",
            "  [  0   0 255]]\n",
            "\n",
            " [[255   0   0]\n",
            "  [128 128   0]\n",
            "  [  0 255   0]\n",
            "  [  0 128 128]\n",
            "  [  0   0 255]]\n",
            "\n",
            " [[255   0   0]\n",
            "  [128 128   0]\n",
            "  [  0 255   0]\n",
            "  [  0 128 128]\n",
            "  [  0   0 255]]]\n"
          ]
        }
      ]
    },
    {
      "cell_type": "code",
      "source": [
        "images.shape"
      ],
      "metadata": {
        "colab": {
          "base_uri": "https://localhost:8080/"
        },
        "id": "Hd3f4mVulFof",
        "outputId": "57f4745a-ab22-40b7-df88-8d9c4f12caef"
      },
      "execution_count": 9,
      "outputs": [
        {
          "output_type": "execute_result",
          "data": {
            "text/plain": [
              "(300, 1, 5, 5)"
            ]
          },
          "metadata": {},
          "execution_count": 9
        }
      ]
    },
    {
      "cell_type": "code",
      "source": [
        "example = images[7]"
      ],
      "metadata": {
        "id": "guSFPzkGl8Se"
      },
      "execution_count": 10,
      "outputs": []
    },
    {
      "cell_type": "code",
      "source": [
        "example"
      ],
      "metadata": {
        "colab": {
          "base_uri": "https://localhost:8080/"
        },
        "id": "hM6XLJpDmevP",
        "outputId": "f5a52e68-e5a8-4d3b-971c-9d69c816eb9c"
      },
      "execution_count": 11,
      "outputs": [
        {
          "output_type": "execute_result",
          "data": {
            "text/plain": [
              "array([[[  0, 255,   0,   0,   0],\n",
              "        [  0,   0, 255,   0,   0],\n",
              "        [  0,   0,   0, 255,   0],\n",
              "        [  0,   0,   0,   0, 255],\n",
              "        [  0,   0,   0,   0,   0]]], dtype=uint8)"
            ]
          },
          "metadata": {},
          "execution_count": 11
        }
      ]
    },
    {
      "cell_type": "code",
      "source": [
        "## In pytorch, we use channels, height, width\n",
        "## so for PIL, we have to transpose to height, width, channels.\n",
        "example_hwc = np.transpose(example, (1, 2, 0))\n",
        "example_hwc.shape\n"
      ],
      "metadata": {
        "colab": {
          "base_uri": "https://localhost:8080/"
        },
        "id": "S6c-ZGvfmgh4",
        "outputId": "29c1464a-fa2f-410b-8001-d09f21088246"
      },
      "execution_count": 12,
      "outputs": [
        {
          "output_type": "execute_result",
          "data": {
            "text/plain": [
              "(5, 5, 1)"
            ]
          },
          "metadata": {},
          "execution_count": 12
        }
      ]
    },
    {
      "cell_type": "code",
      "source": [
        "## Converting the nump array to pytorch array.\n",
        "tensorizer = ToTensor()\n",
        "example_tensor = tensorizer(example_hwc)\n",
        "example_tensor.shape"
      ],
      "metadata": {
        "colab": {
          "base_uri": "https://localhost:8080/"
        },
        "id": "JF_kkwq0mtl_",
        "outputId": "23dc08ee-2f5d-4c4f-e99f-c846fb1600be"
      },
      "execution_count": 13,
      "outputs": [
        {
          "output_type": "execute_result",
          "data": {
            "text/plain": [
              "torch.Size([1, 5, 5])"
            ]
          },
          "metadata": {},
          "execution_count": 13
        }
      ]
    },
    {
      "cell_type": "code",
      "source": [
        "example_tensor\n",
        "## this time value is not 255, may be totensor changes the scale range"
      ],
      "metadata": {
        "colab": {
          "base_uri": "https://localhost:8080/"
        },
        "id": "0apiqZSXNgqC",
        "outputId": "60345caa-7b38-4008-b84b-4e7e6f086b92"
      },
      "execution_count": 14,
      "outputs": [
        {
          "output_type": "execute_result",
          "data": {
            "text/plain": [
              "tensor([[[0., 1., 0., 0., 0.],\n",
              "         [0., 0., 1., 0., 0.],\n",
              "         [0., 0., 0., 1., 0.],\n",
              "         [0., 0., 0., 0., 1.],\n",
              "         [0., 0., 0., 0., 0.]]])"
            ]
          },
          "metadata": {},
          "execution_count": 14
        }
      ]
    },
    {
      "cell_type": "code",
      "source": [
        "## To visualize the images, lets convert it to PIL Image\n",
        "\n",
        "example_img = ToPILImage()(example_tensor)\n",
        "print(type(example_img))"
      ],
      "metadata": {
        "colab": {
          "base_uri": "https://localhost:8080/"
        },
        "id": "6gHkjibSPPa_",
        "outputId": "dd0431af-672a-4b57-f5dc-02b4c707ab52"
      },
      "execution_count": 15,
      "outputs": [
        {
          "output_type": "stream",
          "name": "stdout",
          "text": [
            "<class 'PIL.Image.Image'>\n"
          ]
        }
      ]
    },
    {
      "cell_type": "code",
      "source": [
        "plt.imshow(example_img, cmap=\"gray\")\n",
        "plt.grid(False)"
      ],
      "metadata": {
        "colab": {
          "base_uri": "https://localhost:8080/",
          "height": 262
        },
        "id": "-B8qZnSKUUX8",
        "outputId": "44106900-8346-40e8-fa40-36aa07ce5e62"
      },
      "execution_count": 16,
      "outputs": [
        {
          "output_type": "display_data",
          "data": {
            "text/plain": [
              "<Figure size 432x288 with 1 Axes>"
            ],
            "image/png": "[encoded data removed]"
          },
          "metadata": {
            "needs_background": "light"
          }
        }
      ]
    },
    {
      "cell_type": "markdown",
      "source": [
        "## Transform images"
      ],
      "metadata": {
        "id": "ohNFvtdoVlq2"
      }
    },
    {
      "cell_type": "code",
      "source": [
        "flipper = RandomHorizontalFlip(p=1.0)\n",
        "flipped_img = flipper(example_img)"
      ],
      "metadata": {
        "id": "zURDe2CzUikN"
      },
      "execution_count": 17,
      "outputs": []
    },
    {
      "cell_type": "code",
      "source": [
        "plt.imshow(flipped_img, cmap=\"gray\")\n",
        "plt.grid(False)"
      ],
      "metadata": {
        "colab": {
          "base_uri": "https://localhost:8080/",
          "height": 262
        },
        "id": "RXJ9rIhFVHZQ",
        "outputId": "3e267db0-ecca-4730-fa73-0ea132df2175"
      },
      "execution_count": 18,
      "outputs": [
        {
          "output_type": "display_data",
          "data": {
            "text/plain": [
              "<Figure size 432x288 with 1 Axes>"
            ],
            "image/png": "[encoded data removed]"
          },
          "metadata": {
            "needs_background": "light"
          }
        }
      ]
    },
    {
      "cell_type": "code",
      "source": [
        "## Lets convert the flipped image into tensor first"
      ],
      "metadata": {
        "id": "jBNwAVabVPr5"
      },
      "execution_count": 19,
      "outputs": []
    },
    {
      "cell_type": "code",
      "source": [
        "img_tensor = tensorizer(flipped_img)\n",
        "img_tensor"
      ],
      "metadata": {
        "colab": {
          "base_uri": "https://localhost:8080/"
        },
        "id": "TgjLMZe0V3TQ",
        "outputId": "c7b95410-550f-41d3-8c60-33659dd54705"
      },
      "execution_count": 20,
      "outputs": [
        {
          "output_type": "execute_result",
          "data": {
            "text/plain": [
              "tensor([[[0., 0., 0., 1., 0.],\n",
              "         [0., 0., 1., 0., 0.],\n",
              "         [0., 1., 0., 0., 0.],\n",
              "         [1., 0., 0., 0., 0.],\n",
              "         [0., 0., 0., 0., 0.]]])"
            ]
          },
          "metadata": {},
          "execution_count": 20
        }
      ]
    },
    {
      "cell_type": "code",
      "source": [
        "## Min max scaler using 0.5 as mean and std deviation\n",
        "\n",
        "normalizer = Normalize(mean=(.5,), std=(.5,))\n",
        "normalized_tensor = normalizer(img_tensor)\n",
        "normalized_tensor\n"
      ],
      "metadata": {
        "colab": {
          "base_uri": "https://localhost:8080/"
        },
        "id": "MUrvG4zAV7iP",
        "outputId": "cd262b80-210f-47a8-cea1-750ef4deff8b"
      },
      "execution_count": 21,
      "outputs": [
        {
          "output_type": "execute_result",
          "data": {
            "text/plain": [
              "tensor([[[-1., -1., -1.,  1., -1.],\n",
              "         [-1., -1.,  1., -1., -1.],\n",
              "         [-1.,  1., -1., -1., -1.],\n",
              "         [ 1., -1., -1., -1., -1.],\n",
              "         [-1., -1., -1., -1., -1.]]])"
            ]
          },
          "metadata": {},
          "execution_count": 21
        }
      ]
    },
    {
      "cell_type": "markdown",
      "source": [
        "## Composing Transforms"
      ],
      "metadata": {
        "id": "AtBNar8NKWKC"
      }
    },
    {
      "cell_type": "code",
      "source": [
        "composer = Compose([RandomHorizontalFlip(p=1.0),\n",
        "                    Normalize(mean=(.5,), std=(.5,))])"
      ],
      "metadata": {
        "id": "E_InQIU9ZaSr"
      },
      "execution_count": 22,
      "outputs": []
    },
    {
      "cell_type": "code",
      "source": [
        "composed_tensor = composer(example_tensor)\n",
        "(composed_tensor == normalized_tensor).all()"
      ],
      "metadata": {
        "colab": {
          "base_uri": "https://localhost:8080/"
        },
        "id": "P8B3TF-CKqaM",
        "outputId": "0e215457-da84-4b0d-a30e-46f9e3bfdbb3"
      },
      "execution_count": 23,
      "outputs": [
        {
          "output_type": "execute_result",
          "data": {
            "text/plain": [
              "tensor(True)"
            ]
          },
          "metadata": {},
          "execution_count": 23
        }
      ]
    },
    {
      "cell_type": "code",
      "source": [
        "## As we can see we have used the transformed Pytorch tensor, we didnt used the the original pytorch tensor.\n",
        "\n",
        "print(example) ## original tensor\n",
        "print(example_tensor) ## transformed tensor /33 and we are using this while transformations/augmentation"
      ],
      "metadata": {
        "colab": {
          "base_uri": "https://localhost:8080/"
        },
        "id": "NNQw3QMcLX1e",
        "outputId": "38cf2436-f3b1-4877-e519-e207c685aae4"
      },
      "execution_count": 24,
      "outputs": [
        {
          "output_type": "stream",
          "name": "stdout",
          "text": [
            "[[[  0 255   0   0   0]\n",
            "  [  0   0 255   0   0]\n",
            "  [  0   0   0 255   0]\n",
            "  [  0   0   0   0 255]\n",
            "  [  0   0   0   0   0]]]\n",
            "tensor([[[0., 1., 0., 0., 0.],\n",
            "         [0., 0., 1., 0., 0.],\n",
            "         [0., 0., 0., 1., 0.],\n",
            "         [0., 0., 0., 0., 1.],\n",
            "         [0., 0., 0., 0., 0.]]])\n"
          ]
        }
      ]
    },
    {
      "cell_type": "code",
      "source": [
        "## Simple conversion so will follow this.\n",
        "example_tensor = torch.as_tensor(example / 255).float()"
      ],
      "metadata": {
        "id": "LGp-MLFALZFT"
      },
      "execution_count": 25,
      "outputs": []
    },
    {
      "cell_type": "markdown",
      "source": [
        "## Data Preparation"
      ],
      "metadata": {
        "id": "Xt_zTc90xi2C"
      }
    },
    {
      "cell_type": "code",
      "source": [
        "x_tensor = torch.as_tensor(images/255).float()\n",
        "y_tensor = torch.as_tensor(labels.reshape(-1,1)).float()\n",
        "# The only difference is that we scaled the images to get them into the expected [0.0,1.0] range"
      ],
      "metadata": {
        "id": "gFpS8KZ8xcnj"
      },
      "execution_count": 26,
      "outputs": []
    },
    {
      "cell_type": "code",
      "source": [
        "## LEts build dataset not like TensorDataset like before but using custom dataset"
      ],
      "metadata": {
        "id": "tgCNclq6zAwp"
      },
      "execution_count": 27,
      "outputs": []
    },
    {
      "cell_type": "code",
      "source": [
        "class TransformedTensorDataset(Dataset):\n",
        "  def __init__(self, x, y, transform=None):\n",
        "    self.x = x\n",
        "    self.y = y\n",
        "    self.transform = transform\n",
        "\n",
        "  def __getitem__(self, index):\n",
        "      x = self.x[index]\n",
        "\n",
        "      if self.transform:\n",
        "        x = self.transform(x)\n",
        "\n",
        "      return x, self.y[index]\n",
        "\n",
        "  def __len__(self):\n",
        "    return len(self.x)"
      ],
      "metadata": {
        "id": "-PxLxL8MzWqa"
      },
      "execution_count": 28,
      "outputs": []
    },
    {
      "cell_type": "code",
      "source": [
        "## Lets redefine the compose\n",
        "\n",
        "composer = Compose([RandomHorizontalFlip(p=1.0),\n",
        "                    Normalize(mean=(.5,), std=(.5,))])\n",
        "\n",
        "dataset = TransformedTensorDataset(x_tensor, y_tensor, composer)"
      ],
      "metadata": {
        "id": "cAZOTuVQ0P7k"
      },
      "execution_count": 29,
      "outputs": []
    },
    {
      "cell_type": "code",
      "source": [
        "## Now we will split our dataset but using different sampler, SubsetRandomSampler\n",
        "\n",
        "def index_splitter(n, splits, seed=13):\n",
        "  idx = torch.arange(n)\n",
        "\n",
        "  splits_tensor = torch.as_tensor(splits)\n",
        "\n",
        "  multiplier = n / splits_tensor.sum()\n",
        "  print(multiplier)\n",
        "  splits_tensor = (multiplier * splits_tensor).long()\n",
        "  print(splits_tensor)\n",
        "  # If there is a difference, throws at the first split\n",
        "  10 # so random_split does not complain\n",
        "  ## not very clear\n",
        "  diff = n - splits_tensor.sum()\n",
        "  print(diff)\n",
        "\n",
        "  splits_tensor[0] += diff\n",
        "\n",
        "  torch.manual_seed(seed)\n",
        "  return random_split(idx, splits_tensor)"
      ],
      "metadata": {
        "id": "6VnV2xnu1Zwp"
      },
      "execution_count": 30,
      "outputs": []
    },
    {
      "cell_type": "code",
      "source": [
        "train_idx, val_idx = index_splitter(len(x_tensor), [80, 20])\n",
        "train_idx\n"
      ],
      "metadata": {
        "colab": {
          "base_uri": "https://localhost:8080/"
        },
        "id": "cSRJ7vLT5CZ8",
        "outputId": "44fe589d-e79c-461d-e703-36a3d7a310b5"
      },
      "execution_count": 31,
      "outputs": [
        {
          "output_type": "stream",
          "name": "stdout",
          "text": [
            "tensor(3.)\n",
            "tensor([240,  60])\n",
            "tensor(0)\n"
          ]
        },
        {
          "output_type": "execute_result",
          "data": {
            "text/plain": [
              "<torch.utils.data.dataset.Subset at 0x7f2277d49090>"
            ]
          },
          "metadata": {},
          "execution_count": 31
        }
      ]
    },
    {
      "cell_type": "code",
      "source": [
        "train_idx.indices"
      ],
      "metadata": {
        "colab": {
          "base_uri": "https://localhost:8080/"
        },
        "id": "YcgE-Vwa5EcQ",
        "outputId": "935dd604-0f1d-49ee-f166-5d9b9763e67f"
      },
      "execution_count": 32,
      "outputs": [
        {
          "output_type": "execute_result",
          "data": {
            "text/plain": [
              "[118,\n",
              " 170,\n",
              " 148,\n",
              " 239,\n",
              " 226,\n",
              " 146,\n",
              " 168,\n",
              " 195,\n",
              " 6,\n",
              " 180,\n",
              " 157,\n",
              " 2,\n",
              " 160,\n",
              " 66,\n",
              " 46,\n",
              " 276,\n",
              " 126,\n",
              " 212,\n",
              " 119,\n",
              " 77,\n",
              " 53,\n",
              " 237,\n",
              " 252,\n",
              " 202,\n",
              " 200,\n",
              " 289,\n",
              " 135,\n",
              " 186,\n",
              " 231,\n",
              " 211,\n",
              " 35,\n",
              " 293,\n",
              " 229,\n",
              " 265,\n",
              " 256,\n",
              " 134,\n",
              " 191,\n",
              " 214,\n",
              " 8,\n",
              " 83,\n",
              " 150,\n",
              " 190,\n",
              " 208,\n",
              " 209,\n",
              " 275,\n",
              " 60,\n",
              " 295,\n",
              " 142,\n",
              " 251,\n",
              " 176,\n",
              " 260,\n",
              " 3,\n",
              " 31,\n",
              " 0,\n",
              " 137,\n",
              " 20,\n",
              " 81,\n",
              " 287,\n",
              " 181,\n",
              " 129,\n",
              " 166,\n",
              " 97,\n",
              " 110,\n",
              " 206,\n",
              " 267,\n",
              " 241,\n",
              " 109,\n",
              " 177,\n",
              " 27,\n",
              " 52,\n",
              " 43,\n",
              " 245,\n",
              " 247,\n",
              " 141,\n",
              " 68,\n",
              " 131,\n",
              " 217,\n",
              " 78,\n",
              " 185,\n",
              " 49,\n",
              " 96,\n",
              " 14,\n",
              " 111,\n",
              " 234,\n",
              " 284,\n",
              " 263,\n",
              " 269,\n",
              " 101,\n",
              " 32,\n",
              " 285,\n",
              " 79,\n",
              " 297,\n",
              " 94,\n",
              " 85,\n",
              " 11,\n",
              " 5,\n",
              " 80,\n",
              " 165,\n",
              " 183,\n",
              " 4,\n",
              " 33,\n",
              " 100,\n",
              " 73,\n",
              " 235,\n",
              " 277,\n",
              " 16,\n",
              " 144,\n",
              " 132,\n",
              " 167,\n",
              " 130,\n",
              " 45,\n",
              " 48,\n",
              " 201,\n",
              " 99,\n",
              " 34,\n",
              " 138,\n",
              " 178,\n",
              " 244,\n",
              " 225,\n",
              " 173,\n",
              " 95,\n",
              " 22,\n",
              " 197,\n",
              " 174,\n",
              " 90,\n",
              " 223,\n",
              " 274,\n",
              " 92,\n",
              " 279,\n",
              " 19,\n",
              " 74,\n",
              " 28,\n",
              " 162,\n",
              " 133,\n",
              " 151,\n",
              " 37,\n",
              " 299,\n",
              " 18,\n",
              " 203,\n",
              " 13,\n",
              " 156,\n",
              " 268,\n",
              " 259,\n",
              " 116,\n",
              " 70,\n",
              " 71,\n",
              " 230,\n",
              " 108,\n",
              " 238,\n",
              " 47,\n",
              " 163,\n",
              " 30,\n",
              " 188,\n",
              " 64,\n",
              " 216,\n",
              " 121,\n",
              " 187,\n",
              " 72,\n",
              " 221,\n",
              " 258,\n",
              " 44,\n",
              " 179,\n",
              " 272,\n",
              " 159,\n",
              " 253,\n",
              " 280,\n",
              " 140,\n",
              " 120,\n",
              " 62,\n",
              " 271,\n",
              " 57,\n",
              " 1,\n",
              " 149,\n",
              " 9,\n",
              " 29,\n",
              " 194,\n",
              " 158,\n",
              " 115,\n",
              " 198,\n",
              " 294,\n",
              " 17,\n",
              " 155,\n",
              " 240,\n",
              " 21,\n",
              " 12,\n",
              " 106,\n",
              " 182,\n",
              " 281,\n",
              " 123,\n",
              " 189,\n",
              " 122,\n",
              " 65,\n",
              " 175,\n",
              " 91,\n",
              " 87,\n",
              " 257,\n",
              " 89,\n",
              " 15,\n",
              " 152,\n",
              " 147,\n",
              " 218,\n",
              " 25,\n",
              " 278,\n",
              " 41,\n",
              " 112,\n",
              " 139,\n",
              " 145,\n",
              " 117,\n",
              " 246,\n",
              " 233,\n",
              " 282,\n",
              " 105,\n",
              " 184,\n",
              " 228,\n",
              " 63,\n",
              " 232,\n",
              " 114,\n",
              " 266,\n",
              " 298,\n",
              " 262,\n",
              " 296,\n",
              " 205,\n",
              " 125,\n",
              " 61,\n",
              " 196,\n",
              " 290,\n",
              " 261,\n",
              " 84,\n",
              " 67,\n",
              " 38,\n",
              " 204,\n",
              " 248,\n",
              " 51,\n",
              " 219,\n",
              " 113,\n",
              " 75,\n",
              " 164,\n",
              " 222,\n",
              " 10,\n",
              " 161]"
            ]
          },
          "metadata": {},
          "execution_count": 32
        }
      ]
    },
    {
      "cell_type": "code",
      "source": [
        "## Now used the sampler\n",
        "\n",
        "train_sampler = SubsetRandomSampler(train_idx)\n",
        "val_sampler = SubsetRandomSampler(val_idx)"
      ],
      "metadata": {
        "id": "E1gRvrAv5lvZ"
      },
      "execution_count": 33,
      "outputs": []
    },
    {
      "cell_type": "code",
      "source": [
        "x_train_tensor = x_tensor[train_idx]\n",
        "y_train_tensor = y_tensor[train_idx]\n",
        "x_val_tensor = x_tensor[val_idx]\n",
        "y_val_tensor = y_tensor[val_idx]\n"
      ],
      "metadata": {
        "id": "o4fvQhL35whx"
      },
      "execution_count": 34,
      "outputs": []
    },
    {
      "cell_type": "code",
      "source": [
        "train_composer = Compose([RandomHorizontalFlip(p=.5),\n",
        "                          Normalize(mean=(.5,), std=(.5,))])\n",
        "\n",
        "val_composer = Compose([Normalize(mean=(.5,), std=(.5,))])"
      ],
      "metadata": {
        "id": "x0u5NsM6S-VT"
      },
      "execution_count": 35,
      "outputs": []
    },
    {
      "cell_type": "code",
      "source": [
        "train_dataset = TransformedTensorDataset(x_train_tensor, y_train_tensor, transform=train_composer)\n",
        "val_dataset = TransformedTensorDataset(x_val_tensor, y_val_tensor, transform=val_composer)\n"
      ],
      "metadata": {
        "id": "ifxrY4DfT87f"
      },
      "execution_count": 36,
      "outputs": []
    },
    {
      "cell_type": "code",
      "source": [
        "train_loader = DataLoader(dataset=train_dataset, batch_size=16, shuffle=True)\n",
        "val_loader = DataLoader(dataset=val_dataset, batch_size=16)"
      ],
      "metadata": {
        "id": "hUdq7fkgUYRT"
      },
      "execution_count": 37,
      "outputs": []
    },
    {
      "cell_type": "markdown",
      "source": [
        "## Weighted Random Sampler"
      ],
      "metadata": {
        "id": "CyASkXpKZhbL"
      }
    },
    {
      "cell_type": "code",
      "source": [
        "classes, counts = y_train_tensor.unique(return_counts= True)\n",
        "print(classes, counts, )"
      ],
      "metadata": {
        "colab": {
          "base_uri": "https://localhost:8080/"
        },
        "id": "CMn6HfL-U0r_",
        "outputId": "30dd5cba-9160-4569-856b-ff509b52fbf8"
      },
      "execution_count": 38,
      "outputs": [
        {
          "output_type": "stream",
          "name": "stdout",
          "text": [
            "tensor([0., 1.]) tensor([ 80, 160])\n"
          ]
        }
      ]
    },
    {
      "cell_type": "code",
      "source": [
        "weights = 1.0/ counts.float()\n",
        "print(weights)"
      ],
      "metadata": {
        "colab": {
          "base_uri": "https://localhost:8080/"
        },
        "id": "AeLX00u_Zycu",
        "outputId": "a1710610-4b39-42ef-c9a8-1201173fc6a1"
      },
      "execution_count": 39,
      "outputs": [
        {
          "output_type": "stream",
          "name": "stdout",
          "text": [
            "tensor([0.0125, 0.0063])\n"
          ]
        }
      ]
    },
    {
      "cell_type": "code",
      "source": [
        "## Here in pytorch it is not sufficient to give weights to classes but we have to assign weight to each data point\n",
        "sample_weights = weights[y_train_tensor.squeeze().long()]\n",
        "\n",
        "\n",
        "print(sample_weights.shape) ## this way we have assigned the weight to each data point\n",
        "print(sample_weights[:10])\n",
        "print(y_train_tensor[:10].squeeze().long())"
      ],
      "metadata": {
        "colab": {
          "base_uri": "https://localhost:8080/"
        },
        "id": "FCVkvXpbZ9Hn",
        "outputId": "a704c307-48c9-4739-9355-25af6e06d8fb"
      },
      "execution_count": 40,
      "outputs": [
        {
          "output_type": "stream",
          "name": "stdout",
          "text": [
            "torch.Size([240])\n",
            "tensor([0.0063, 0.0063, 0.0063, 0.0063, 0.0063, 0.0125, 0.0063, 0.0063, 0.0063,\n",
            "        0.0063])\n",
            "tensor([1, 1, 1, 1, 1, 0, 1, 1, 1, 1])\n"
          ]
        }
      ]
    },
    {
      "cell_type": "code",
      "source": [
        "## Lets create a sampler\n",
        "\n",
        "generator = torch.Generator()\n",
        "\n",
        "sampler = WeightedRandomSampler(\n",
        "    weights= sample_weights,\n",
        "    num_samples = len(sample_weights),\n",
        "    generator = generator,\n",
        "    replacement= True\n",
        ")\n",
        "\n",
        "## We will set the seed in the generator later on.. first creates the data loader\n",
        "\n",
        "train_loader = DataLoader(dataset=train_dataset, batch_size=16, sampler=sampler)\n",
        "\n",
        "val_loader = DataLoader(dataset=val_dataset, batch_size=16, )"
      ],
      "metadata": {
        "id": "4X7p4Lxoa3Zu"
      },
      "execution_count": 41,
      "outputs": []
    },
    {
      "cell_type": "code",
      "source": [
        "## Lets create a helper function\n",
        "\n",
        "def make_balanced_sampler(y):\n",
        "\n",
        "  classes, counts = y.unique(return_counts=True)\n",
        "  weights = 1.0/counts.float()\n",
        "  sample_weights = weights[y.squeeze().long()]\n",
        "\n",
        "  generator = torch.Generator()\n",
        "\n",
        "  sampler = WeightedRandomSampler(\n",
        "      weights = sample_weights,\n",
        "      num_samples = len(sample_weights),\n",
        "      generator = generator,\n",
        "      replacement = True\n",
        "  )\n",
        "  return sampler"
      ],
      "metadata": {
        "id": "5RQZ0BwddCku"
      },
      "execution_count": 42,
      "outputs": []
    },
    {
      "cell_type": "code",
      "source": [
        "sampler = make_balanced_sampler(y_train_tensor)"
      ],
      "metadata": {
        "id": "NCIzQXm0w110"
      },
      "execution_count": 43,
      "outputs": []
    },
    {
      "cell_type": "code",
      "source": [
        "## Time to set the seed\n",
        "train_loader.sampler.generator.manual_seed(42)\n",
        "random.seed(42) ## Why we have this extra seed, as this is for python random module, after pytorch 0.8 some of the transformation is using this."
      ],
      "metadata": {
        "id": "GgUZ0qmzw5f9"
      },
      "execution_count": 44,
      "outputs": []
    },
    {
      "cell_type": "code",
      "source": [
        "## Now lets check how many +ve data points we have\n",
        "## iter(train_loader) is giving the next batch.\n",
        "torch.tensor([t[1].sum() for t in iter(train_loader)]).sum()\n",
        "\n",
        "## Conclusion is now we have 123 images of +ve classes, hence we have oversampled the -ve classes which is good.\n",
        "## Now e have a balanced dataset"
      ],
      "metadata": {
        "colab": {
          "base_uri": "https://localhost:8080/"
        },
        "id": "RYFWffHCxJAo",
        "outputId": "9b40bf58-690b-4d4e-de7d-82b6d4524919"
      },
      "execution_count": 45,
      "outputs": [
        {
          "output_type": "execute_result",
          "data": {
            "text/plain": [
              "tensor(123.)"
            ]
          },
          "metadata": {},
          "execution_count": 45
        }
      ]
    },
    {
      "cell_type": "code",
      "source": [
        "len([t[1].sum() for t in iter(train_loader)])"
      ],
      "metadata": {
        "colab": {
          "base_uri": "https://localhost:8080/"
        },
        "id": "Cva5OsReyG0Z",
        "outputId": "27ef86c5-0567-41b4-8dac-0d340b0d1ba0"
      },
      "execution_count": 46,
      "outputs": [
        {
          "output_type": "execute_result",
          "data": {
            "text/plain": [
              "15"
            ]
          },
          "metadata": {},
          "execution_count": 46
        }
      ]
    },
    {
      "cell_type": "code",
      "source": [
        "[t[1].sum() for t in iter(train_loader)]"
      ],
      "metadata": {
        "colab": {
          "base_uri": "https://localhost:8080/"
        },
        "id": "RrIINTY5yOrI",
        "outputId": "6b1fa917-3e90-4408-8d3a-d22e46b26ca5"
      },
      "execution_count": 47,
      "outputs": [
        {
          "output_type": "execute_result",
          "data": {
            "text/plain": [
              "[tensor(7.),\n",
              " tensor(3.),\n",
              " tensor(8.),\n",
              " tensor(6.),\n",
              " tensor(11.),\n",
              " tensor(7.),\n",
              " tensor(7.),\n",
              " tensor(8.),\n",
              " tensor(9.),\n",
              " tensor(4.),\n",
              " tensor(9.),\n",
              " tensor(3.),\n",
              " tensor(7.),\n",
              " tensor(8.),\n",
              " tensor(9.)]"
            ]
          },
          "metadata": {},
          "execution_count": 47
        }
      ]
    },
    {
      "cell_type": "code",
      "source": [
        "from inspect import Attribute\n",
        "## Lets update our stepbystep set_seed method\n",
        "\n",
        "def set_seed(self, seed=42):\n",
        "  torch.backends.cudnn.deterministic = True\n",
        "  torch.backends.cudnn.benchmark = False\n",
        "  torch.manual_seed(seed)\n",
        "  np.random.seed(seed)\n",
        "  random.seed(seed)\n",
        "  try:\n",
        "    self.train_loader.sampler.generator.manual_seed(seed)\n",
        "  except AttributeError:\n",
        "    pass\n",
        "\n",
        "  setattr(StepByStep, 'set_seed', set_seed)"
      ],
      "metadata": {
        "id": "2ZndgQ0SyXff"
      },
      "execution_count": 48,
      "outputs": []
    },
    {
      "cell_type": "markdown",
      "source": [
        "## Putting all together"
      ],
      "metadata": {
        "id": "0znJMiOr4E5Z"
      }
    },
    {
      "cell_type": "code",
      "source": [
        "## Build tensors from numpy arrays BEFORE split\n",
        "x_tensor = torch.as_tensor(images/255).float()\n",
        "y_tensor = torch.as_tensor(labels.reshape(-1,1)).float()\n",
        "\n",
        "## Uses index_splitter to generate indices\n",
        "train_idx, val_idx = index_splitter(len(x_tensor), [80,20])\n",
        "\n",
        "## Uses indices to perform the split\n",
        "x_train_tensor = x_tensor[train_idx]\n",
        "y_train_tensor = y_tensor[train_idx]\n",
        "x_val_tensor = x_tensor[val_idx]\n",
        "y_val_tensor = y_tensor[val_idx]\n",
        "\n",
        "# Buils different composers because of data augmentation on training set\n",
        "train_composer = Compose([RandomHorizontalFlip(p=0.5),\n",
        "                         Normalize(mean=(.5,), std=(.5,))])\n",
        "val_composer = Compose([Normalize(mean=(.5), std=(.5,))])\n",
        "\n",
        "train_dataset = TransformedTensorDataset(\n",
        "    x_train_tensor, y_train_tensor, transform=train_composer\n",
        ")\n",
        "\n",
        "val_dataset = TransformedTensorDataset(\n",
        "    x_val_tensor, y_val_tensor, transform=val_composer\n",
        ")\n",
        "\n",
        "## Builds weighted random sampler to handle imbalanced classes\n",
        "sampler = make_balanced_sampler(y_train_tensor)\n",
        "\n",
        "train_loader = DataLoader(\n",
        "    dataset=train_dataset, batch_size=16, sampler=sampler\n",
        ")\n",
        "\n",
        "val_loader = DataLoader(dataset=val_dataset, batch_size=16)"
      ],
      "metadata": {
        "colab": {
          "base_uri": "https://localhost:8080/"
        },
        "id": "OTTeLDFN0QK_",
        "outputId": "af1cbff4-3935-4fdf-df5b-d76a38e79cc6"
      },
      "execution_count": 49,
      "outputs": [
        {
          "output_type": "stream",
          "name": "stdout",
          "text": [
            "tensor(3.)\n",
            "tensor([240,  60])\n",
            "tensor(0)\n"
          ]
        }
      ]
    },
    {
      "cell_type": "markdown",
      "source": [
        "### All done with data preparation"
      ],
      "metadata": {
        "id": "IagKt39Y6Rap"
      }
    },
    {
      "cell_type": "markdown",
      "source": [
        "## Pixels as Features"
      ],
      "metadata": {
        "id": "3wTSHxp56Wn-"
      }
    },
    {
      "cell_type": "code",
      "source": [
        "## Lets try flattening up the each pixel\n",
        "\n",
        "dummy_xs, dummy_ys = next(iter(train_loader))\n",
        "dummy_xs.shape"
      ],
      "metadata": {
        "colab": {
          "base_uri": "https://localhost:8080/"
        },
        "id": "7LByGgUB4DOo",
        "outputId": "ccc39bb6-b571-496b-d28e-02b32e264f38"
      },
      "execution_count": 50,
      "outputs": [
        {
          "output_type": "execute_result",
          "data": {
            "text/plain": [
              "torch.Size([16, 1, 5, 5])"
            ]
          },
          "metadata": {},
          "execution_count": 50
        }
      ]
    },
    {
      "cell_type": "code",
      "source": [
        "flattener = nn.Flatten()\n",
        "dummy_xs_flat = flattener(dummy_xs)\n",
        "\n",
        "print(dummy_xs_flat.shape)\n",
        "print(dummy_xs_flat[0])"
      ],
      "metadata": {
        "colab": {
          "base_uri": "https://localhost:8080/"
        },
        "id": "2Iy9Iy7V608G",
        "outputId": "0b858a85-c6ff-4dd1-bbff-a5433d7dbeee"
      },
      "execution_count": 51,
      "outputs": [
        {
          "output_type": "stream",
          "name": "stdout",
          "text": [
            "torch.Size([16, 25])\n",
            "tensor([-1., -1., -1.,  1., -1., -1., -1., -1.,  1., -1., -1., -1., -1.,  1.,\n",
            "        -1., -1., -1., -1.,  1., -1., -1., -1., -1.,  1., -1.])\n"
          ]
        }
      ]
    },
    {
      "cell_type": "markdown",
      "source": [
        "## Shallow Model"
      ],
      "metadata": {
        "id": "3P07keLKQ4Ff"
      }
    },
    {
      "cell_type": "markdown",
      "source": [
        "## Model Configuration"
      ],
      "metadata": {
        "id": "hsXlRa_WQS8I"
      }
    },
    {
      "cell_type": "code",
      "source": [
        "lr= 0.1\n",
        "\n",
        "torch.manual_seed(17)\n",
        "# Now we can create a model\n",
        "\n",
        "model_logistic = nn.Sequential()\n",
        "model_logistic.add_module('flatten', nn.Flatten())\n",
        "model_logistic.add_module('output', nn.Linear(25, 1, bias=False))\n",
        "model_logistic.add_module('sigmoid', nn.Sigmoid())\n",
        "\n",
        "## Defines a SGD optimizer to update the parameters\n",
        "optimizer_logistic = optim.SGD(\n",
        "    model_logistic.parameters(), lr=lr\n",
        ")\n",
        "\n",
        "binary_loss_fn = nn.BCELoss()"
      ],
      "metadata": {
        "id": "XSIqNZUt7Qrz"
      },
      "execution_count": 52,
      "outputs": []
    },
    {
      "cell_type": "markdown",
      "source": [
        "## Model Training"
      ],
      "metadata": {
        "id": "waC0bQ_dQVcB"
      }
    },
    {
      "cell_type": "code",
      "source": [
        "n_epochs = 100\n",
        "\n",
        "sbs_logistic = StepByStep(\n",
        "    model_logistic, binary_loss_fn, optimizer_logistic\n",
        ")\n",
        "\n",
        "sbs_logistic.set_loaders(train_loader, val_loader)\n",
        "sbs_logistic.train(n_epochs)"
      ],
      "metadata": {
        "id": "-qN7W147P_ub"
      },
      "execution_count": 53,
      "outputs": []
    },
    {
      "cell_type": "code",
      "source": [
        "fig = sbs_logistic.plot_losses()"
      ],
      "metadata": {
        "colab": {
          "base_uri": "https://localhost:8080/",
          "height": 297
        },
        "id": "aIweplbhQsmI",
        "outputId": "0f023bb3-271a-439f-a1ad-b15528f088bb"
      },
      "execution_count": 54,
      "outputs": [
        {
          "output_type": "display_data",
          "data": {
            "text/plain": [
              "<Figure size 720x288 with 1 Axes>"
            ],
            "image/png": "[encoded data removed]"
          },
          "metadata": {
            "needs_background": "light"
          }
        }
      ]
    },
    {
      "cell_type": "markdown",
      "source": [
        "## Deep-ish Model"
      ],
      "metadata": {
        "id": "jskF_KCyQ69y"
      }
    },
    {
      "cell_type": "markdown",
      "source": [
        "## Model Configuration"
      ],
      "metadata": {
        "id": "2aCOiuLIRuWk"
      }
    },
    {
      "cell_type": "code",
      "source": [
        "lr = 0.1\n",
        "\n",
        "torch.manual_seed(17)\n",
        "\n",
        "model_nn = nn.Sequential()\n",
        "model_nn.add_module('flatten', nn.Flatten())\n",
        "model_nn.add_module('hidden0', nn.Linear(25, 5, bias=False))\n",
        "model_nn.add_module('hidden1', nn.Linear(5,3, bias=False))\n",
        "model_nn.add_module('output', nn.Linear(3,1, bias=False))\n",
        "model_nn.add_module('sigmoid', nn.Sigmoid())\n",
        "\n",
        "optimizer_nn = optim.SGD(model_nn.parameters(), lr=lr)\n",
        "\n",
        "binary_loss_fn = nn.BCELoss()"
      ],
      "metadata": {
        "id": "dikSSGK5Qw_Y"
      },
      "execution_count": 55,
      "outputs": []
    },
    {
      "cell_type": "code",
      "source": [
        "n_epochs = 100\n",
        "\n",
        "sbs_nn = StepByStep(\n",
        "    model_nn, binary_loss_fn, optimizer_nn\n",
        ")\n",
        "\n",
        "sbs_nn.set_loaders(train_loader, val_loader)\n",
        "sbs_nn.train(n_epochs)\n",
        "\n",
        "fig = sbs_nn.plot_losses()"
      ],
      "metadata": {
        "colab": {
          "base_uri": "https://localhost:8080/",
          "height": 297
        },
        "id": "qxpAOOAJSpXy",
        "outputId": "6a4dcd11-08e0-427b-f657-bc64c8be17ab"
      },
      "execution_count": 56,
      "outputs": [
        {
          "output_type": "display_data",
          "data": {
            "text/plain": [
              "<Figure size 720x288 with 1 Axes>"
            ],
            "image/png": "[encoded data removed]"
          },
          "metadata": {
            "needs_background": "light"
          }
        }
      ]
    },
    {
      "cell_type": "code",
      "source": [
        "## As we can see that deep model is not working good.\n",
        "## It is not worsening, and it is also not getting better.\n",
        "## Lets look at the underlying things -: Deep model w/o actiavtion function works like a linear model.\n",
        "\n",
        "w_nn_hidden0 = model_nn.hidden0.weight.detach()\n",
        "w_nn_hidden1 = model_nn.hidden1.weight.detach()\n",
        "w_nn_output = model_nn.output.weight.detach()\n",
        "\n",
        "w_nn_hidden0.shape, w_nn_hidden1.shape, w_nn_output.shape"
      ],
      "metadata": {
        "colab": {
          "base_uri": "https://localhost:8080/"
        },
        "id": "MsmAZFYWSyQw",
        "outputId": "a60aabad-25e6-4e26-c54b-e769b5b62782"
      },
      "execution_count": 57,
      "outputs": [
        {
          "output_type": "execute_result",
          "data": {
            "text/plain": [
              "(torch.Size([5, 25]), torch.Size([3, 5]), torch.Size([1, 3]))"
            ]
          },
          "metadata": {},
          "execution_count": 57
        }
      ]
    },
    {
      "cell_type": "code",
      "source": [
        "w_nn_equiv = w_nn_output @ w_nn_hidden1 @ w_nn_hidden0\n",
        "w_nn_equiv.shape"
      ],
      "metadata": {
        "colab": {
          "base_uri": "https://localhost:8080/"
        },
        "id": "86srfBrFv9I2",
        "outputId": "23c2bb6a-1d50-45c1-8340-9b866c50c76d"
      },
      "execution_count": 58,
      "outputs": [
        {
          "output_type": "execute_result",
          "data": {
            "text/plain": [
              "torch.Size([1, 25])"
            ]
          },
          "metadata": {},
          "execution_count": 58
        }
      ]
    },
    {
      "cell_type": "code",
      "source": [
        "## We can also replace the above(@ - dot product) with torch.mm\n",
        "\n",
        "w_nn_equiv = w_nn_output.mm(w_nn_hidden1.mm(w_nn_hidden0))"
      ],
      "metadata": {
        "id": "YVFF9PYbwQ4R"
      },
      "execution_count": 59,
      "outputs": []
    },
    {
      "cell_type": "code",
      "source": [
        "## Getting the shallow model weights\n",
        "\n",
        "w_logistic_output = model_logistic.output.weight.detach()\n",
        "w_logistic_output.shape\n"
      ],
      "metadata": {
        "colab": {
          "base_uri": "https://localhost:8080/"
        },
        "id": "imFtBUFNwjUF",
        "outputId": "e3dbbb86-8b22-4217-ecc8-3e84f4940428"
      },
      "execution_count": 60,
      "outputs": [
        {
          "output_type": "execute_result",
          "data": {
            "text/plain": [
              "torch.Size([1, 25])"
            ]
          },
          "metadata": {},
          "execution_count": 60
        }
      ]
    },
    {
      "cell_type": "code",
      "source": [
        "from matplotlib import colors\n",
        "plt.bar(range(w_nn_equiv.shape[1]) ,w_nn_equiv[0].cpu().detach().numpy(), color='r')\n",
        "plt.bar(range(w_logistic_output.shape[1]) ,w_logistic_output[0].cpu().detach().numpy(), color='b')\n",
        "# plt.show()\n",
        "plt.legend([\"Deep\", \"Shallow\"])\n",
        "plt.show()"
      ],
      "metadata": {
        "colab": {
          "base_uri": "https://localhost:8080/",
          "height": 262
        },
        "id": "51L9WN2bxD0v",
        "outputId": "03251790-7852-4eb5-bfb7-e21d41644bca"
      },
      "execution_count": 61,
      "outputs": [
        {
          "output_type": "display_data",
          "data": {
            "text/plain": [
              "<Figure size 432x288 with 1 Axes>"
            ],
            "image/png": "[encoded data removed]"
          },
          "metadata": {
            "needs_background": "light"
          }
        }
      ]
    },
    {
      "cell_type": "code",
      "source": [
        "# w_nn_equiv[0].cpu().detach().numpy()"
      ],
      "metadata": {
        "id": "ozZ6cbMPxTa-"
      },
      "execution_count": 62,
      "outputs": []
    },
    {
      "cell_type": "markdown",
      "source": [
        "## Count Parameters"
      ],
      "metadata": {
        "id": "4HOMBVzqzL5b"
      }
    },
    {
      "cell_type": "code",
      "source": [
        "def count_parameters(self):\n",
        "  return sum(p.numel()\n",
        "              for p in self.model.parameters()\n",
        "              if p.requires_grad)\n",
        "  \n",
        "setattr(StepByStep, 'count_parameters', count_parameters)"
      ],
      "metadata": {
        "id": "IL7JNRfHxx6g"
      },
      "execution_count": 63,
      "outputs": []
    },
    {
      "cell_type": "code",
      "source": [
        "sbs_logistic.count_parameters(), sbs_nn.count_parameters()"
      ],
      "metadata": {
        "colab": {
          "base_uri": "https://localhost:8080/"
        },
        "id": "uL5_-qWxzkkj",
        "outputId": "450bef84-a452-4d0b-e7f6-2741f72f2b93"
      },
      "execution_count": 64,
      "outputs": [
        {
          "output_type": "execute_result",
          "data": {
            "text/plain": [
              "(25, 143)"
            ]
          },
          "metadata": {},
          "execution_count": 64
        }
      ]
    },
    {
      "cell_type": "markdown",
      "source": [
        "## Weights as pixels"
      ],
      "metadata": {
        "id": "rwzK959_2DkX"
      }
    },
    {
      "cell_type": "code",
      "source": [
        "w_nn_hidden0.shape"
      ],
      "metadata": {
        "colab": {
          "base_uri": "https://localhost:8080/"
        },
        "id": "F9JSNgEuzp1F",
        "outputId": "199e479c-454a-4346-f6bf-6f53ab4cdf04"
      },
      "execution_count": 65,
      "outputs": [
        {
          "output_type": "execute_result",
          "data": {
            "text/plain": [
              "torch.Size([5, 25])"
            ]
          },
          "metadata": {},
          "execution_count": 65
        }
      ]
    },
    {
      "cell_type": "code",
      "source": [
        "for i in range(w_nn_hidden0.shape[0]):\n",
        "  plt.subplot(1, 5, i+1)\n",
        "  # plt.figure(figsize=(10,10))\n",
        "  plt.imshow(w_nn_hidden0[i].reshape((5,5)), cmap='gray')"
      ],
      "metadata": {
        "colab": {
          "base_uri": "https://localhost:8080/",
          "height": 109
        },
        "id": "NKNM_w3s2HHV",
        "outputId": "cd3e08e5-7d75-41c8-b11f-2c40e3f3c2aa"
      },
      "execution_count": 66,
      "outputs": [
        {
          "output_type": "display_data",
          "data": {
            "text/plain": [
              "<Figure size 432x288 with 5 Axes>"
            ],
            "image/png": "[encoded data removed]"
          },
          "metadata": {
            "needs_background": "light"
          }
        }
      ]
    },
    {
      "cell_type": "markdown",
      "source": [
        "## Activation Functions"
      ],
      "metadata": {
        "id": "SER7wXAT51V1"
      }
    },
    {
      "cell_type": "code",
      "source": [
        "## Very good Point.\n",
        "## Also, remember that the activation values of any given layer are the inputs of the\n",
        "# following layer and, given the range of the sigmoid, the activation values are going\n",
        "# to be centered around 0.5, instead of zero. This means that, even if we normalize\n",
        "# our inputs to feed the first layer, it will not be the case anymore for the other\n",
        "# layers\n",
        "\n",
        "## Very good question\n",
        "## Ques. Why does it matter if the outputs are centered around zero or not?\n",
        "## Ans. As we have seen that standardization of inputs are mandatory for to improve the performance of the gradient descent.\n",
        "## Same applies here, author said that will touch this topic again later.\n",
        "\n"
      ],
      "metadata": {
        "id": "x95Yb-te2Wvs"
      },
      "execution_count": 67,
      "outputs": []
    },
    {
      "cell_type": "markdown",
      "source": [
        "## Sigmoid"
      ],
      "metadata": {
        "id": "I-YO1jqk7RwK"
      }
    },
    {
      "cell_type": "code",
      "source": [
        "## Sigmoid\n",
        "\n",
        "## There are two ways of doing it.\n",
        "\n",
        "dummy_z = torch.tensor([-3., 0., 3.])\n",
        "torch.sigmoid(dummy_z)\n",
        "\n",
        "## Another is to do from nn Class\n",
        "\n",
        "nn.Sigmoid()(dummy_z)"
      ],
      "metadata": {
        "colab": {
          "base_uri": "https://localhost:8080/"
        },
        "id": "LcCFXYex60hz",
        "outputId": "ccbccc77-b361-42f4-c090-7f4b99843a07"
      },
      "execution_count": 68,
      "outputs": [
        {
          "output_type": "execute_result",
          "data": {
            "text/plain": [
              "tensor([0.0474, 0.5000, 0.9526])"
            ]
          },
          "metadata": {},
          "execution_count": 68
        }
      ]
    },
    {
      "cell_type": "markdown",
      "source": [
        "## Tanh\n",
        "![image.png](data:image/png;base64,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)"
      ],
      "metadata": {
        "id": "lx17RTUD7TUZ"
      }
    },
    {
      "cell_type": "markdown",
      "source": [
        "As you can see in the figure above, the tanh activation function “squashes” the\n",
        "input values into the range (-1, 1). Therefore, being centered at zero, the activation\n",
        "values are already (somewhat) normalized inputs for the next layer, making the\n",
        "hyperbolic tangent a better activation function than the sigmoid"
      ],
      "metadata": {
        "id": "d-H0fHH-7_5b"
      }
    },
    {
      "cell_type": "markdown",
      "source": [
        "## ReLU"
      ],
      "metadata": {
        "id": "2nyh2dIb0LJg"
      }
    },
    {
      "cell_type": "code",
      "source": [
        "## There are two ways of doing it.\n",
        "\n",
        "dummy_z = torch.tensor([-3., 0., 3.])\n",
        "torch.tanh(dummy_z)\n",
        "\n",
        "## Another is to do from nn Class\n",
        "\n",
        "nn.Tanh()(dummy_z)"
      ],
      "metadata": {
        "colab": {
          "base_uri": "https://localhost:8080/"
        },
        "id": "v2E1QARS6-sY",
        "outputId": "45e43392-f538-46b2-f7b4-ccfa50a8d72d"
      },
      "execution_count": 69,
      "outputs": [
        {
          "output_type": "execute_result",
          "data": {
            "text/plain": [
              "tensor([-0.9951,  0.0000,  0.9951])"
            ]
          },
          "metadata": {},
          "execution_count": 69
        }
      ]
    },
    {
      "cell_type": "code",
      "source": [
        "dummy_z = torch.tensor([-3., 0., 3.])\n",
        "F.relu(dummy_z)"
      ],
      "metadata": {
        "id": "7e30SANk8MMm",
        "colab": {
          "base_uri": "https://localhost:8080/"
        },
        "outputId": "cfbb26e1-33cb-44c0-b635-7484859a19e0"
      },
      "execution_count": 70,
      "outputs": [
        {
          "output_type": "execute_result",
          "data": {
            "text/plain": [
              "tensor([0., 0., 3.])"
            ]
          },
          "metadata": {},
          "execution_count": 70
        }
      ]
    },
    {
      "cell_type": "code",
      "source": [
        "nn.ReLU()(dummy_z)"
      ],
      "metadata": {
        "colab": {
          "base_uri": "https://localhost:8080/"
        },
        "id": "qQz9DZ3wzs06",
        "outputId": "b0733585-ca75-4c94-da9a-9658d8c33e61"
      },
      "execution_count": 71,
      "outputs": [
        {
          "output_type": "execute_result",
          "data": {
            "text/plain": [
              "tensor([0., 0., 3.])"
            ]
          },
          "metadata": {},
          "execution_count": 71
        }
      ]
    },
    {
      "cell_type": "code",
      "source": [
        "dummy_z.clamp(min=0)"
      ],
      "metadata": {
        "colab": {
          "base_uri": "https://localhost:8080/"
        },
        "id": "5GNkQpvnzw3R",
        "outputId": "e46db2e3-9a31-4668-f4a6-c35bbd85ea42"
      },
      "execution_count": 73,
      "outputs": [
        {
          "output_type": "execute_result",
          "data": {
            "text/plain": [
              "tensor([0., 0., 3.])"
            ]
          },
          "metadata": {},
          "execution_count": 73
        }
      ]
    },
    {
      "cell_type": "markdown",
      "source": [
        "### Leaky ReLU"
      ],
      "metadata": {
        "id": "gK4oLmGD0O1X"
      }
    },
    {
      "cell_type": "code",
      "source": [
        "F.leaky_relu(dummy_z, negative_slope=0.01)"
      ],
      "metadata": {
        "colab": {
          "base_uri": "https://localhost:8080/"
        },
        "id": "gGHqEzUtz2Qv",
        "outputId": "4c128ac8-8a00-4f0c-e17d-a2f84ed9b697"
      },
      "execution_count": 74,
      "outputs": [
        {
          "output_type": "execute_result",
          "data": {
            "text/plain": [
              "tensor([-0.0300,  0.0000,  3.0000])"
            ]
          },
          "metadata": {},
          "execution_count": 74
        }
      ]
    },
    {
      "cell_type": "code",
      "source": [
        "nn.LeakyReLU(negative_slope=0.02)(dummy_z)"
      ],
      "metadata": {
        "colab": {
          "base_uri": "https://localhost:8080/"
        },
        "id": "Jtbya8Ho0XAe",
        "outputId": "27fb9a84-16dd-40ef-f110-28763900aaad"
      },
      "execution_count": 75,
      "outputs": [
        {
          "output_type": "execute_result",
          "data": {
            "text/plain": [
              "tensor([-0.0600,  0.0000,  3.0000])"
            ]
          },
          "metadata": {},
          "execution_count": 75
        }
      ]
    },
    {
      "cell_type": "markdown",
      "source": [
        "Can we train this little negative slope, yes we can.?"
      ],
      "metadata": {
        "id": "wxUkFunU0j0x"
      }
    },
    {
      "cell_type": "markdown",
      "source": [
        "## Parameteric ReLU"
      ],
      "metadata": {
        "id": "rf6YsP8d0p2c"
      }
    },
    {
      "cell_type": "code",
      "source": [
        "dummy_z = torch.tensor([-3., 0., 3.])\n",
        "F.prelu(dummy_z, weight=torch.tensor(0.25))\n",
        "\n",
        "## In general it doesnt make sense to set this second parameter as Prelu is going to learn it."
      ],
      "metadata": {
        "colab": {
          "base_uri": "https://localhost:8080/"
        },
        "id": "dvcaV4nF0dhB",
        "outputId": "8a36245d-3fa2-42d9-abc7-bf8e504c2533"
      },
      "execution_count": 77,
      "outputs": [
        {
          "output_type": "execute_result",
          "data": {
            "text/plain": [
              "tensor([-0.7500,  0.0000,  3.0000])"
            ]
          },
          "metadata": {},
          "execution_count": 77
        }
      ]
    },
    {
      "cell_type": "code",
      "source": [
        "nn.PReLU(init=0.25)(dummy_z)"
      ],
      "metadata": {
        "colab": {
          "base_uri": "https://localhost:8080/"
        },
        "id": "AboRosm41JRC",
        "outputId": "eac006e8-7524-4266-e88c-66b7f21e5a13"
      },
      "execution_count": 78,
      "outputs": [
        {
          "output_type": "execute_result",
          "data": {
            "text/plain": [
              "tensor([-0.7500,  0.0000,  3.0000], grad_fn=<PreluBackward0>)"
            ]
          },
          "metadata": {},
          "execution_count": 78
        }
      ]
    },
    {
      "cell_type": "markdown",
      "source": [
        "## Deep Model with Activation Functions"
      ],
      "metadata": {
        "id": "HjDuUPYd11en"
      }
    },
    {
      "cell_type": "markdown",
      "source": [
        "\n",
        "## Model Configuration"
      ],
      "metadata": {
        "id": "U5YvV4de1_1s"
      }
    },
    {
      "cell_type": "code",
      "source": [
        "lr =0.1\n",
        "\n",
        "torch.manual_seed(17)\n",
        "\n",
        "model_relu = nn.Sequential()\n",
        "model_relu.add_module('flatten', nn.Flatten())\n",
        "model_relu.add_module('hidden0', nn.Linear(25, 5, bias=False))\n",
        "model_relu.add_module('activation0', nn.ReLU())\n",
        "model_relu.add_module('hidden1', nn.Linear(5,3,bias=False))\n",
        "model_relu.add_module('actiavtion1', nn.ReLU())\n",
        "model_relu.add_module('output', nn.Linear(3,1, bias=False))\n",
        "model_relu.add_module('sigmoid', nn.Sigmoid())\n",
        "\n",
        "optimizer_relu = optim.SGD(model_relu.parameters(), lr=lr)\n",
        "binary_loss_fn = nn.BCELoss()"
      ],
      "metadata": {
        "id": "u-gj53_K1hSm"
      },
      "execution_count": 79,
      "outputs": []
    },
    {
      "cell_type": "markdown",
      "source": [
        "## Model Training"
      ],
      "metadata": {
        "id": "SRyEsBq828Jc"
      }
    },
    {
      "cell_type": "code",
      "source": [
        "n_epochs = 50\n",
        "\n",
        "sbs_relu = StepByStep(model_relu, binary_loss_fn, optimizer_relu)\n",
        "sbs_relu.set_loaders(train_loader, val_loader)\n",
        "sbs_relu.train(n_epochs)"
      ],
      "metadata": {
        "id": "oID-3SBC23zc"
      },
      "execution_count": 80,
      "outputs": []
    },
    {
      "cell_type": "code",
      "source": [
        "fig = sbs_relu.plot_losses()"
      ],
      "metadata": {
        "colab": {
          "base_uri": "https://localhost:8080/",
          "height": 297
        },
        "id": "95QgbptA3MKm",
        "outputId": "dd292e13-4888-4863-f36c-69e8fb22fd44"
      },
      "execution_count": 81,
      "outputs": [
        {
          "output_type": "display_data",
          "data": {
            "text/plain": [
              "<Figure size 720x288 with 1 Axes>"
            ],
            "image/png": "[encoded data removed]"
          },
          "metadata": {
            "needs_background": "light"
          }
        }
      ]
    },
    {
      "cell_type": "markdown",
      "source": [
        "## Putting it all together\n",
        "We have seen the data preparation, compose data transformation, splitting the data, activation functions"
      ],
      "metadata": {
        "id": "ixHFuVBF38Hi"
      }
    },
    {
      "cell_type": "code",
      "source": [
        "class TransformedTensorDataset(Dataset):\n",
        "  def __init__(self, x, y, transform=None):\n",
        "    self.x = x\n",
        "    self.y = y\n",
        "    self.transform = transform\n",
        "\n",
        "  def __getitem__(self, index):\n",
        "      x = self.x[index]\n",
        "\n",
        "      if self.transform:\n",
        "        x = self.transform(x)\n",
        "\n",
        "      return x, self.y[index]\n",
        "\n",
        "  def __len__(self):\n",
        "    return len(self.x)"
      ],
      "metadata": {
        "id": "Vrx-hgAG4Hre"
      },
      "execution_count": 82,
      "outputs": []
    },
    {
      "cell_type": "code",
      "source": [
        "def index_splitter(n, splits, seed=13):\n",
        "  idx = torch.arange(n)\n",
        "\n",
        "  splits_tensor = torch.as_tensor(splits)\n",
        "\n",
        "  multiplier = n / splits_tensor.sum()\n",
        "  print(multiplier)\n",
        "  splits_tensor = (multiplier * splits_tensor).long()\n",
        "  print(splits_tensor)\n",
        "  # If there is a difference, throws at the first split\n",
        "  10 # so random_split does not complain\n",
        "  ## not very clear\n",
        "  diff = n - splits_tensor.sum()\n",
        "  print(diff)\n",
        "\n",
        "  splits_tensor[0] += diff\n",
        "\n",
        "  torch.manual_seed(seed)\n",
        "  return random_split(idx, splits_tensor)"
      ],
      "metadata": {
        "id": "ZWZKslnn3WT0"
      },
      "execution_count": 83,
      "outputs": []
    },
    {
      "cell_type": "code",
      "source": [
        "## Lets create a helper function\n",
        "\n",
        "def make_balanced_sampler(y):\n",
        "\n",
        "  classes, counts = y.unique(return_counts=True)\n",
        "  weights = 1.0/counts.float()\n",
        "  sample_weights = weights[y.squeeze().long()]\n",
        "\n",
        "  generator = torch.Generator()\n",
        "\n",
        "  sampler = WeightedRandomSampler(\n",
        "      weights = sample_weights,\n",
        "      num_samples = len(sample_weights),\n",
        "      generator = generator,\n",
        "      replacement = True\n",
        "  )\n",
        "  return sampler"
      ],
      "metadata": {
        "id": "tkPt0t2I4yfu"
      },
      "execution_count": 84,
      "outputs": []
    },
    {
      "cell_type": "code",
      "source": [
        "## Data preparation\n",
        "\n",
        "## Build tensors from numpy arrays BEFORE split\n",
        "x_tensor = torch.as_tensor(images/255).float()\n",
        "y_tensor = torch.as_tensor(labels.reshape(-1,1)).float()\n",
        "\n",
        "## Uses index_splitter to generate indices\n",
        "train_idx, val_idx = index_splitter(len(x_tensor), [80,20])\n",
        "\n",
        "## Uses indices to perform the split\n",
        "x_train_tensor = x_tensor[train_idx]\n",
        "y_train_tensor = y_tensor[train_idx]\n",
        "x_val_tensor = x_tensor[val_idx]\n",
        "y_val_tensor = y_tensor[val_idx]\n",
        "\n",
        "# Buils different composers because of data augmentation on training set\n",
        "train_composer = Compose([RandomHorizontalFlip(p=0.5),\n",
        "                         Normalize(mean=(.5,), std=(.5,))])\n",
        "val_composer = Compose([Normalize(mean=(.5), std=(.5,))])\n",
        "\n",
        "train_dataset = TransformedTensorDataset(\n",
        "    x_train_tensor, y_train_tensor, transform=train_composer\n",
        ")\n",
        "\n",
        "val_dataset = TransformedTensorDataset(\n",
        "    x_val_tensor, y_val_tensor, transform=val_composer\n",
        ")\n",
        "\n",
        "## Builds weighted random sampler to handle imbalanced classes\n",
        "sampler = make_balanced_sampler(y_train_tensor)\n",
        "\n",
        "train_loader = DataLoader(\n",
        "    dataset=train_dataset, batch_size=16, sampler=sampler\n",
        ")\n",
        "\n",
        "val_loader = DataLoader(dataset=val_dataset, batch_size=16)"
      ],
      "metadata": {
        "colab": {
          "base_uri": "https://localhost:8080/"
        },
        "id": "-jfHw4-m5EEN",
        "outputId": "be2ad6d7-8236-40bd-f793-8fe7a22f736b"
      },
      "execution_count": 85,
      "outputs": [
        {
          "output_type": "stream",
          "name": "stdout",
          "text": [
            "tensor(3.)\n",
            "tensor([240,  60])\n",
            "tensor(0)\n"
          ]
        }
      ]
    },
    {
      "cell_type": "code",
      "source": [
        "## model configuration\n",
        "\n",
        "lr =0.1\n",
        "\n",
        "torch.manual_seed(17)\n",
        "\n",
        "model_relu = nn.Sequential()\n",
        "model_relu.add_module('flatten', nn.Flatten())\n",
        "model_relu.add_module('hidden0', nn.Linear(25, 5, bias=False))\n",
        "model_relu.add_module('activation0', nn.ReLU())\n",
        "model_relu.add_module('hidden1', nn.Linear(5,3,bias=False))\n",
        "model_relu.add_module('actiavtion1', nn.ReLU())\n",
        "model_relu.add_module('output', nn.Linear(3,1, bias=False))\n",
        "model_relu.add_module('sigmoid', nn.Sigmoid())\n",
        "\n",
        "optimizer_relu = optim.SGD(model_relu.parameters(), lr=lr)\n",
        "binary_loss_fn = nn.BCELoss()"
      ],
      "metadata": {
        "id": "FSYxFJCU5XIy"
      },
      "execution_count": 86,
      "outputs": []
    },
    {
      "cell_type": "code",
      "source": [
        "## model training\n",
        "n_epochs = 50\n",
        "\n",
        "sbs_relu = StepByStep(model_relu, binary_loss_fn, optimizer_relu)\n",
        "sbs_relu.set_loaders(train_loader, val_loader)\n",
        "sbs_relu.train(n_epochs)"
      ],
      "metadata": {
        "id": "XnAIJyO05XIz"
      },
      "execution_count": 87,
      "outputs": []
    },
    {
      "cell_type": "code",
      "source": [
        ""
      ],
      "metadata": {
        "id": "i33xgUI25b0N"
      },
      "execution_count": null,
      "outputs": []
    }
  ]
}