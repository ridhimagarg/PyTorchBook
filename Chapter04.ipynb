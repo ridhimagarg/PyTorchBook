{
  "nbformat": 4,
  "nbformat_minor": 0,
  "metadata": {
    "colab": {
      "name": "Chapter04.ipynb",
      "provenance": [],
      "collapsed_sections": [],
      "authorship_tag": "ABX9TyNS4D0tcqFJdE4LB0kbCjbQ",
      "include_colab_link": true
    },
    "kernelspec": {
      "name": "python3",
      "display_name": "Python 3"
    },
    "language_info": {
      "name": "python"
    }
  },
  "cells": [
    {
      "cell_type": "markdown",
      "metadata": {
        "id": "view-in-github",
        "colab_type": "text"
      },
      "source": [
        "<a href=\"https://colab.research.google.com/github/ridhimagarg/PyTorchBook/blob/main/Chapter04.ipynb\" target=\"_parent\"><img src=\"https://colab.research.google.com/assets/colab-badge.svg\" alt=\"Open In Colab\"/></a>"
      ]
    },
    {
      "cell_type": "code",
      "execution_count": 1,
      "metadata": {
        "id": "JhGw-8RrEpSG"
      },
      "outputs": [],
      "source": [
        "import random\n",
        "import numpy as np\n",
        "from PIL import Image\n",
        "\n",
        "import torch\n",
        "import torch.optim as optim\n",
        "import torch.nn as nn\n",
        "import torch.nn.functional as F\n",
        "\n",
        "from torch.utils.data import DataLoader, Dataset, random_split, WeightedRandomSampler, SubsetRandomSampler\n",
        "from torchvision.transforms import Compose, ToTensor, Normalize, ToPILImage, RandomHorizontalFlip, Resize\n",
        "\n",
        "import matplotlib.pyplot as plt\n",
        "plt.style.use('fivethirtyeight')\n",
        "%matplotlib inline\n",
        "\n",
        "# from data_generation.image_classification import generate_dataset\n",
        "from image_classification import generate_dataset ##  if working on  colab \n",
        "from v0 import StepByStep\n",
        "# from plot.chapter4 import * \n",
        "from chapter4 import *\n",
        "# from stepbystep.v0 import StepByStep"
      ]
    },
    {
      "cell_type": "markdown",
      "source": [
        "## Data Generation"
      ],
      "metadata": {
        "id": "PYYFTVF6JXon"
      }
    },
    {
      "cell_type": "code",
      "source": [
        "## lets generate 300\n",
        "images, labels = generate_dataset(img_size=5, n_images=300, seed=13)"
      ],
      "metadata": {
        "id": "pN51SPc-Fr_v"
      },
      "execution_count": 2,
      "outputs": []
    },
    {
      "cell_type": "code",
      "source": [
        "fig = plot_images(images, labels, n_plot=30)"
      ],
      "metadata": {
        "colab": {
          "base_uri": "https://localhost:8080/",
          "height": 549
        },
        "id": "GHYWHHeMJmOp",
        "outputId": "28cd8cc5-bf12-4415-eaf6-0ba1204d775f"
      },
      "execution_count": 3,
      "outputs": [
        {
          "output_type": "display_data",
          "data": {
            "text/plain": [
              "<Figure size 648x540 with 30 Axes>"
            ],
            "image/png": "[encoded data removed]"
          },
          "metadata": {}
        }
      ]
    },
    {
      "cell_type": "code",
      "source": [
        "## Images  and channels\n",
        "\n",
        "image_r = np.zeros((5, 5), dtype=np.uint8)\n",
        "image_r[:, 0] = 255\n",
        "image_r[:, 1] = 128\n",
        "image_g = np.zeros((5, 5), dtype=np.uint8)\n",
        "image_g[:, 1] = 128\n",
        "image_g[:, 2] = 255\n",
        "image_g[:, 3] = 128\n",
        "image_b = np.zeros((5, 5), dtype=np.uint8)\n",
        "image_b[:, 3] = 128\n",
        "image_b[:, 4] = 255"
      ],
      "metadata": {
        "id": "zuGziHrVJtwG"
      },
      "execution_count": 4,
      "outputs": []
    },
    {
      "cell_type": "code",
      "source": [
        "image_r"
      ],
      "metadata": {
        "colab": {
          "base_uri": "https://localhost:8080/"
        },
        "id": "z_TojUfDkTUh",
        "outputId": "944a5792-2d1f-44f1-adb7-d15b6990b5e3"
      },
      "execution_count": 5,
      "outputs": [
        {
          "output_type": "execute_result",
          "data": {
            "text/plain": [
              "array([[255, 128,   0,   0,   0],\n",
              "       [255, 128,   0,   0,   0],\n",
              "       [255, 128,   0,   0,   0],\n",
              "       [255, 128,   0,   0,   0],\n",
              "       [255, 128,   0,   0,   0]], dtype=uint8)"
            ]
          },
          "metadata": {},
          "execution_count": 5
        }
      ]
    },
    {
      "cell_type": "code",
      "source": [
        "image_g"
      ],
      "metadata": {
        "colab": {
          "base_uri": "https://localhost:8080/"
        },
        "id": "WZdZCW86kVVE",
        "outputId": "727c4e37-b2ce-4693-e1e0-7bcf73036db1"
      },
      "execution_count": 6,
      "outputs": [
        {
          "output_type": "execute_result",
          "data": {
            "text/plain": [
              "array([[  0, 128, 255, 128,   0],\n",
              "       [  0, 128, 255, 128,   0],\n",
              "       [  0, 128, 255, 128,   0],\n",
              "       [  0, 128, 255, 128,   0],\n",
              "       [  0, 128, 255, 128,   0]], dtype=uint8)"
            ]
          },
          "metadata": {},
          "execution_count": 6
        }
      ]
    },
    {
      "cell_type": "code",
      "source": [
        "plt.imshow(image_g, cmap=\"gray\")\n",
        "plt.show()"
      ],
      "metadata": {
        "colab": {
          "base_uri": "https://localhost:8080/",
          "height": 262
        },
        "id": "0B5Rf_C3kXp4",
        "outputId": "56f8571c-357f-486f-9d57-47fccda7c34e"
      },
      "execution_count": 7,
      "outputs": [
        {
          "output_type": "display_data",
          "data": {
            "text/plain": [
              "<Figure size 432x288 with 1 Axes>"
            ],
            "image/png": "[encoded data removed]"
          },
          "metadata": {
            "needs_background": "light"
          }
        }
      ]
    },
    {
      "cell_type": "code",
      "source": [
        "image_rgb = np.stack([image_r, image_g, image_b], axis=2)\n",
        "print(image_rgb)"
      ],
      "metadata": {
        "colab": {
          "base_uri": "https://localhost:8080/"
        },
        "id": "056Sbn89kdiZ",
        "outputId": "67d0b905-cf51-46fa-b76d-ed9d1b5a9fa5"
      },
      "execution_count": 8,
      "outputs": [
        {
          "output_type": "stream",
          "name": "stdout",
          "text": [
            "[[[255   0   0]\n",
            "  [128 128   0]\n",
            "  [  0 255   0]\n",
            "  [  0 128 128]\n",
            "  [  0   0 255]]\n",
            "\n",
            " [[255   0   0]\n",
            "  [128 128   0]\n",
            "  [  0 255   0]\n",
            "  [  0 128 128]\n",
            "  [  0   0 255]]\n",
            "\n",
            " [[255   0   0]\n",
            "  [128 128   0]\n",
            "  [  0 255   0]\n",
            "  [  0 128 128]\n",
            "  [  0   0 255]]\n",
            "\n",
            " [[255   0   0]\n",
            "  [128 128   0]\n",
            "  [  0 255   0]\n",
            "  [  0 128 128]\n",
            "  [  0   0 255]]\n",
            "\n",
            " [[255   0   0]\n",
            "  [128 128   0]\n",
            "  [  0 255   0]\n",
            "  [  0 128 128]\n",
            "  [  0   0 255]]]\n"
          ]
        }
      ]
    },
    {
      "cell_type": "code",
      "source": [
        "images.shape"
      ],
      "metadata": {
        "colab": {
          "base_uri": "https://localhost:8080/"
        },
        "id": "Hd3f4mVulFof",
        "outputId": "5c060d32-f394-42f5-babb-f49537f9e615"
      },
      "execution_count": 9,
      "outputs": [
        {
          "output_type": "execute_result",
          "data": {
            "text/plain": [
              "(300, 1, 5, 5)"
            ]
          },
          "metadata": {},
          "execution_count": 9
        }
      ]
    },
    {
      "cell_type": "code",
      "source": [
        "example = images[7]"
      ],
      "metadata": {
        "id": "guSFPzkGl8Se"
      },
      "execution_count": 10,
      "outputs": []
    },
    {
      "cell_type": "code",
      "source": [
        "example"
      ],
      "metadata": {
        "colab": {
          "base_uri": "https://localhost:8080/"
        },
        "id": "hM6XLJpDmevP",
        "outputId": "0aabf4b7-0afe-44d6-f6d7-926942eff039"
      },
      "execution_count": 11,
      "outputs": [
        {
          "output_type": "execute_result",
          "data": {
            "text/plain": [
              "array([[[  0, 255,   0,   0,   0],\n",
              "        [  0,   0, 255,   0,   0],\n",
              "        [  0,   0,   0, 255,   0],\n",
              "        [  0,   0,   0,   0, 255],\n",
              "        [  0,   0,   0,   0,   0]]], dtype=uint8)"
            ]
          },
          "metadata": {},
          "execution_count": 11
        }
      ]
    },
    {
      "cell_type": "code",
      "source": [
        "## In pytorch, we use channels, height, width\n",
        "## so for PIL, we have to transpose to height, width, channels.\n",
        "example_hwc = np.transpose(example, (1, 2, 0))\n",
        "example_hwc.shape\n"
      ],
      "metadata": {
        "colab": {
          "base_uri": "https://localhost:8080/"
        },
        "id": "S6c-ZGvfmgh4",
        "outputId": "38dfadac-f414-4242-b839-cf8137aafc9f"
      },
      "execution_count": 12,
      "outputs": [
        {
          "output_type": "execute_result",
          "data": {
            "text/plain": [
              "(5, 5, 1)"
            ]
          },
          "metadata": {},
          "execution_count": 12
        }
      ]
    },
    {
      "cell_type": "code",
      "source": [
        "## Converting the nump array to pytorch array.\n",
        "tensorizer = ToTensor()\n",
        "example_tensor = tensorizer(example_hwc)\n",
        "example_tensor.shape"
      ],
      "metadata": {
        "colab": {
          "base_uri": "https://localhost:8080/"
        },
        "id": "JF_kkwq0mtl_",
        "outputId": "0d8fe65f-6d17-4c61-958f-ac3d2bdd4e99"
      },
      "execution_count": 13,
      "outputs": [
        {
          "output_type": "execute_result",
          "data": {
            "text/plain": [
              "torch.Size([1, 5, 5])"
            ]
          },
          "metadata": {},
          "execution_count": 13
        }
      ]
    },
    {
      "cell_type": "code",
      "source": [
        "example_tensor\n",
        "## this time value is not 255, may be totensor changes the scale range"
      ],
      "metadata": {
        "colab": {
          "base_uri": "https://localhost:8080/"
        },
        "id": "0apiqZSXNgqC",
        "outputId": "8cadacf0-dc8c-4e82-e870-07ced6287bba"
      },
      "execution_count": 14,
      "outputs": [
        {
          "output_type": "execute_result",
          "data": {
            "text/plain": [
              "tensor([[[0., 1., 0., 0., 0.],\n",
              "         [0., 0., 1., 0., 0.],\n",
              "         [0., 0., 0., 1., 0.],\n",
              "         [0., 0., 0., 0., 1.],\n",
              "         [0., 0., 0., 0., 0.]]])"
            ]
          },
          "metadata": {},
          "execution_count": 14
        }
      ]
    },
    {
      "cell_type": "code",
      "source": [
        "## To visualize the images, lets convert it to PIL Image\n",
        "\n",
        "example_img = ToPILImage()(example_tensor)\n",
        "print(type(example_img))"
      ],
      "metadata": {
        "colab": {
          "base_uri": "https://localhost:8080/"
        },
        "id": "6gHkjibSPPa_",
        "outputId": "1b6a25d8-6e6e-4b14-e8d8-5ea2878ffbcf"
      },
      "execution_count": 15,
      "outputs": [
        {
          "output_type": "stream",
          "name": "stdout",
          "text": [
            "<class 'PIL.Image.Image'>\n"
          ]
        }
      ]
    },
    {
      "cell_type": "code",
      "source": [
        "plt.imshow(example_img, cmap=\"gray\")\n",
        "plt.grid(False)"
      ],
      "metadata": {
        "colab": {
          "base_uri": "https://localhost:8080/",
          "height": 262
        },
        "id": "-B8qZnSKUUX8",
        "outputId": "66af2895-97b5-48f3-9e29-8dbdf264f250"
      },
      "execution_count": 16,
      "outputs": [
        {
          "output_type": "display_data",
          "data": {
            "text/plain": [
              "<Figure size 432x288 with 1 Axes>"
            ],
            "image/png": "[encoded data removed]"
          },
          "metadata": {
            "needs_background": "light"
          }
        }
      ]
    },
    {
      "cell_type": "markdown",
      "source": [
        "## Transform images"
      ],
      "metadata": {
        "id": "ohNFvtdoVlq2"
      }
    },
    {
      "cell_type": "code",
      "source": [
        "flipper = RandomHorizontalFlip(p=1.0)\n",
        "flipped_img = flipper(example_img)"
      ],
      "metadata": {
        "id": "zURDe2CzUikN"
      },
      "execution_count": 17,
      "outputs": []
    },
    {
      "cell_type": "code",
      "source": [
        "plt.imshow(flipped_img, cmap=\"gray\")\n",
        "plt.grid(False)"
      ],
      "metadata": {
        "colab": {
          "base_uri": "https://localhost:8080/",
          "height": 262
        },
        "id": "RXJ9rIhFVHZQ",
        "outputId": "d2d0466f-6f1c-4de6-a8ce-aa668569c907"
      },
      "execution_count": 18,
      "outputs": [
        {
          "output_type": "display_data",
          "data": {
            "text/plain": [
              "<Figure size 432x288 with 1 Axes>"
            ],
            "image/png": "[encoded data removed]"
          },
          "metadata": {
            "needs_background": "light"
          }
        }
      ]
    },
    {
      "cell_type": "code",
      "source": [
        "## Lets convert the flipped image into tensor first"
      ],
      "metadata": {
        "id": "jBNwAVabVPr5"
      },
      "execution_count": 19,
      "outputs": []
    },
    {
      "cell_type": "code",
      "source": [
        "img_tensor = tensorizer(flipped_img)\n",
        "img_tensor"
      ],
      "metadata": {
        "colab": {
          "base_uri": "https://localhost:8080/"
        },
        "id": "TgjLMZe0V3TQ",
        "outputId": "c9d45816-c3ce-440e-88b1-fb669893f46f"
      },
      "execution_count": 20,
      "outputs": [
        {
          "output_type": "execute_result",
          "data": {
            "text/plain": [
              "tensor([[[0., 0., 0., 1., 0.],\n",
              "         [0., 0., 1., 0., 0.],\n",
              "         [0., 1., 0., 0., 0.],\n",
              "         [1., 0., 0., 0., 0.],\n",
              "         [0., 0., 0., 0., 0.]]])"
            ]
          },
          "metadata": {},
          "execution_count": 20
        }
      ]
    },
    {
      "cell_type": "code",
      "source": [
        "## Min max scaler using 0.5 as mean and std deviation\n",
        "\n",
        "normalizer = Normalize(mean=(.5,), std=(.5,))\n",
        "normalized_tensor = normalizer(img_tensor)\n",
        "normalized_tensor\n"
      ],
      "metadata": {
        "colab": {
          "base_uri": "https://localhost:8080/"
        },
        "id": "MUrvG4zAV7iP",
        "outputId": "172da2dc-e8fa-4e64-8275-64e6581b21b1"
      },
      "execution_count": 21,
      "outputs": [
        {
          "output_type": "execute_result",
          "data": {
            "text/plain": [
              "tensor([[[-1., -1., -1.,  1., -1.],\n",
              "         [-1., -1.,  1., -1., -1.],\n",
              "         [-1.,  1., -1., -1., -1.],\n",
              "         [ 1., -1., -1., -1., -1.],\n",
              "         [-1., -1., -1., -1., -1.]]])"
            ]
          },
          "metadata": {},
          "execution_count": 21
        }
      ]
    },
    {
      "cell_type": "markdown",
      "source": [
        "## Composing Transforms"
      ],
      "metadata": {
        "id": "AtBNar8NKWKC"
      }
    },
    {
      "cell_type": "code",
      "source": [
        "composer = Compose([RandomHorizontalFlip(p=1.0),\n",
        "                    Normalize(mean=(.5,), std=(.5,))])"
      ],
      "metadata": {
        "id": "E_InQIU9ZaSr"
      },
      "execution_count": 22,
      "outputs": []
    },
    {
      "cell_type": "code",
      "source": [
        "composed_tensor = composer(example_tensor)\n",
        "(composed_tensor == normalized_tensor).all()"
      ],
      "metadata": {
        "colab": {
          "base_uri": "https://localhost:8080/"
        },
        "id": "P8B3TF-CKqaM",
        "outputId": "debc95c9-5e0a-4541-8233-6eb0a28296f5"
      },
      "execution_count": 23,
      "outputs": [
        {
          "output_type": "execute_result",
          "data": {
            "text/plain": [
              "tensor(True)"
            ]
          },
          "metadata": {},
          "execution_count": 23
        }
      ]
    },
    {
      "cell_type": "code",
      "source": [
        "## As we can see we have used the transformed Pytorch tensor, we didnt used the the original pytorch tensor.\n",
        "\n",
        "print(example) ## original tensor\n",
        "print(example_tensor) ## transformed tensor /33 and we are using this while transformations/augmentation"
      ],
      "metadata": {
        "colab": {
          "base_uri": "https://localhost:8080/"
        },
        "id": "NNQw3QMcLX1e",
        "outputId": "da5ef4b1-ee83-4e2e-ee47-f983ff55e0b6"
      },
      "execution_count": 24,
      "outputs": [
        {
          "output_type": "stream",
          "name": "stdout",
          "text": [
            "[[[  0 255   0   0   0]\n",
            "  [  0   0 255   0   0]\n",
            "  [  0   0   0 255   0]\n",
            "  [  0   0   0   0 255]\n",
            "  [  0   0   0   0   0]]]\n",
            "tensor([[[0., 1., 0., 0., 0.],\n",
            "         [0., 0., 1., 0., 0.],\n",
            "         [0., 0., 0., 1., 0.],\n",
            "         [0., 0., 0., 0., 1.],\n",
            "         [0., 0., 0., 0., 0.]]])\n"
          ]
        }
      ]
    },
    {
      "cell_type": "code",
      "source": [
        "## Simple conversion so will follow this.\n",
        "example_tensor = torch.as_tensor(example / 255).float()"
      ],
      "metadata": {
        "id": "LGp-MLFALZFT"
      },
      "execution_count": 25,
      "outputs": []
    },
    {
      "cell_type": "markdown",
      "source": [
        "## Data Preparation"
      ],
      "metadata": {
        "id": "Xt_zTc90xi2C"
      }
    },
    {
      "cell_type": "code",
      "source": [
        "x_tensor = torch.as_tensor(images/255).float()\n",
        "y_tensor = torch.as_tensor(labels.reshape(-1,1)).float()\n",
        "# The only difference is that we scaled the images to get them into the expected [0.0,1.0] range"
      ],
      "metadata": {
        "id": "gFpS8KZ8xcnj"
      },
      "execution_count": 26,
      "outputs": []
    },
    {
      "cell_type": "code",
      "source": [
        "## LEts build dataset not like TensorDataset like before but using custom dataset"
      ],
      "metadata": {
        "id": "tgCNclq6zAwp"
      },
      "execution_count": 27,
      "outputs": []
    },
    {
      "cell_type": "code",
      "source": [
        "class TransformedTensorDataset(Dataset):\n",
        "  def __init__(self, x, y, transform=None):\n",
        "    self.x = x\n",
        "    self.y = y\n",
        "    self.transform = transform\n",
        "\n",
        "  def __getitem__(self, index):\n",
        "      x = self.x[index]\n",
        "\n",
        "      if self.transform:\n",
        "        x = self.transform(x)\n",
        "\n",
        "      return x, self.y[index]\n",
        "\n",
        "  def __len__(self):\n",
        "    return len(self.x)"
      ],
      "metadata": {
        "id": "-PxLxL8MzWqa"
      },
      "execution_count": 28,
      "outputs": []
    },
    {
      "cell_type": "code",
      "source": [
        "## Lets redefine the compose\n",
        "\n",
        "composer = Compose([RandomHorizontalFlip(p=1.0),\n",
        "                    Normalize(mean=(.5,), std=(.5,))])\n",
        "\n",
        "dataset = TransformedTensorDataset(x_tensor, y_tensor, composer)"
      ],
      "metadata": {
        "id": "cAZOTuVQ0P7k"
      },
      "execution_count": 29,
      "outputs": []
    },
    {
      "cell_type": "code",
      "source": [
        "## Now we will split our dataset but using different sampler, SubsetRandomSampler\n",
        "\n",
        "def index_splitter(n, splits, seed=13):\n",
        "  idx = torch.arange(n)\n",
        "\n",
        "  splits_tensor = torch.as_tensor(splits)\n",
        "\n",
        "  multiplier = n / splits_tensor.sum()\n",
        "  print(multiplier)\n",
        "  splits_tensor = (multiplier * splits_tensor).long()\n",
        "  print(splits_tensor)\n",
        "  # If there is a difference, throws at the first split\n",
        "  10 # so random_split does not complain\n",
        "  ## not very clear\n",
        "  diff = n - splits_tensor.sum()\n",
        "  print(diff)\n",
        "\n",
        "  splits_tensor[0] += diff\n",
        "\n",
        "  torch.manual_seed(seed)\n",
        "  return random_split(idx, splits_tensor)"
      ],
      "metadata": {
        "id": "6VnV2xnu1Zwp"
      },
      "execution_count": 30,
      "outputs": []
    },
    {
      "cell_type": "code",
      "source": [
        "train_idx, val_idx = index_splitter(len(x_tensor), [80, 20])\n",
        "train_idx\n"
      ],
      "metadata": {
        "colab": {
          "base_uri": "https://localhost:8080/"
        },
        "id": "cSRJ7vLT5CZ8",
        "outputId": "7fd45480-08b0-487c-a2ff-e8c7c7318990"
      },
      "execution_count": 31,
      "outputs": [
        {
          "output_type": "stream",
          "name": "stdout",
          "text": [
            "tensor(3.)\n",
            "tensor([240,  60])\n",
            "tensor(0)\n"
          ]
        },
        {
          "output_type": "execute_result",
          "data": {
            "text/plain": [
              "<torch.utils.data.dataset.Subset at 0x7fb240c3b6d0>"
            ]
          },
          "metadata": {},
          "execution_count": 31
        }
      ]
    },
    {
      "cell_type": "code",
      "source": [
        "train_idx.indices"
      ],
      "metadata": {
        "colab": {
          "base_uri": "https://localhost:8080/"
        },
        "id": "YcgE-Vwa5EcQ",
        "outputId": "d6df10e8-9d35-4e0b-ec55-226ada097487"
      },
      "execution_count": 32,
      "outputs": [
        {
          "output_type": "execute_result",
          "data": {
            "text/plain": [
              "[118,\n",
              " 170,\n",
              " 148,\n",
              " 239,\n",
              " 226,\n",
              " 146,\n",
              " 168,\n",
              " 195,\n",
              " 6,\n",
              " 180,\n",
              " 157,\n",
              " 2,\n",
              " 160,\n",
              " 66,\n",
              " 46,\n",
              " 276,\n",
              " 126,\n",
              " 212,\n",
              " 119,\n",
              " 77,\n",
              " 53,\n",
              " 237,\n",
              " 252,\n",
              " 202,\n",
              " 200,\n",
              " 289,\n",
              " 135,\n",
              " 186,\n",
              " 231,\n",
              " 211,\n",
              " 35,\n",
              " 293,\n",
              " 229,\n",
              " 265,\n",
              " 256,\n",
              " 134,\n",
              " 191,\n",
              " 214,\n",
              " 8,\n",
              " 83,\n",
              " 150,\n",
              " 190,\n",
              " 208,\n",
              " 209,\n",
              " 275,\n",
              " 60,\n",
              " 295,\n",
              " 142,\n",
              " 251,\n",
              " 176,\n",
              " 260,\n",
              " 3,\n",
              " 31,\n",
              " 0,\n",
              " 137,\n",
              " 20,\n",
              " 81,\n",
              " 287,\n",
              " 181,\n",
              " 129,\n",
              " 166,\n",
              " 97,\n",
              " 110,\n",
              " 206,\n",
              " 267,\n",
              " 241,\n",
              " 109,\n",
              " 177,\n",
              " 27,\n",
              " 52,\n",
              " 43,\n",
              " 245,\n",
              " 247,\n",
              " 141,\n",
              " 68,\n",
              " 131,\n",
              " 217,\n",
              " 78,\n",
              " 185,\n",
              " 49,\n",
              " 96,\n",
              " 14,\n",
              " 111,\n",
              " 234,\n",
              " 284,\n",
              " 263,\n",
              " 269,\n",
              " 101,\n",
              " 32,\n",
              " 285,\n",
              " 79,\n",
              " 297,\n",
              " 94,\n",
              " 85,\n",
              " 11,\n",
              " 5,\n",
              " 80,\n",
              " 165,\n",
              " 183,\n",
              " 4,\n",
              " 33,\n",
              " 100,\n",
              " 73,\n",
              " 235,\n",
              " 277,\n",
              " 16,\n",
              " 144,\n",
              " 132,\n",
              " 167,\n",
              " 130,\n",
              " 45,\n",
              " 48,\n",
              " 201,\n",
              " 99,\n",
              " 34,\n",
              " 138,\n",
              " 178,\n",
              " 244,\n",
              " 225,\n",
              " 173,\n",
              " 95,\n",
              " 22,\n",
              " 197,\n",
              " 174,\n",
              " 90,\n",
              " 223,\n",
              " 274,\n",
              " 92,\n",
              " 279,\n",
              " 19,\n",
              " 74,\n",
              " 28,\n",
              " 162,\n",
              " 133,\n",
              " 151,\n",
              " 37,\n",
              " 299,\n",
              " 18,\n",
              " 203,\n",
              " 13,\n",
              " 156,\n",
              " 268,\n",
              " 259,\n",
              " 116,\n",
              " 70,\n",
              " 71,\n",
              " 230,\n",
              " 108,\n",
              " 238,\n",
              " 47,\n",
              " 163,\n",
              " 30,\n",
              " 188,\n",
              " 64,\n",
              " 216,\n",
              " 121,\n",
              " 187,\n",
              " 72,\n",
              " 221,\n",
              " 258,\n",
              " 44,\n",
              " 179,\n",
              " 272,\n",
              " 159,\n",
              " 253,\n",
              " 280,\n",
              " 140,\n",
              " 120,\n",
              " 62,\n",
              " 271,\n",
              " 57,\n",
              " 1,\n",
              " 149,\n",
              " 9,\n",
              " 29,\n",
              " 194,\n",
              " 158,\n",
              " 115,\n",
              " 198,\n",
              " 294,\n",
              " 17,\n",
              " 155,\n",
              " 240,\n",
              " 21,\n",
              " 12,\n",
              " 106,\n",
              " 182,\n",
              " 281,\n",
              " 123,\n",
              " 189,\n",
              " 122,\n",
              " 65,\n",
              " 175,\n",
              " 91,\n",
              " 87,\n",
              " 257,\n",
              " 89,\n",
              " 15,\n",
              " 152,\n",
              " 147,\n",
              " 218,\n",
              " 25,\n",
              " 278,\n",
              " 41,\n",
              " 112,\n",
              " 139,\n",
              " 145,\n",
              " 117,\n",
              " 246,\n",
              " 233,\n",
              " 282,\n",
              " 105,\n",
              " 184,\n",
              " 228,\n",
              " 63,\n",
              " 232,\n",
              " 114,\n",
              " 266,\n",
              " 298,\n",
              " 262,\n",
              " 296,\n",
              " 205,\n",
              " 125,\n",
              " 61,\n",
              " 196,\n",
              " 290,\n",
              " 261,\n",
              " 84,\n",
              " 67,\n",
              " 38,\n",
              " 204,\n",
              " 248,\n",
              " 51,\n",
              " 219,\n",
              " 113,\n",
              " 75,\n",
              " 164,\n",
              " 222,\n",
              " 10,\n",
              " 161]"
            ]
          },
          "metadata": {},
          "execution_count": 32
        }
      ]
    },
    {
      "cell_type": "code",
      "source": [
        "## Now used the sampler\n",
        "\n",
        "train_sampler = SubsetRandomSampler(train_idx)\n",
        "val_sampler = SubsetRandomSampler(val_idx)"
      ],
      "metadata": {
        "id": "E1gRvrAv5lvZ"
      },
      "execution_count": 33,
      "outputs": []
    },
    {
      "cell_type": "code",
      "source": [
        "x_train_tensor = x_tensor[train_idx]\n",
        "y_train_tensor = y_tensor[train_idx]\n",
        "x_val_tensor = x_tensor[val_idx]\n",
        "y_val_tensor = y_tensor[val_idx]\n"
      ],
      "metadata": {
        "id": "o4fvQhL35whx"
      },
      "execution_count": 34,
      "outputs": []
    },
    {
      "cell_type": "code",
      "source": [
        "train_composer = Compose([RandomHorizontalFlip(p=.5),\n",
        "                          Normalize(mean=(.5,), std=(.5,))])\n",
        "\n",
        "val_composer = Compose([Normalize(mean=(.5,), std=(.5,))])"
      ],
      "metadata": {
        "id": "x0u5NsM6S-VT"
      },
      "execution_count": 35,
      "outputs": []
    },
    {
      "cell_type": "code",
      "source": [
        "train_dataset = TransformedTensorDataset(x_train_tensor, y_train_tensor, transform=train_composer)\n",
        "val_dataset = TransformedTensorDataset(x_val_tensor, y_val_tensor, transform=val_composer)\n"
      ],
      "metadata": {
        "id": "ifxrY4DfT87f"
      },
      "execution_count": 36,
      "outputs": []
    },
    {
      "cell_type": "code",
      "source": [
        "train_loader = DataLoader(dataset=train_dataset, batch_size=16, shuffle=True)\n",
        "val_loader = DataLoader(dataset=val_dataset, batch_size=16)"
      ],
      "metadata": {
        "id": "hUdq7fkgUYRT"
      },
      "execution_count": 37,
      "outputs": []
    },
    {
      "cell_type": "markdown",
      "source": [
        "## Weighted Random Sampler"
      ],
      "metadata": {
        "id": "CyASkXpKZhbL"
      }
    },
    {
      "cell_type": "code",
      "source": [
        "classes, counts = y_train_tensor.unique(return_counts= True)\n",
        "print(classes, counts, )"
      ],
      "metadata": {
        "colab": {
          "base_uri": "https://localhost:8080/"
        },
        "id": "CMn6HfL-U0r_",
        "outputId": "4e9dbccb-91ad-4da7-ab30-b53659f534d7"
      },
      "execution_count": 38,
      "outputs": [
        {
          "output_type": "stream",
          "name": "stdout",
          "text": [
            "tensor([0., 1.]) tensor([ 80, 160])\n"
          ]
        }
      ]
    },
    {
      "cell_type": "code",
      "source": [
        "weights = 1.0/ counts.float()\n",
        "print(weights)"
      ],
      "metadata": {
        "colab": {
          "base_uri": "https://localhost:8080/"
        },
        "id": "AeLX00u_Zycu",
        "outputId": "85719ea5-7ab6-4076-8704-1778d6fd222c"
      },
      "execution_count": 39,
      "outputs": [
        {
          "output_type": "stream",
          "name": "stdout",
          "text": [
            "tensor([0.0125, 0.0063])\n"
          ]
        }
      ]
    },
    {
      "cell_type": "code",
      "source": [
        "## Here in pytorch it is not sufficient to give weights to classes but we have to assign weight to each data point\n",
        "sample_weights = weights[y_train_tensor.squeeze().long()]\n",
        "\n",
        "\n",
        "print(sample_weights.shape) ## this way we have assigned the weight to each data point\n",
        "print(sample_weights[:10])\n",
        "print(y_train_tensor[:10].squeeze().long())"
      ],
      "metadata": {
        "colab": {
          "base_uri": "https://localhost:8080/"
        },
        "id": "FCVkvXpbZ9Hn",
        "outputId": "2893485a-fae5-404e-e3ce-43ed7851d313"
      },
      "execution_count": 40,
      "outputs": [
        {
          "output_type": "stream",
          "name": "stdout",
          "text": [
            "torch.Size([240])\n",
            "tensor([0.0063, 0.0063, 0.0063, 0.0063, 0.0063, 0.0125, 0.0063, 0.0063, 0.0063,\n",
            "        0.0063])\n",
            "tensor([1, 1, 1, 1, 1, 0, 1, 1, 1, 1])\n"
          ]
        }
      ]
    },
    {
      "cell_type": "code",
      "source": [
        "## Lets create a sampler\n",
        "\n",
        "generator = torch.Generator()\n",
        "\n",
        "sampler = WeightedRandomSampler(\n",
        "    weights= sample_weights,\n",
        "    num_samples = len(sample_weights),\n",
        "    generator = generator,\n",
        "    replacement= True\n",
        ")\n",
        "\n",
        "## We will set the seed in the generator later on.. first creates the data loader\n",
        "\n",
        "train_loader = DataLoader(dataset=train_dataset, batch_size=16, sampler=sampler)\n",
        "\n",
        "val_loader = DataLoader(dataset=val_dataset, batch_size=16, )"
      ],
      "metadata": {
        "id": "4X7p4Lxoa3Zu"
      },
      "execution_count": 41,
      "outputs": []
    },
    {
      "cell_type": "code",
      "source": [
        "## Lets create a helper function\n",
        "\n",
        "def make_balanced_sampler(y):\n",
        "\n",
        "  classes, counts = y.unique(return_counts=True)\n",
        "  weights = 1.0/counts.float()\n",
        "  sample_weights = weights[y.squeeze().long()]\n",
        "\n",
        "  generator = torch.Generator()\n",
        "\n",
        "  sampler = WeightedRandomSampler(\n",
        "      weights = sample_weights,\n",
        "      num_samples = len(sample_weights),\n",
        "      generator = generator,\n",
        "      replacement = True\n",
        "  )\n",
        "  return sampler"
      ],
      "metadata": {
        "id": "5RQZ0BwddCku"
      },
      "execution_count": 42,
      "outputs": []
    },
    {
      "cell_type": "code",
      "source": [
        "sampler = make_balanced_sampler(y_train_tensor)"
      ],
      "metadata": {
        "id": "NCIzQXm0w110"
      },
      "execution_count": 43,
      "outputs": []
    },
    {
      "cell_type": "code",
      "source": [
        "## Time to set the seed\n",
        "train_loader.sampler.generator.manual_seed(42)\n",
        "random.seed(42) ## Why we have this extra seed, as this is for python random module, after pytorch 0.8 some of the transformation is using this."
      ],
      "metadata": {
        "id": "GgUZ0qmzw5f9"
      },
      "execution_count": 44,
      "outputs": []
    },
    {
      "cell_type": "code",
      "source": [
        "## Now lets check how many +ve data points we have\n",
        "## iter(train_loader) is giving the next batch.\n",
        "torch.tensor([t[1].sum() for t in iter(train_loader)]).sum()\n",
        "\n",
        "## Conclusion is now we have 123 images of +ve classes, hence we have oversampled the -ve classes which is good.\n",
        "## Now e have a balanced dataset"
      ],
      "metadata": {
        "colab": {
          "base_uri": "https://localhost:8080/"
        },
        "id": "RYFWffHCxJAo",
        "outputId": "2b08ce28-715e-4ba7-c917-2aefcff2d4d4"
      },
      "execution_count": 45,
      "outputs": [
        {
          "output_type": "execute_result",
          "data": {
            "text/plain": [
              "tensor(123.)"
            ]
          },
          "metadata": {},
          "execution_count": 45
        }
      ]
    },
    {
      "cell_type": "code",
      "source": [
        "len([t[1].sum() for t in iter(train_loader)])"
      ],
      "metadata": {
        "colab": {
          "base_uri": "https://localhost:8080/"
        },
        "id": "Cva5OsReyG0Z",
        "outputId": "91de59c9-fcb9-4216-d0b2-57413a706765"
      },
      "execution_count": 46,
      "outputs": [
        {
          "output_type": "execute_result",
          "data": {
            "text/plain": [
              "15"
            ]
          },
          "metadata": {},
          "execution_count": 46
        }
      ]
    },
    {
      "cell_type": "code",
      "source": [
        "[t[1].sum() for t in iter(train_loader)]"
      ],
      "metadata": {
        "colab": {
          "base_uri": "https://localhost:8080/"
        },
        "id": "RrIINTY5yOrI",
        "outputId": "e403d6b9-6389-4285-fadf-fc6a42a00c55"
      },
      "execution_count": 47,
      "outputs": [
        {
          "output_type": "execute_result",
          "data": {
            "text/plain": [
              "[tensor(7.),\n",
              " tensor(3.),\n",
              " tensor(8.),\n",
              " tensor(6.),\n",
              " tensor(11.),\n",
              " tensor(7.),\n",
              " tensor(7.),\n",
              " tensor(8.),\n",
              " tensor(9.),\n",
              " tensor(4.),\n",
              " tensor(9.),\n",
              " tensor(3.),\n",
              " tensor(7.),\n",
              " tensor(8.),\n",
              " tensor(9.)]"
            ]
          },
          "metadata": {},
          "execution_count": 47
        }
      ]
    },
    {
      "cell_type": "code",
      "source": [
        "from inspect import Attribute\n",
        "## Lets update our stepbystep set_seed method\n",
        "\n",
        "def set_seed(self, seed=42):\n",
        "  torch.backends.cudnn.deterministic = True\n",
        "  torch.backends.cudnn.benchmark = False\n",
        "  torch.manual_seed(seed)\n",
        "  np.random.seed(seed)\n",
        "  random.seed(seed)\n",
        "  try:\n",
        "    self.train_loader.sampler.generator.manual_seed(seed)\n",
        "  except AttributeError:\n",
        "    pass\n",
        "\n",
        "  setattr(StepByStep, 'set_seed', set_seed)"
      ],
      "metadata": {
        "id": "2ZndgQ0SyXff"
      },
      "execution_count": 48,
      "outputs": []
    },
    {
      "cell_type": "markdown",
      "source": [
        "## Putting all together"
      ],
      "metadata": {
        "id": "0znJMiOr4E5Z"
      }
    },
    {
      "cell_type": "code",
      "source": [
        "## Build tensors from numpy arrays BEFORE split\n",
        "x_tensor = torch.as_tensor(images/255).float()\n",
        "y_tensor = torch.as_tensor(labels.reshape(-1,1)).float()\n",
        "\n",
        "## Uses index_splitter to generate indices\n",
        "train_idx, val_idx = index_splitter(len(x_tensor), [80,20])\n",
        "\n",
        "## Uses indices to perform the split\n",
        "x_train_tensor = x_tensor[train_idx]\n",
        "y_train_tensor = y_tensor[train_idx]\n",
        "x_val_tensor = x_tensor[val_idx]\n",
        "y_val_tensor = y_tensor[val_idx]\n",
        "\n",
        "# Buils different composers because of data augmentation on training set\n",
        "train_composer = Compose([RandomHorizontalFlip(p=0.5),\n",
        "                         Normalize(mean=(.5,), std=(.5,))])\n",
        "val_composer = Compose([Normalize(mean=(.5), std=(.5,))])\n",
        "\n",
        "train_dataset = TransformedTensorDataset(\n",
        "    x_train_tensor, y_train_tensor, transform=train_composer\n",
        ")\n",
        "\n",
        "val_dataset = TransformedTensorDataset(\n",
        "    x_val_tensor, y_val_tensor, transform=val_composer\n",
        ")\n",
        "\n",
        "## Builds weighted random sampler to handle imbalanced classes\n",
        "sampler = make_balanced_sampler(y_train_tensor)\n",
        "\n",
        "train_loader = DataLoader(\n",
        "    dataset=train_dataset, batch_size=16, sampler=sampler\n",
        ")\n",
        "\n",
        "val_loader = DataLoader(dataset=val_dataset, batch_size=16)"
      ],
      "metadata": {
        "colab": {
          "base_uri": "https://localhost:8080/"
        },
        "id": "OTTeLDFN0QK_",
        "outputId": "9cce97cc-53bf-4e0b-d29e-d0369089a9b2"
      },
      "execution_count": 49,
      "outputs": [
        {
          "output_type": "stream",
          "name": "stdout",
          "text": [
            "tensor(3.)\n",
            "tensor([240,  60])\n",
            "tensor(0)\n"
          ]
        }
      ]
    },
    {
      "cell_type": "markdown",
      "source": [
        "### All done with data preparation"
      ],
      "metadata": {
        "id": "IagKt39Y6Rap"
      }
    },
    {
      "cell_type": "markdown",
      "source": [
        "## Pixels as Features"
      ],
      "metadata": {
        "id": "3wTSHxp56Wn-"
      }
    },
    {
      "cell_type": "code",
      "source": [
        "## Lets try flattening up the each pixel\n",
        "\n",
        "dummy_xs, dummy_ys = next(iter(train_loader))\n",
        "dummy_xs.shape"
      ],
      "metadata": {
        "colab": {
          "base_uri": "https://localhost:8080/"
        },
        "id": "7LByGgUB4DOo",
        "outputId": "ba9044a5-9d93-4d0d-dce7-d4afff2449ed"
      },
      "execution_count": 50,
      "outputs": [
        {
          "output_type": "execute_result",
          "data": {
            "text/plain": [
              "torch.Size([16, 1, 5, 5])"
            ]
          },
          "metadata": {},
          "execution_count": 50
        }
      ]
    },
    {
      "cell_type": "code",
      "source": [
        "flattener = nn.Flatten()\n",
        "dummy_xs_flat = flattener(dummy_xs)\n",
        "\n",
        "print(dummy_xs_flat.shape)\n",
        "print(dummy_xs_flat[0])"
      ],
      "metadata": {
        "colab": {
          "base_uri": "https://localhost:8080/"
        },
        "id": "2Iy9Iy7V608G",
        "outputId": "10f12971-6a43-4a82-c1dc-0f117d9f26ac"
      },
      "execution_count": 51,
      "outputs": [
        {
          "output_type": "stream",
          "name": "stdout",
          "text": [
            "torch.Size([16, 25])\n",
            "tensor([-1., -1., -1.,  1., -1., -1., -1., -1.,  1., -1., -1., -1., -1.,  1.,\n",
            "        -1., -1., -1., -1.,  1., -1., -1., -1., -1.,  1., -1.])\n"
          ]
        }
      ]
    },
    {
      "cell_type": "markdown",
      "source": [
        "## Shallow Model"
      ],
      "metadata": {
        "id": "3P07keLKQ4Ff"
      }
    },
    {
      "cell_type": "markdown",
      "source": [
        "## Model Configuration"
      ],
      "metadata": {
        "id": "hsXlRa_WQS8I"
      }
    },
    {
      "cell_type": "code",
      "source": [
        "lr= 0.1\n",
        "\n",
        "torch.manual_seed(17)\n",
        "# Now we can create a model\n",
        "\n",
        "model_logistic = nn.Sequential()\n",
        "model_logistic.add_module('flatten', nn.Flatten())\n",
        "model_logistic.add_module('output', nn.Linear(25, 1, bias=False))\n",
        "model_logistic.add_module('sigmoid', nn.Sigmoid())\n",
        "\n",
        "## Defines a SGD optimizer to update the parameters\n",
        "optimizer_logistic = optim.SGD(\n",
        "    model_logistic.parameters(), lr=lr\n",
        ")\n",
        "\n",
        "binary_loss_fn = nn.BCELoss()"
      ],
      "metadata": {
        "id": "XSIqNZUt7Qrz"
      },
      "execution_count": 55,
      "outputs": []
    },
    {
      "cell_type": "markdown",
      "source": [
        "## Model Training"
      ],
      "metadata": {
        "id": "waC0bQ_dQVcB"
      }
    },
    {
      "cell_type": "code",
      "source": [
        "n_epochs = 100\n",
        "\n",
        "sbs_logistic = StepByStep(\n",
        "    model_logistic, binary_loss_fn, optimizer_logistic\n",
        ")\n",
        "\n",
        "sbs_logistic.set_loaders(train_loader, val_loader)\n",
        "sbs_logistic.train(n_epochs)"
      ],
      "metadata": {
        "id": "-qN7W147P_ub"
      },
      "execution_count": 56,
      "outputs": []
    },
    {
      "cell_type": "code",
      "source": [
        "fig = sbs_logistic.plot_losses()"
      ],
      "metadata": {
        "colab": {
          "base_uri": "https://localhost:8080/",
          "height": 297
        },
        "id": "aIweplbhQsmI",
        "outputId": "f1bdc693-bd29-4338-d932-8217bfcf1c55"
      },
      "execution_count": 57,
      "outputs": [
        {
          "output_type": "display_data",
          "data": {
            "text/plain": [
              "<Figure size 720x288 with 1 Axes>"
            ],
            "image/png": "[encoded data removed]"
          },
          "metadata": {
            "needs_background": "light"
          }
        }
      ]
    },
    {
      "cell_type": "markdown",
      "source": [
        "## Deep-ish Model"
      ],
      "metadata": {
        "id": "jskF_KCyQ69y"
      }
    },
    {
      "cell_type": "markdown",
      "source": [
        "## Model Configuration"
      ],
      "metadata": {
        "id": "2aCOiuLIRuWk"
      }
    },
    {
      "cell_type": "code",
      "source": [
        "lr = 0.1\n",
        "\n",
        "torch.manual_seed(17)\n",
        "\n",
        "model_nn = nn.Sequential()\n",
        "model_nn.add_module('flatten', nn.Flatten())\n",
        "model_nn.add_module('hidden0', nn.Linear(25, 5, bias=False))\n",
        "model_nn.add_module('hidden1', nn.Linear(5,3, bias=False))\n",
        "model_nn.add_module('output', nn.Linear(3,1, bias=False))\n",
        "model_nn.add_module('sigmoid', nn.Sigmoid())\n",
        "\n",
        "optimizer_nn = optim.SGD(model_nn.parameters(), lr=lr)\n",
        "\n",
        "binary_loss_fn = nn.BCELoss()"
      ],
      "metadata": {
        "id": "dikSSGK5Qw_Y"
      },
      "execution_count": 58,
      "outputs": []
    },
    {
      "cell_type": "code",
      "source": [
        "n_epochs = 100\n",
        "\n",
        "sbs_nn = StepByStep(\n",
        "    model_nn, binary_loss_fn, optimizer_nn\n",
        ")\n",
        "\n",
        "sbs_nn.set_loaders(train_loader, val_loader)\n",
        "sbs_nn.train(n_epochs)\n",
        "\n",
        "fig = sbs_nn.plot_losses()"
      ],
      "metadata": {
        "colab": {
          "base_uri": "https://localhost:8080/",
          "height": 297
        },
        "id": "qxpAOOAJSpXy",
        "outputId": "c3b69f92-3d51-49a6-e0e2-6a6036ea9d86"
      },
      "execution_count": 61,
      "outputs": [
        {
          "output_type": "display_data",
          "data": {
            "text/plain": [
              "<Figure size 720x288 with 1 Axes>"
            ],
            "image/png": "[encoded data removed]"
          },
          "metadata": {
            "needs_background": "light"
          }
        }
      ]
    },
    {
      "cell_type": "code",
      "source": [
        ""
      ],
      "metadata": {
        "id": "MsmAZFYWSyQw"
      },
      "execution_count": null,
      "outputs": []
    }
  ]
}